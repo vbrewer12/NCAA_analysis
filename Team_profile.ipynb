{
 "cells": [
  {
   "cell_type": "code",
   "execution_count": null,
   "id": "b6038214-0846-4f61-8601-14c0854ee1c2",
   "metadata": {
    "scrolled": true
   },
   "outputs": [],
   "source": [
    "#!pip install pandas\n",
    "#!pip install requests\n",
    "#!pip install sqlalchemy\n",
    "#!pip install flask"
   ]
  },
  {
   "cell_type": "code",
   "execution_count": 2,
   "id": "baa1082f-2652-4314-955a-fadbe9751809",
   "metadata": {},
   "outputs": [],
   "source": [
    "import requests\n",
    "import json\n",
    "import pandas as pd\n",
    "import numpy as np\n",
    "import sqlalchemy as sql\n",
    "from sqlalchemy import inspect"
   ]
  },
  {
   "cell_type": "code",
   "execution_count": 16,
   "id": "9f99b6e3-6b74-4ecf-9b89-9426f22b8c95",
   "metadata": {},
   "outputs": [
    {
     "name": "stdout",
     "output_type": "stream",
     "text": [
      "{'get': 'countries', 'parameters': [], 'errors': [], 'results': 31, 'response': [{'id': 1, 'name': 'USA', 'code': 'US', 'flag': 'https://media.api-sports.io/flags/us.svg'}, {'id': 2, 'name': 'Japan', 'code': 'JP', 'flag': 'https://media.api-sports.io/flags/jp.svg'}, {'id': 3, 'name': 'South-Korea', 'code': 'KR', 'flag': 'https://media.api-sports.io/flags/kr.svg'}, {'id': 4, 'name': 'Australia', 'code': 'AS', 'flag': 'https://media.api-sports.io/flags/as.svg'}, {'id': 5, 'name': 'Austria', 'code': 'AT', 'flag': 'https://media.api-sports.io/flags/at.svg'}, {'id': 6, 'name': 'Colombia', 'code': 'CO', 'flag': 'https://media.api-sports.io/flags/co.svg'}, {'id': 7, 'name': 'Cuba', 'code': 'CU', 'flag': 'https://media.api-sports.io/flags/cu.svg'}, {'id': 8, 'name': 'Czech-Republic', 'code': 'CZ', 'flag': 'https://media.api-sports.io/flags/cz.svg'}, {'id': 9, 'name': 'Dominican-Republic', 'code': 'DO', 'flag': 'https://media.api-sports.io/flags/do.svg'}, {'id': 10, 'name': 'Finland', 'code': 'FI', 'flag': 'https://media.api-sports.io/flags/fi.svg'}, {'id': 11, 'name': 'France', 'code': 'FR', 'flag': 'https://media.api-sports.io/flags/fr.svg'}, {'id': 12, 'name': 'Germany', 'code': 'DE', 'flag': 'https://media.api-sports.io/flags/de.svg'}, {'id': 13, 'name': 'Italy', 'code': 'IT', 'flag': 'https://media.api-sports.io/flags/it.svg'}, {'id': 14, 'name': 'Lithuania', 'code': 'LT', 'flag': 'https://media.api-sports.io/flags/lt.svg'}, {'id': 15, 'name': 'Mexico', 'code': 'MX', 'flag': 'https://media.api-sports.io/flags/mx.svg'}, {'id': 16, 'name': 'Netherlands', 'code': 'NL', 'flag': 'https://media.api-sports.io/flags/nl.svg'}, {'id': 17, 'name': 'Norway', 'code': 'NO', 'flag': 'https://media.api-sports.io/flags/no.svg'}, {'id': 18, 'name': 'Puerto-Rico', 'code': 'PR', 'flag': 'https://media.api-sports.io/flags/pr.svg'}, {'id': 19, 'name': 'Spain', 'code': 'ES', 'flag': 'https://media.api-sports.io/flags/es.svg'}, {'id': 20, 'name': 'Sweden', 'code': 'SE', 'flag': 'https://media.api-sports.io/flags/se.svg'}, {'id': 21, 'name': 'Switzerland', 'code': 'CH', 'flag': 'https://media.api-sports.io/flags/ch.svg'}, {'id': 22, 'name': 'Taiwan', 'code': 'TW', 'flag': 'https://media.api-sports.io/flags/tw.svg'}, {'id': 23, 'name': 'United-Kingdom', 'code': 'GB', 'flag': 'https://media.api-sports.io/flags/gb.svg'}, {'id': 24, 'name': 'Venezuela', 'code': 'VE', 'flag': 'https://media.api-sports.io/flags/ve.svg'}, {'id': 25, 'name': 'Asia', 'code': None, 'flag': None}, {'id': 26, 'name': 'Europe', 'code': None, 'flag': None}, {'id': 27, 'name': 'North-Central-America', 'code': None, 'flag': None}, {'id': 28, 'name': 'World', 'code': None, 'flag': None}, {'id': 29, 'name': 'Nicaragua', 'code': 'NI', 'flag': 'https://media.api-sports.io/flags/ni.svg'}, {'id': 30, 'name': 'Russia', 'code': 'RU', 'flag': 'https://media.api-sports.io/flags/ru.svg'}, {'id': 31, 'name': 'Belgium', 'code': 'BE', 'flag': 'https://media.api-sports.io/flags/be.svg'}]}\n"
     ]
    }
   ],
   "source": [
    "url = \"https://v1.baseball.api-sports.io/countries/\"\n",
    "\n",
    "headers = {\n",
    "  'x-rapidapi-key': 'b7e2dc2cc0c6289fd93a55ea76e69c76',\n",
    "  'x-rapidapi-host': 'v1.baseball.api-sports.io'\n",
    "}\n",
    "\n",
    "response = requests.request(\"GET\", url, headers=headers)\n",
    "data = response.json()\n",
    "\n",
    "print(data)"
   ]
  },
  {
   "cell_type": "code",
   "execution_count": 19,
   "id": "5830f6ae-d1ff-4c6a-8bfa-33a14c919686",
   "metadata": {},
   "outputs": [
    {
     "name": "stdout",
     "output_type": "stream",
     "text": [
      "{\n",
      "  \"get\": \"countries\",\n",
      "  \"parameters\": [],\n",
      "  \"errors\": [],\n",
      "  \"results\": 31,\n",
      "  \"response\": [\n",
      "    {\n",
      "      \"id\": 1,\n",
      "      \"name\": \"USA\",\n",
      "      \"code\": \"US\",\n",
      "      \"flag\": \"https://media.api-sports.io/flags/us.svg\"\n",
      "    },\n",
      "    {\n",
      "      \"id\": 2,\n",
      "      \"name\": \"Japan\",\n",
      "      \"code\": \"JP\",\n",
      "      \"flag\": \"https://media.api-sports.io/flags/jp.svg\"\n",
      "    },\n",
      "    {\n",
      "      \"id\": 3,\n",
      "      \"name\": \"South-Korea\",\n",
      "      \"code\": \"KR\",\n",
      "      \"flag\": \"https://media.api-sports.io/flags/kr.svg\"\n",
      "    },\n",
      "    {\n",
      "      \"id\": 4,\n",
      "      \"name\": \"Australia\",\n",
      "      \"code\": \"AS\",\n",
      "      \"flag\": \"https://media.api-sports.io/flags/as.svg\"\n",
      "    },\n",
      "    {\n",
      "      \"id\": 5,\n",
      "      \"name\": \"Austria\",\n",
      "      \"code\": \"AT\",\n",
      "      \"flag\": \"https://media.api-sports.io/flags/at.svg\"\n",
      "    },\n",
      "    {\n",
      "      \"id\": 6,\n",
      "      \"name\": \"Colombia\",\n",
      "      \"code\": \"CO\",\n",
      "      \"flag\": \"https://media.api-sports.io/flags/co.svg\"\n",
      "    },\n",
      "    {\n",
      "      \"id\": 7,\n",
      "      \"name\": \"Cuba\",\n",
      "      \"code\": \"CU\",\n",
      "      \"flag\": \"https://media.api-sports.io/flags/cu.svg\"\n",
      "    },\n",
      "    {\n",
      "      \"id\": 8,\n",
      "      \"name\": \"Czech-Republic\",\n",
      "      \"code\": \"CZ\",\n",
      "      \"flag\": \"https://media.api-sports.io/flags/cz.svg\"\n",
      "    },\n",
      "    {\n",
      "      \"id\": 9,\n",
      "      \"name\": \"Dominican-Republic\",\n",
      "      \"code\": \"DO\",\n",
      "      \"flag\": \"https://media.api-sports.io/flags/do.svg\"\n",
      "    },\n",
      "    {\n",
      "      \"id\": 10,\n",
      "      \"name\": \"Finland\",\n",
      "      \"code\": \"FI\",\n",
      "      \"flag\": \"https://media.api-sports.io/flags/fi.svg\"\n",
      "    },\n",
      "    {\n",
      "      \"id\": 11,\n",
      "      \"name\": \"France\",\n",
      "      \"code\": \"FR\",\n",
      "      \"flag\": \"https://media.api-sports.io/flags/fr.svg\"\n",
      "    },\n",
      "    {\n",
      "      \"id\": 12,\n",
      "      \"name\": \"Germany\",\n",
      "      \"code\": \"DE\",\n",
      "      \"flag\": \"https://media.api-sports.io/flags/de.svg\"\n",
      "    },\n",
      "    {\n",
      "      \"id\": 13,\n",
      "      \"name\": \"Italy\",\n",
      "      \"code\": \"IT\",\n",
      "      \"flag\": \"https://media.api-sports.io/flags/it.svg\"\n",
      "    },\n",
      "    {\n",
      "      \"id\": 14,\n",
      "      \"name\": \"Lithuania\",\n",
      "      \"code\": \"LT\",\n",
      "      \"flag\": \"https://media.api-sports.io/flags/lt.svg\"\n",
      "    },\n",
      "    {\n",
      "      \"id\": 15,\n",
      "      \"name\": \"Mexico\",\n",
      "      \"code\": \"MX\",\n",
      "      \"flag\": \"https://media.api-sports.io/flags/mx.svg\"\n",
      "    },\n",
      "    {\n",
      "      \"id\": 16,\n",
      "      \"name\": \"Netherlands\",\n",
      "      \"code\": \"NL\",\n",
      "      \"flag\": \"https://media.api-sports.io/flags/nl.svg\"\n",
      "    },\n",
      "    {\n",
      "      \"id\": 17,\n",
      "      \"name\": \"Norway\",\n",
      "      \"code\": \"NO\",\n",
      "      \"flag\": \"https://media.api-sports.io/flags/no.svg\"\n",
      "    },\n",
      "    {\n",
      "      \"id\": 18,\n",
      "      \"name\": \"Puerto-Rico\",\n",
      "      \"code\": \"PR\",\n",
      "      \"flag\": \"https://media.api-sports.io/flags/pr.svg\"\n",
      "    },\n",
      "    {\n",
      "      \"id\": 19,\n",
      "      \"name\": \"Spain\",\n",
      "      \"code\": \"ES\",\n",
      "      \"flag\": \"https://media.api-sports.io/flags/es.svg\"\n",
      "    },\n",
      "    {\n",
      "      \"id\": 20,\n",
      "      \"name\": \"Sweden\",\n",
      "      \"code\": \"SE\",\n",
      "      \"flag\": \"https://media.api-sports.io/flags/se.svg\"\n",
      "    },\n",
      "    {\n",
      "      \"id\": 21,\n",
      "      \"name\": \"Switzerland\",\n",
      "      \"code\": \"CH\",\n",
      "      \"flag\": \"https://media.api-sports.io/flags/ch.svg\"\n",
      "    },\n",
      "    {\n",
      "      \"id\": 22,\n",
      "      \"name\": \"Taiwan\",\n",
      "      \"code\": \"TW\",\n",
      "      \"flag\": \"https://media.api-sports.io/flags/tw.svg\"\n",
      "    },\n",
      "    {\n",
      "      \"id\": 23,\n",
      "      \"name\": \"United-Kingdom\",\n",
      "      \"code\": \"GB\",\n",
      "      \"flag\": \"https://media.api-sports.io/flags/gb.svg\"\n",
      "    },\n",
      "    {\n",
      "      \"id\": 24,\n",
      "      \"name\": \"Venezuela\",\n",
      "      \"code\": \"VE\",\n",
      "      \"flag\": \"https://media.api-sports.io/flags/ve.svg\"\n",
      "    },\n",
      "    {\n",
      "      \"id\": 25,\n",
      "      \"name\": \"Asia\",\n",
      "      \"code\": null,\n",
      "      \"flag\": null\n",
      "    },\n",
      "    {\n",
      "      \"id\": 26,\n",
      "      \"name\": \"Europe\",\n",
      "      \"code\": null,\n",
      "      \"flag\": null\n",
      "    },\n",
      "    {\n",
      "      \"id\": 27,\n",
      "      \"name\": \"North-Central-America\",\n",
      "      \"code\": null,\n",
      "      \"flag\": null\n",
      "    },\n",
      "    {\n",
      "      \"id\": 28,\n",
      "      \"name\": \"World\",\n",
      "      \"code\": null,\n",
      "      \"flag\": null\n",
      "    },\n",
      "    {\n",
      "      \"id\": 29,\n",
      "      \"name\": \"Nicaragua\",\n",
      "      \"code\": \"NI\",\n",
      "      \"flag\": \"https://media.api-sports.io/flags/ni.svg\"\n",
      "    },\n",
      "    {\n",
      "      \"id\": 30,\n",
      "      \"name\": \"Russia\",\n",
      "      \"code\": \"RU\",\n",
      "      \"flag\": \"https://media.api-sports.io/flags/ru.svg\"\n",
      "    },\n",
      "    {\n",
      "      \"id\": 31,\n",
      "      \"name\": \"Belgium\",\n",
      "      \"code\": \"BE\",\n",
      "      \"flag\": \"https://media.api-sports.io/flags/be.svg\"\n",
      "    }\n",
      "  ]\n",
      "}\n"
     ]
    }
   ],
   "source": [
    "print(json.dumps(data, indent =2))"
   ]
  },
  {
   "cell_type": "code",
   "execution_count": 20,
   "id": "ed9054b2-3060-4d6e-8b9d-d7b78d990d24",
   "metadata": {},
   "outputs": [
    {
     "data": {
      "text/plain": [
       "5"
      ]
     },
     "execution_count": 20,
     "metadata": {},
     "output_type": "execute_result"
    }
   ],
   "source": [
    "len(data)"
   ]
  },
  {
   "cell_type": "code",
   "execution_count": 21,
   "id": "db6c554a-9b3f-4bc8-99f9-10f0f58bc585",
   "metadata": {},
   "outputs": [
    {
     "data": {
      "text/plain": [
       "dict_keys(['get', 'parameters', 'errors', 'results', 'response'])"
      ]
     },
     "execution_count": 21,
     "metadata": {},
     "output_type": "execute_result"
    }
   ],
   "source": [
    "data.keys()"
   ]
  },
  {
   "cell_type": "code",
   "execution_count": 23,
   "id": "b783c777-ac2e-42cb-9db0-39f8c32841f9",
   "metadata": {},
   "outputs": [],
   "source": [
    "country_list = [c['name'] for c in data['response']]"
   ]
  },
  {
   "cell_type": "code",
   "execution_count": 24,
   "id": "aa5a0353-a88b-4cf5-a733-4a9508f418e3",
   "metadata": {},
   "outputs": [
    {
     "data": {
      "text/plain": [
       "['USA',\n",
       " 'Japan',\n",
       " 'South-Korea',\n",
       " 'Australia',\n",
       " 'Austria',\n",
       " 'Colombia',\n",
       " 'Cuba',\n",
       " 'Czech-Republic',\n",
       " 'Dominican-Republic',\n",
       " 'Finland',\n",
       " 'France',\n",
       " 'Germany',\n",
       " 'Italy',\n",
       " 'Lithuania',\n",
       " 'Mexico',\n",
       " 'Netherlands',\n",
       " 'Norway',\n",
       " 'Puerto-Rico',\n",
       " 'Spain',\n",
       " 'Sweden',\n",
       " 'Switzerland',\n",
       " 'Taiwan',\n",
       " 'United-Kingdom',\n",
       " 'Venezuela',\n",
       " 'Asia',\n",
       " 'Europe',\n",
       " 'North-Central-America',\n",
       " 'World',\n",
       " 'Nicaragua',\n",
       " 'Russia',\n",
       " 'Belgium']"
      ]
     },
     "execution_count": 24,
     "metadata": {},
     "output_type": "execute_result"
    }
   ],
   "source": [
    "country_list"
   ]
  },
  {
   "cell_type": "code",
   "execution_count": 36,
   "id": "7642d831-222a-4f0d-b6ef-4c27151cd6c4",
   "metadata": {},
   "outputs": [
    {
     "name": "stdout",
     "output_type": "stream",
     "text": [
      "FL (ID: 67)\n",
      "IL (ID: 3)\n",
      "MLB (ID: 1)\n",
      "MLB - Spring Training (ID: 71)\n",
      "PCL (ID: 4)\n",
      "Triple-A East (ID: 60)\n",
      "Triple-A National Championship (ID: 33)\n",
      "Triple-A West (ID: 61)\n",
      "MLB league not found.\n"
     ]
    }
   ],
   "source": [
    "leagues_url = \"https://v1.baseball.api-sports.io/leagues\"\n",
    "params = {'country': \"USA\"}\n",
    "leagues_response = requests.get(leagues_url, headers=headers, params=params)\n",
    "leagues_data = leagues_response.json()\n",
    "\n",
    "mlb_league_id = None\n",
    "\n",
    "for league in leagues_data[\"response\"]:\n",
    "    print(f\"{league['name']} (ID: {league['id']})\")\n",
    "if mlb_league_id:\n",
    "    teams_url = \"https://v1.baseball.api-sports.io/teams\"\n",
    "    team_response = requests.get(teams_url, headers=headers, params={\n",
    "    \"league\": 1,\n",
    "    \"country\": \"USA\"\n",
    "})\n",
    "    teams_data = team_response.json()\n",
    "\n",
    "    print(\"\\nUSA MLB Teams:\")\n",
    "    for team in teams_data[\"response\"]:\n",
    "        print(f\"- {team['name']} ({team['city']})\")\n",
    "else:\n",
    "    print(\"MLB league not found.\")\n"
   ]
  },
  {
   "cell_type": "code",
   "execution_count": 49,
   "id": "4a0a08b4-f9c4-4fae-9e27-0e0c900a3309",
   "metadata": {},
   "outputs": [
    {
     "name": "stdout",
     "output_type": "stream",
     "text": [
      "\n",
      "✅ Active MLB Teams:\n"
     ]
    }
   ],
   "source": [
    "headers = {\n",
    "    'x-rapidapi-key': 'b7e2dc2cc0c6289fd93a55ea76e69c76',\n",
    "    'x-rapidapi-host': 'v1.baseball.api-sports.io'\n",
    "}\n",
    "\n",
    "teams_url = \"https://v1.baseball.api-sports.io/teams\"\n",
    "params= {'league':1,\n",
    "         \"season\": 2024}\n",
    "response = requests.get(teams_url, headers = headers, params= params)\n",
    "teams_data = response.json()\n",
    "print(\"\\n✅ Active MLB Teams:\")\n",
    "for team in teams_data['response']:\n",
    "    if team.get('active'):\n",
    "        print(f\"- {team['name']} ({team['city']})\")"
   ]
  },
  {
   "cell_type": "code",
   "execution_count": 47,
   "id": "f75caf0d-46cf-4996-b1fc-c1744f224370",
   "metadata": {},
   "outputs": [],
   "source": [
    "import requests\n",
    "import json\n",
    "\n",
    "# Headers for API authentication\n",
    "headers = {\n",
    "    'x-rapidapi-key': 'b7e2dc2cc0c6289fd93a55ea76e69c76',\n",
    "    'x-rapidapi-host': 'v1.baseball.api-sports.io'\n",
    "}\n",
    "\n",
    "# Step: Call /teams for MLB league (ID = 1)\n",
    "teams_url = \"https://v1.baseball.api-sports.io/teams\"\n",
    "params = {\n",
    "    \"league\": 1,       # MLB\n",
    "    \"season\": 2024     # Optional: specify season\n",
    "}\n",
    "\n",
    "response = requests.get(teams_url, headers=headers, params=params)\n",
    "teams_data = response.json()\n",
    "\n",
    "# Filter and print only active teams\n",
    "print(\"\\n✅ Active MLB Teams:\")\n",
    "for team in teams_data['response']:\n",
    "    if team.get('active'):\n",
    "        print(f\"- {team['name']} ({team['city']})\")\n"
   ]
  },
  {
   "cell_type": "code",
   "execution_count": 48,
   "id": "5ca170a0-335e-40bf-b728-6e55bf933c5e",
   "metadata": {},
   "outputs": [
    {
     "data": {
      "text/plain": [
       "[]"
      ]
     },
     "execution_count": 48,
     "metadata": {},
     "output_type": "execute_result"
    }
   ],
   "source": [
    "active_teams"
   ]
  }
 ],
 "metadata": {
  "kernelspec": {
   "display_name": "Python 3 (ipykernel)",
   "language": "python",
   "name": "python3"
  },
  "language_info": {
   "codemirror_mode": {
    "name": "ipython",
    "version": 3
   },
   "file_extension": ".py",
   "mimetype": "text/x-python",
   "name": "python",
   "nbconvert_exporter": "python",
   "pygments_lexer": "ipython3",
   "version": "3.9.21"
  }
 },
 "nbformat": 4,
 "nbformat_minor": 5
}
