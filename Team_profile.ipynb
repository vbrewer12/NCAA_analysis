{
 "cells": [
  {
   "cell_type": "code",
   "execution_count": 3,
   "id": "b6038214-0846-4f61-8601-14c0854ee1c2",
   "metadata": {
    "collapsed": true,
    "jupyter": {
     "outputs_hidden": true
    },
    "scrolled": true
   },
   "outputs": [
    {
     "name": "stdout",
     "output_type": "stream",
     "text": [
      "Requirement already satisfied: pandas in c:\\users\\owner\\anaconda3\\envs\\tf_env\\lib\\site-packages (2.2.3)\n",
      "Requirement already satisfied: numpy>=1.22.4 in c:\\users\\owner\\anaconda3\\envs\\tf_env\\lib\\site-packages (from pandas) (1.26.4)\n",
      "Requirement already satisfied: python-dateutil>=2.8.2 in c:\\users\\owner\\anaconda3\\envs\\tf_env\\lib\\site-packages (from pandas) (2.9.0.post0)\n",
      "Requirement already satisfied: pytz>=2020.1 in c:\\users\\owner\\anaconda3\\envs\\tf_env\\lib\\site-packages (from pandas) (2025.2)\n",
      "Requirement already satisfied: tzdata>=2022.7 in c:\\users\\owner\\anaconda3\\envs\\tf_env\\lib\\site-packages (from pandas) (2025.2)\n",
      "Requirement already satisfied: six>=1.5 in c:\\users\\owner\\anaconda3\\envs\\tf_env\\lib\\site-packages (from python-dateutil>=2.8.2->pandas) (1.17.0)\n",
      "Requirement already satisfied: requests in c:\\users\\owner\\anaconda3\\envs\\tf_env\\lib\\site-packages (2.32.3)\n",
      "Requirement already satisfied: charset-normalizer<4,>=2 in c:\\users\\owner\\anaconda3\\envs\\tf_env\\lib\\site-packages (from requests) (3.3.2)\n",
      "Requirement already satisfied: idna<4,>=2.5 in c:\\users\\owner\\anaconda3\\envs\\tf_env\\lib\\site-packages (from requests) (3.10)\n",
      "Requirement already satisfied: urllib3<3,>=1.21.1 in c:\\users\\owner\\anaconda3\\envs\\tf_env\\lib\\site-packages (from requests) (1.26.20)\n",
      "Requirement already satisfied: certifi>=2017.4.17 in c:\\users\\owner\\anaconda3\\envs\\tf_env\\lib\\site-packages (from requests) (2025.4.26)\n",
      "Requirement already satisfied: sqlalchemy in c:\\users\\owner\\anaconda3\\envs\\tf_env\\lib\\site-packages (2.0.41)\n",
      "Requirement already satisfied: greenlet>=1 in c:\\users\\owner\\anaconda3\\envs\\tf_env\\lib\\site-packages (from sqlalchemy) (3.2.2)\n",
      "Requirement already satisfied: typing-extensions>=4.6.0 in c:\\users\\owner\\anaconda3\\envs\\tf_env\\lib\\site-packages (from sqlalchemy) (4.12.2)\n",
      "Requirement already satisfied: flask in c:\\users\\owner\\anaconda3\\envs\\tf_env\\lib\\site-packages (3.1.1)\n",
      "Requirement already satisfied: blinker>=1.9.0 in c:\\users\\owner\\anaconda3\\envs\\tf_env\\lib\\site-packages (from flask) (1.9.0)\n",
      "Requirement already satisfied: click>=8.1.3 in c:\\users\\owner\\anaconda3\\envs\\tf_env\\lib\\site-packages (from flask) (8.1.8)\n",
      "Requirement already satisfied: importlib-metadata>=3.6.0 in c:\\users\\owner\\anaconda3\\envs\\tf_env\\lib\\site-packages (from flask) (6.11.0)\n",
      "Requirement already satisfied: itsdangerous>=2.2.0 in c:\\users\\owner\\anaconda3\\envs\\tf_env\\lib\\site-packages (from flask) (2.2.0)\n",
      "Requirement already satisfied: jinja2>=3.1.2 in c:\\users\\owner\\anaconda3\\envs\\tf_env\\lib\\site-packages (from flask) (3.1.6)\n",
      "Requirement already satisfied: markupsafe>=2.1.1 in c:\\users\\owner\\anaconda3\\envs\\tf_env\\lib\\site-packages (from flask) (3.0.2)\n",
      "Requirement already satisfied: werkzeug>=3.1.0 in c:\\users\\owner\\anaconda3\\envs\\tf_env\\lib\\site-packages (from flask) (3.1.3)\n",
      "Requirement already satisfied: colorama in c:\\users\\owner\\anaconda3\\envs\\tf_env\\lib\\site-packages (from click>=8.1.3->flask) (0.4.6)\n",
      "Requirement already satisfied: zipp>=0.5 in c:\\users\\owner\\anaconda3\\envs\\tf_env\\lib\\site-packages (from importlib-metadata>=3.6.0->flask) (3.21.0)\n"
     ]
    }
   ],
   "source": [
    "#!pip install pandas\n",
    "#!pip install requests\n",
    "#!pip install sqlalchemy\n",
    "#!pip install flask"
   ]
  },
  {
   "cell_type": "code",
   "execution_count": 4,
   "id": "baa1082f-2652-4314-955a-fadbe9751809",
   "metadata": {},
   "outputs": [],
   "source": [
    "import requests\n",
    "import pandas as pd\n",
    "import numpy as np\n",
    "import sqlalchemy as sql\n",
    "from sqlalchemy import inspect"
   ]
  },
  {
   "cell_type": "code",
   "execution_count": 10,
   "id": "5ed1f58f-fb97-44f8-9eaa-b4f75d71856b",
   "metadata": {},
   "outputs": [
    {
     "name": "stdout",
     "output_type": "stream",
     "text": [
      "{\"name\":\"Diamondbacks\",\"market\":\"Arizona\",\"abbr\":\"AZ\",\"id\":\"25507be1-6a68-4267-bd82-e097d94b359b\",\"founded\":1998,\"owner\":\"Ken Kendrick\",\"general_manager\":\"Mike Hazen\",\"president\":\"Derrick Hall\",\"mascot\":\"D. Baxter the Bobcat\",\"nicknames\":\"The D-backs, The Snakes, Los Serpientes, The Answerbacks\",\"sponsor\":\"Avnet\",\"fight_song\":\"The DBacks Swing\",\"championships_won\":1,\"championship_seasons\":\"2001\",\"conference_titles\":2,\"division_titles\":5,\"retired_numbers\":\"20, 51, 42\",\"playoff_appearances\":7,\"minorleague_affiliate\":\"Reno Aces, Amarillo Sod Poodles, Hillsboro Hops, Visalia Rawhide\",\"team_colors\":[{\"type\":\"secondary\",\"hex_color\":\"#000000\",\"rgb_color\":{\"red\":0,\"green\":0,\"blue\":0}},{\"type\":\"primary\",\"hex_color\":\"#a71930\",\"rgb_color\":{\"red\":167,\"green\":25,\"blue\":48}}],\"venue\":{\"name\":\"Chase Field\",\"market\":\"Arizona\",\"capacity\":48359,\"surface\":\"turf\",\"address\":\"401 East Jefferson Street\",\"city\":\"Phoenix\",\"state\":\"AZ\",\"zip\":\"85004\",\"country\":\"USA\",\"id\":\"bf05de0d-7ced-4a19-8e17-2bbd985f8a92\",\"field_orientation\":\"N\",\"stadium_type\":\"retractable\",\"time_zone\":\"US/Arizona\",\"location\":{\"lat\":\"33.445302\",\"lng\":\"-112.066687\"}},\"league\":{\"alias\":\"NL\",\"name\":\"National League\",\"id\":\"fbe91704-36df-4e7c-864a-06d236425999\"},\"division\":{\"alias\":\"W\",\"name\":\"West\",\"id\":\"dd76b332-7cfa-45f0-bed0-a6944d924a61\"},\"staff\":[{\"full_name\":\"Torey Lovullo\",\"first_name\":\"Torey\",\"last_name\":\"Lovullo\",\"position\":\"Manager\",\"id\":\"1f57b3aa-b582-4394-b5b1-d98a7c79566b\"},{\"full_name\":\"Brian Kaplan\",\"first_name\":\"Brian\",\"last_name\":\"Kaplan\",\"position\":\"Pitching Coach\",\"id\":\"c603414d-83ee-4900-858b-e8d6bc1be882\"},{\"full_name\":\"Joe Mather\",\"first_name\":\"Joe\",\"last_name\":\"Mather\",\"position\":\"Hitting Coach\",\"id\":\"de860d62-9018-4968-951c-e1fc08b9c5f8\"}],\"players\":[{\"id\":\"0d50288c-b223-4520-befc-5b6610a680c5\",\"status\":\"MIN\",\"position\":\"C\",\"primary_position\":\"C\",\"first_name\":\"Adrian\",\"last_name\":\"Del Castillo\",\"preferred_name\":\"Adrian\",\"jersey_number\":\"25\",\"full_name\":\"Adrian Del Castillo\",\"height\":\"70\",\"weight\":\"208\",\"throw_hand\":\"R\",\"bat_hand\":\"L\",\"college\":\"Miami\",\"high_school\":\"Gulliver Prep (FL)\",\"birthdate\":\"1999-09-27\",\"birthstate\":\"FL\",\"birthcountry\":\"USA\",\"birthcity\":\"Miami\",\"pro_debut\":\"2024-08-07\",\"updated\":\"2025-03-22T03:57:42+00:00\",\"salary\":800000,\"rookie_year\":2024,\"reference\":\"680728\",\"active\":false},{\"id\":\"c5b9d056-d030-4640-9e4a-a83599984388\",\"status\":\"A\",\"position\":\"C\",\"primary_position\":\"C\",\"first_name\":\"Jose\",\"last_name\":\"Herrera\",\"preferred_name\":\"Jose\",\"jersey_number\":\"11\",\"full_name\":\"Jose Herrera\",\"height\":\"69\",\"weight\":\"217\",\"throw_hand\":\"R\",\"bat_hand\":\"B\",\"birthdate\":\"1997-02-24\",\"birthcountry\":\"VEN\",\"birthcity\":\"San Carlos\",\"pro_debut\":\"2022-04-09\",\"updated\":\"2025-05-17T17:46:34+00:00\",\"salary\":772200,\"rookie_year\":2022,\"reference\":\"645444\",\"active\":true},{\"id\":\"47bbd747-6edc-4d0e-a976-5228f5003fbd\",\"status\":\"A\",\"position\":\"C\",\"primary_position\":\"C\",\"first_name\":\"Gabriel\",\"last_name\":\"Moreno\",\"preferred_name\":\"Gabriel\",\"jersey_number\":\"14\",\"full_name\":\"Gabriel Moreno\",\"height\":\"69\",\"weight\":\"195\",\"throw_hand\":\"R\",\"bat_hand\":\"R\",\"birthdate\":\"2000-02-14\",\"birthcountry\":\"VEN\",\"birthcity\":\"Barquisimeto\",\"pro_debut\":\"2022-06-11\",\"updated\":\"2025-05-17T17:49:30+00:00\",\"salary\":793000,\"rookie_year\":2022,\"reference\":\"672515\",\"active\":true},{\"id\":\"016c3805-22d6-46f1-95f5-156952c11fb5\",\"status\":\"MIN\",\"position\":\"IF\",\"primary_position\":\"SS\",\"first_name\":\"Blaze\",\"last_name\":\"Alexander\",\"preferred_name\":\"Blaze\",\"jersey_number\":\"9\",\"full_name\":\"Blaze Alexander\",\"height\":\"72\",\"weight\":\"160\",\"throw_hand\":\"R\",\"bat_hand\":\"R\",\"high_school\":\"IMG Academy (FL)\",\"birthdate\":\"1999-06-11\",\"birthstate\":\"FL\",\"birthcountry\":\"USA\",\"birthcity\":\"Cape Coral\",\"pro_debut\":\"2024-03-28\",\"updated\":\"2025-04-23T15:09:47+00:00\",\"salary\":800000,\"rookie_year\":2024,\"reference\":\"677942\",\"active\":false},{\"id\":\"7e73da4b-af17-41f1-800d-ed1380d0e7a7\",\"status\":\"MIN\",\"position\":\"IF\",\"primary_position\":\"SS\",\"first_name\":\"Jordan\",\"last_name\":\"Lawlar\",\"preferred_name\":\"Jordan\",\"jersey_number\":\"10\",\"full_name\":\"Jordan Lawlar\",\"height\":\"72\",\"weight\":\"190\",\"throw_hand\":\"R\",\"bat_hand\":\"R\",\"high_school\":\"Jesuit Prep (TX)\",\"birthdate\":\"2002-07-17\",\"birthstate\":\"TX\",\"birthcountry\":\"USA\",\"birthcity\":\"Carrollton\",\"pro_debut\":\"2023-09-07\",\"updated\":\"2025-05-30T00:14:29+00:00\",\"salary\":572040,\"rookie_year\":2023,\"reference\":\"691783\",\"active\":false},{\"id\":\"04b68b54-6217-4436-b3e8-bed6d3bd4942\",\"status\":\"A\",\"position\":\"IF\",\"primary_position\":\"2B\",\"first_name\":\"Ketel\",\"last_name\":\"Marte\",\"preferred_name\":\"Ketel\",\"jersey_number\":\"4\",\"full_name\":\"Ketel Marte\",\"height\":\"72\",\"weight\":\"210\",\"throw_hand\":\"R\",\"bat_hand\":\"B\",\"birthdate\":\"1993-10-12\",\"birthcountry\":\"DOM\",\"birthcity\":\"Nizao\",\"pro_debut\":\"2015-07-31\",\"updated\":\"2025-05-17T17:48:03+00:00\",\"salary\":14000000,\"rookie_year\":2015,\"reference\":\"606466\",\"active\":true},{\"id\":\"cdad7ebb-4b31-4e40-a6af-e63206766801\",\"status\":\"A\",\"position\":\"IF\",\"primary_position\":\"1B\",\"first_name\":\"Joshua-Douglas\",\"last_name\":\"Naylor\",\"preferred_name\":\"Josh\",\"jersey_number\":\"22\",\"full_name\":\"Josh Naylor\",\"height\":\"70\",\"weight\":\"235\",\"throw_hand\":\"L\",\"bat_hand\":\"L\",\"high_school\":\"St. Joan of Arc (CAN)\",\"birthdate\":\"1997-06-22\",\"birthstate\":\"ON\",\"birthcountry\":\"CAN\",\"birthcity\":\"Mississauga\",\"pro_debut\":\"2019-05-24\",\"updated\":\"2025-04-03T14:18:22+00:00\",\"salary\":10900000,\"rookie_year\":2019,\"reference\":\"647304\",\"active\":true},{\"id\":\"ad64c80d-35f2-4d73-a027-d10362eef962\",\"status\":\"A\",\"position\":\"IF\",\"primary_position\":\"SS\",\"first_name\":\"Geraldo\",\"last_name\":\"Perdomo\",\"preferred_name\":\"Geraldo\",\"jersey_number\":\"2\",\"full_name\":\"Geraldo Perdomo\",\"height\":\"74\",\"weight\":\"203\",\"throw_hand\":\"R\",\"bat_hand\":\"B\",\"birthdate\":\"1999-10-22\",\"birthcountry\":\"DOM\",\"birthcity\":\"Santo Domingo\",\"pro_debut\":\"2021-04-03\",\"updated\":\"2025-02-21T14:02:46+00:00\",\"salary\":2550000,\"rookie_year\":2022,\"reference\":\"672695\",\"active\":true},{\"id\":\"27e91ba7-4a19-4548-91fc-8d70a29b9b8a\",\"status\":\"A\",\"position\":\"IF\",\"primary_position\":\"3B\",\"first_name\":\"Eugenio\",\"last_name\":\"Suárez\",\"preferred_name\":\"Eugenio\",\"jersey_number\":\"28\",\"full_name\":\"Eugenio Suárez\",\"height\":\"71\",\"weight\":\"213\",\"throw_hand\":\"R\",\"bat_hand\":\"R\",\"birthdate\":\"1991-07-18\",\"birthcountry\":\"VEN\",\"birthcity\":\"Puerto Ordaz\",\"pro_debut\":\"2014-06-04\",\"updated\":\"2025-02-21T14:03:03+00:00\",\"salary\":15000000,\"rookie_year\":2014,\"reference\":\"553993\",\"active\":true},{\"id\":\"a0f6406d-31c6-4c95-b110-7d84bf4c492f\",\"status\":\"A\",\"position\":\"IF\",\"primary_position\":\"2B\",\"first_name\":\"Timothy\",\"last_name\":\"Tawa\",\"preferred_name\":\"Tim\",\"jersey_number\":\"13\",\"full_name\":\"Tim Tawa\",\"height\":\"71\",\"weight\":\"196\",\"throw_hand\":\"R\",\"bat_hand\":\"R\",\"college\":\"Stanford\",\"high_school\":\"West Linn (OR)\",\"birthdate\":\"1999-04-07\",\"birthstate\":\"OR\",\"birthcountry\":\"USA\",\"birthcity\":\"West Linn\",\"pro_debut\":\"2025-04-05\",\"updated\":\"2025-05-17T17:51:46+00:00\",\"salary\":723226,\"reference\":\"694374\",\"active\":true},{\"id\":\"fdc95893-39e2-4c38-8544-132b2d30bd83\",\"status\":\"MIN\",\"position\":\"OF\",\"primary_position\":\"LF\",\"first_name\":\"Jorge\",\"last_name\":\"Barrosa\",\"preferred_name\":\"Jorge\",\"jersey_number\":\"1\",\"full_name\":\"Jorge Barrosa\",\"height\":\"66\",\"weight\":\"165\",\"throw_hand\":\"L\",\"bat_hand\":\"B\",\"birthdate\":\"2001-02-17\",\"birthcountry\":\"VEN\",\"birthcity\":\"Puerto Cabello\",\"pro_debut\":\"2024-04-01\",\"updated\":\"2025-05-02T19:22:28+00:00\",\"salary\":800000,\"rookie_year\":2024,\"reference\":\"678489\",\"active\":false},{\"id\":\"86b68e79-a041-4fe2-95ea-1e8e0c30e382\",\"status\":\"A\",\"position\":\"OF\",\"primary_position\":\"RF\",\"first_name\":\"Corbin\",\"last_name\":\"Carroll\",\"preferred_name\":\"Corbin\",\"jersey_number\":\"7\",\"full_name\":\"Corbin Carroll\",\"height\":\"70\",\"weight\":\"165\",\"throw_hand\":\"L\",\"bat_hand\":\"L\",\"high_school\":\"Lakeside (WA)\",\"birthdate\":\"2000-08-21\",\"birthstate\":\"WA\",\"birthcountry\":\"USA\",\"birthcity\":\"Seattle\",\"pro_debut\":\"2022-08-29\",\"updated\":\"2025-04-18T20:08:28+00:00\",\"salary\":5625000,\"rookie_year\":2023,\"reference\":\"682998\",\"active\":true},{\"id\":\"5a1ba87b-8ec6-4588-97c8-79db8d044cca\",\"status\":\"A\",\"position\":\"OF\",\"primary_position\":\"RF\",\"first_name\":\"Randal\",\"last_name\":\"Grichuk\",\"preferred_name\":\"Randal\",\"jersey_number\":\"15\",\"full_name\":\"Randal Grichuk\",\"height\":\"72\",\"weight\":\"216\",\"throw_hand\":\"R\",\"bat_hand\":\"R\",\"high_school\":\"Lamar Consolidated (TX)\",\"birthdate\":\"1991-08-13\",\"birthstate\":\"TX\",\"birthcountry\":\"USA\",\"birthcity\":\"Rosenberg\",\"pro_debut\":\"2014-04-28\",\"updated\":\"2025-05-17T17:46:03+00:00\",\"salary\":2000000,\"rookie_year\":2015,\"reference\":\"545341\",\"active\":true},{\"id\":\"20e7bd6e-fb56-4e86-ad2d-b50bc5477371\",\"status\":\"A\",\"position\":\"OF\",\"primary_position\":\"LF\",\"first_name\":\"Lourdes\",\"last_name\":\"Gurriel\",\"preferred_name\":\"Lourdes\",\"jersey_number\":\"12\",\"full_name\":\"Lourdes Gurriel Jr.\",\"height\":\"75\",\"weight\":\"215\",\"throw_hand\":\"R\",\"bat_hand\":\"R\",\"birthdate\":\"1993-10-10\",\"birthcountry\":\"CUB\",\"birthcity\":\"Sancti Spiritus\",\"pro_debut\":\"2018-04-20\",\"updated\":\"2025-04-03T14:18:44+00:00\",\"salary\":14000000,\"rookie_year\":2018,\"reference\":\"666971\",\"suffix\":\"Jr.\",\"active\":true},{\"id\":\"9e51bbf6-6d71-4bc8-b86d-901df0fd1f38\",\"status\":\"MIN\",\"position\":\"OF\",\"primary_position\":\"CF\",\"first_name\":\"Jacob\",\"last_name\":\"McCarthy\",\"preferred_name\":\"Jake\",\"jersey_number\":\"31\",\"full_name\":\"Jake McCarthy\",\"height\":\"73\",\"weight\":\"215\",\"throw_hand\":\"L\",\"bat_hand\":\"L\",\"college\":\"Virginia\",\"high_school\":\"Scranton (PA)\",\"birthdate\":\"1997-07-30\",\"birthstate\":\"PA\",\"birthcountry\":\"USA\",\"birthcity\":\"Scranton\",\"pro_debut\":\"2021-08-27\",\"updated\":\"2025-04-22T03:01:43+00:00\",\"salary\":800000,\"rookie_year\":2022,\"reference\":\"664983\",\"active\":false},{\"id\":\"0e9eddf6-e2b9-48e0-9f34-98e7f0c37988\",\"status\":\"A\",\"position\":\"OF\",\"primary_position\":\"1B\",\"first_name\":\"Pavin\",\"last_name\":\"Smith\",\"preferred_name\":\"Pavin\",\"jersey_number\":\"26\",\"full_name\":\"Pavin Smith\",\"height\":\"74\",\"weight\":\"208\",\"throw_hand\":\"L\",\"bat_hand\":\"L\",\"college\":\"Virginia\",\"high_school\":\"Palm Beach Gardens (FL)\",\"birthdate\":\"1996-02-06\",\"birthstate\":\"FL\",\"birthcountry\":\"USA\",\"birthcity\":\"Jupiter\",\"pro_debut\":\"2020-09-12\",\"updated\":\"2025-04-18T22:13:55+00:00\",\"salary\":1500000,\"rookie_year\":2021,\"reference\":\"656976\",\"active\":true},{\"id\":\"00b00827-de2d-4ae4-a3ce-9571abfa84be\",\"status\":\"A\",\"position\":\"OF\",\"primary_position\":\"CF\",\"first_name\":\"Alek\",\"last_name\":\"Thomas\",\"preferred_name\":\"Alek\",\"jersey_number\":\"5\",\"full_name\":\"Alek Thomas\",\"height\":\"69\",\"weight\":\"175\",\"throw_hand\":\"L\",\"bat_hand\":\"L\",\"high_school\":\"Mount Carmel (IL)\",\"birthdate\":\"2000-04-28\",\"birthstate\":\"IL\",\"birthcountry\":\"USA\",\"birthcity\":\"Chicago\",\"pro_debut\":\"2022-05-08\",\"updated\":\"2025-05-17T17:51:57+00:00\",\"salary\":793000,\"rookie_year\":2022,\"reference\":\"677950\",\"active\":true},{\"id\":\"4c8f7362-8eb9-4b8f-b7d7-1f414a8a81ce\",\"status\":\"A\",\"position\":\"P\",\"primary_position\":\"RP\",\"first_name\":\"Jalen\",\"last_name\":\"Beeks\",\"preferred_name\":\"Jalen\",\"jersey_number\":\"68\",\"full_name\":\"Jalen Beeks\",\"height\":\"71\",\"weight\":\"215\",\"throw_hand\":\"L\",\"bat_hand\":\"L\",\"college\":\"Arkansas\",\"high_school\":\"Prairie Grove (AR)\",\"birthdate\":\"1993-07-10\",\"birthstate\":\"AR\",\"birthcountry\":\"USA\",\"birthcity\":\"Fayetteville\",\"pro_debut\":\"2018-06-07\",\"updated\":\"2025-05-17T17:44:07+00:00\",\"salary\":1250000,\"rookie_year\":2018,\"reference\":\"656222\",\"active\":true},{\"id\":\"3ce2509f-eec9-4d02-aa76-0dce03029347\",\"status\":\"A\",\"position\":\"P\",\"primary_position\":\"SP\",\"first_name\":\"Corbin\",\"last_name\":\"Burnes\",\"preferred_name\":\"Corbin\",\"jersey_number\":\"39\",\"full_name\":\"Corbin Burnes\",\"height\":\"75\",\"weight\":\"245\",\"throw_hand\":\"R\",\"bat_hand\":\"R\",\"college\":\"St. Mary's\",\"high_school\":\"Centennial (CA)\",\"birthdate\":\"1994-10-22\",\"birthstate\":\"CA\",\"birthcountry\":\"USA\",\"birthcity\":\"Bakersfield\",\"pro_debut\":\"2018-07-10\",\"updated\":\"2025-05-17T17:44:35+00:00\",\"salary\":30833333,\"rookie_year\":2018,\"reference\":\"669203\",\"active\":true},{\"id\":\"55de0f7b-e342-4292-a9f2-226b3ed55018\",\"status\":\"MIN\",\"position\":\"P\",\"primary_position\":\"SP\",\"first_name\":\"Yilber\",\"last_name\":\"Díaz\",\"preferred_name\":\"Yilber\",\"jersey_number\":\"45\",\"full_name\":\"Yilber Díaz\",\"height\":\"72\",\"weight\":\"190\",\"throw_hand\":\"R\",\"bat_hand\":\"R\",\"birthdate\":\"2000-08-19\",\"birthcountry\":\"VEN\",\"birthcity\":\"Guatire\",\"pro_debut\":\"2024-07-08\",\"updated\":\"2025-04-27T17:54:27+00:00\",\"salary\":800000,\"rookie_year\":2024,\"reference\":\"700270\",\"active\":false},{\"id\":\"e488a3a6-4673-4e5d-befe-6d5ab57b0b8e\",\"status\":\"A\",\"position\":\"P\",\"primary_position\":\"SP\",\"first_name\":\"Zachary\",\"last_name\":\"Gallen\",\"preferred_name\":\"Zac\",\"jersey_number\":\"23\",\"full_name\":\"Zac Gallen\",\"height\":\"74\",\"weight\":\"189\",\"throw_hand\":\"R\",\"bat_hand\":\"R\",\"college\":\"North Carolina\",\"high_school\":\"Bishop Eustace Prep (NJ)\",\"birthdate\":\"1995-08-03\",\"birthstate\":\"NJ\",\"birthcountry\":\"USA\",\"birthcity\":\"Gibbsboro\",\"pro_debut\":\"2019-06-20\",\"updated\":\"2025-02-21T13:40:04+00:00\",\"salary\":13500000,\"rookie_year\":2019,\"reference\":\"668678\",\"active\":true},{\"id\":\"016e7b25-5855-447a-aa10-10372bcc1fa3\",\"status\":\"A\",\"position\":\"P\",\"primary_position\":\"RP\",\"first_name\":\"Kevin\",\"last_name\":\"Ginkel\",\"preferred_name\":\"Kevin\",\"jersey_number\":\"37\",\"full_name\":\"Kevin Ginkel\",\"height\":\"76\",\"weight\":\"235\",\"throw_hand\":\"R\",\"bat_hand\":\"L\",\"college\":\"Arizona\",\"high_school\":\"El Capitan (CA)\",\"birthdate\":\"1994-03-24\",\"birthstate\":\"CA\",\"birthcountry\":\"USA\",\"birthcity\":\"San Diego\",\"pro_debut\":\"2019-08-05\",\"updated\":\"2025-04-29T18:53:15+00:00\",\"salary\":2425000,\"rookie_year\":2020,\"reference\":\"656464\",\"active\":true},{\"id\":\"18be2520-ed71-4e1e-94c8-29b0590e2b5c\",\"status\":\"A\",\"position\":\"P\",\"primary_position\":\"RP\",\"first_name\":\"Kendall\",\"last_name\":\"Graveman\",\"preferred_name\":\"Kendall\",\"jersey_number\":\"49\",\"full_name\":\"Kendall Graveman\",\"height\":\"74\",\"weight\":\"215\",\"throw_hand\":\"R\",\"bat_hand\":\"R\",\"college\":\"Mississippi State\",\"high_school\":\"Benjamin Russell (AL)\",\"birthdate\":\"1990-12-21\",\"birthstate\":\"AL\",\"birthcountry\":\"USA\",\"birthcity\":\"Tallapoosa County\",\"pro_debut\":\"2014-09-05\",\"updated\":\"2025-05-17T17:45:16+00:00\",\"salary\":1250000,\"rookie_year\":2015,\"reference\":\"608665\",\"active\":true},{\"id\":\"7a0da377-a34c-42ba-ac84-5815ad1c0aae\",\"status\":\"MIN\",\"position\":\"P\",\"primary_position\":\"SP\",\"first_name\":\"Thomas\",\"last_name\":\"Henry\",\"preferred_name\":\"Tommy\",\"jersey_number\":\"47\",\"full_name\":\"Tommy Henry\",\"height\":\"75\",\"weight\":\"205\",\"throw_hand\":\"L\",\"bat_hand\":\"L\",\"college\":\"Michigan\",\"high_school\":\"Portage Northern (MI)\",\"birthdate\":\"1997-07-29\",\"birthstate\":\"MI\",\"birthcountry\":\"USA\",\"birthcity\":\"Portage\",\"pro_debut\":\"2022-08-03\",\"updated\":\"2025-05-06T21:29:06+00:00\",\"salary\":800000,\"rookie_year\":2022,\"reference\":\"674072\",\"active\":false},{\"id\":\"f2819c14-1485-4f6f-9008-1c7c4481f702\",\"status\":\"MIN\",\"position\":\"P\",\"primary_position\":\"RP\",\"first_name\":\"Drey\",\"last_name\":\"Jameson\",\"preferred_name\":\"Drey\",\"jersey_number\":\"99\",\"full_name\":\"Drey Jameson\",\"height\":\"72\",\"weight\":\"165\",\"throw_hand\":\"R\",\"bat_hand\":\"R\",\"college\":\"Ball State\",\"high_school\":\"Greenfield Central (IN)\",\"birthdate\":\"1997-08-17\",\"birthstate\":\"IN\",\"birthcountry\":\"USA\",\"birthcity\":\"Greenfield\",\"pro_debut\":\"2022-09-15\",\"updated\":\"2025-04-29T03:27:23+00:00\",\"salary\":800000,\"rookie_year\":2023,\"reference\":\"686753\",\"active\":false},{\"id\":\"965b3981-3ecf-402e-a338-6dde330b445c\",\"status\":\"MIN\",\"position\":\"P\",\"primary_position\":\"RP\",\"first_name\":\"Bryce\",\"last_name\":\"Jarvis\",\"preferred_name\":\"Bryce\",\"jersey_number\":\"40\",\"full_name\":\"Bryce Jarvis\",\"height\":\"74\",\"weight\":\"195\",\"throw_hand\":\"R\",\"bat_hand\":\"L\",\"college\":\"Duke\",\"high_school\":\"Brentwood Academy (TN)\",\"birthdate\":\"1997-12-26\",\"birthstate\":\"KY\",\"birthcountry\":\"USA\",\"birthcity\":\"Lexington\",\"pro_debut\":\"2023-08-15\",\"updated\":\"2025-04-19T17:19:50+00:00\",\"salary\":800000,\"rookie_year\":2024,\"reference\":\"686826\",\"active\":false},{\"id\":\"871f04aa-367c-48fb-8ae5-a5bd9e27cb8b\",\"status\":\"A\",\"position\":\"P\",\"primary_position\":\"SP\",\"first_name\":\"Kenneth\",\"last_name\":\"Kelly\",\"preferred_name\":\"Merrill\",\"jersey_number\":\"29\",\"full_name\":\"Merrill Kelly\",\"height\":\"74\",\"weight\":\"202\",\"throw_hand\":\"R\",\"bat_hand\":\"R\",\"college\":\"Arizona State\",\"high_school\":\"Desert Mountain (AZ)\",\"birthdate\":\"1988-10-14\",\"birthstate\":\"TX\",\"birthcountry\":\"USA\",\"birthcity\":\"Houston\",\"pro_debut\":\"2019-04-01\",\"updated\":\"2025-01-29T17:25:09+00:00\",\"salary\":7000000,\"rookie_year\":2019,\"reference\":\"518876\",\"active\":true},{\"id\":\"225568a7-e1a6-41a0-9ae0-6361d63449dc\",\"status\":\"MIN\",\"position\":\"P\",\"primary_position\":\"RP\",\"first_name\":\"Joseph\",\"last_name\":\"Mantiply\",\"preferred_name\":\"Joe\",\"jersey_number\":\"35\",\"full_name\":\"Joe Mantiply\",\"height\":\"76\",\"weight\":\"219\",\"throw_hand\":\"L\",\"bat_hand\":\"R\",\"college\":\"Virginia Tech\",\"high_school\":\"Tunstall (VA) \",\"birthdate\":\"1991-03-01\",\"birthstate\":\"VA\",\"birthcountry\":\"USA\",\"birthcity\":\"Danville\",\"pro_debut\":\"2016-09-03\",\"updated\":\"2025-05-16T00:29:38+00:00\",\"salary\":1700000,\"rookie_year\":2021,\"reference\":\"573009\",\"active\":false},{\"id\":\"049f14e2-3e08-4485-8019-a3891d30501b\",\"status\":\"A\",\"position\":\"P\",\"primary_position\":\"RP\",\"first_name\":\"Justin\",\"last_name\":\"Martinez\",\"preferred_name\":\"Justin\",\"jersey_number\":\"63\",\"full_name\":\"Justin Martinez\",\"height\":\"75\",\"weight\":\"180\",\"throw_hand\":\"R\",\"bat_hand\":\"R\",\"birthdate\":\"2001-07-30\",\"birthcountry\":\"DOM\",\"birthcity\":\"Bonao\",\"pro_debut\":\"2023-07-07\",\"updated\":\"2025-05-23T18:39:05+00:00\",\"salary\":3600000,\"rookie_year\":2024,\"reference\":\"679885\",\"active\":true},{\"id\":\"712e68e8-096a-48e0-9079-b52c02661829\",\"status\":\"A\",\"position\":\"P\",\"primary_position\":\"RP\",\"first_name\":\"Scott\",\"last_name\":\"McGough\",\"preferred_name\":\"Scott\",\"jersey_number\":\"30\",\"full_name\":\"Scott McGough\",\"height\":\"71\",\"weight\":\"190\",\"throw_hand\":\"R\",\"bat_hand\":\"R\",\"college\":\"Oregon\",\"high_school\":\"Plum (PA)\",\"birthdate\":\"1989-10-31\",\"birthstate\":\"PA\",\"birthcountry\":\"USA\",\"birthcity\":\"Monroeville\",\"pro_debut\":\"2015-08-20\",\"updated\":\"2025-05-17T17:48:21+00:00\",\"salary\":584298,\"rookie_year\":2023,\"reference\":\"543518\",\"active\":true},{\"id\":\"41de1f31-e472-4fdc-a0e3-082f81a51cef\",\"status\":\"MIN\",\"position\":\"P\",\"primary_position\":\"SP\",\"first_name\":\"Cristian\",\"last_name\":\"Mena\",\"preferred_name\":\"Cristian\",\"jersey_number\":\"64\",\"full_name\":\"Cristian Mena\",\"height\":\"74\",\"weight\":\"170\",\"throw_hand\":\"R\",\"bat_hand\":\"R\",\"birthdate\":\"2002-12-21\",\"birthcountry\":\"DOM\",\"birthcity\":\"Pimentel\",\"pro_debut\":\"2024-07-03\",\"updated\":\"2025-05-10T19:03:50+00:00\",\"salary\":800000,\"rookie_year\":2024,\"reference\":\"691441\",\"active\":false},{\"id\":\"f83736c4-6587-438f-af93-bb880f0763c5\",\"status\":\"A\",\"position\":\"P\",\"primary_position\":\"RP\",\"first_name\":\"Shelby\",\"last_name\":\"Miller\",\"preferred_name\":\"Shelby\",\"jersey_number\":\"18\",\"full_name\":\"Shelby Miller\",\"height\":\"75\",\"weight\":\"225\",\"throw_hand\":\"R\",\"bat_hand\":\"R\",\"high_school\":\"Brownwood (TX)\",\"birthdate\":\"1990-10-10\",\"birthstate\":\"TX\",\"birthcountry\":\"USA\",\"birthcity\":\"Houston\",\"pro_debut\":\"2012-09-05\",\"updated\":\"2025-03-29T04:51:17+00:00\",\"salary\":1000000,\"rookie_year\":2013,\"reference\":\"571946\",\"active\":true},{\"id\":\"0b72206e-0b85-43b9-a836-8a538269c2e1\",\"status\":\"MIN\",\"position\":\"P\",\"primary_position\":\"RP\",\"first_name\":\"Christian\",\"last_name\":\"Montes De Oca\",\"preferred_name\":\"Christian\",\"jersey_number\":\"59\",\"full_name\":\"Christian Montes De Oca\",\"height\":\"76\",\"weight\":\"230\",\"throw_hand\":\"R\",\"bat_hand\":\"R\",\"birthdate\":\"1999-08-30\",\"birthcountry\":\"DOM\",\"birthcity\":\"Santo Domingo\",\"updated\":\"2025-05-23T00:36:47+00:00\",\"salary\":555696,\"reference\":\"801216\",\"active\":false},{\"id\":\"e96d88f5-3593-48fb-b1fd-840b41c08cc5\",\"status\":\"D60\",\"position\":\"P\",\"primary_position\":\"SP\",\"first_name\":\"Jordan\",\"last_name\":\"Montgomery\",\"preferred_name\":\"Jordan\",\"jersey_number\":\"52\",\"full_name\":\"Jordan Montgomery\",\"height\":\"78\",\"weight\":\"228\",\"throw_hand\":\"L\",\"bat_hand\":\"L\",\"college\":\"South Carolina\",\"high_school\":\"Sumter (SC)\",\"birthdate\":\"1992-12-27\",\"birthstate\":\"SC\",\"birthcountry\":\"USA\",\"birthcity\":\"Sumter\",\"pro_debut\":\"2017-04-12\",\"updated\":\"2025-03-26T21:59:57+00:00\",\"salary\":22500000,\"rookie_year\":2017,\"reference\":\"656756\",\"active\":false,\"dl60\":true,\"injuries\":[{\"id\":\"0428bcdb-0288-48c3-95d2-3ac879826891\",\"comment\":\"The Arizona Diamondbacks placed LHP Jordan Montgomery on the 60-day injured list due to UCL sprain.\",\"desc\":\"Elbow\",\"status\":\"D60\",\"start_date\":\"2025-03-26\",\"update_date\":\"2025-03-26\"}]},{\"id\":\"1b799dfa-5365-44d1-9e3b-1bfeae99e047\",\"status\":\"A\",\"position\":\"P\",\"primary_position\":\"RP\",\"first_name\":\"Juan\",\"last_name\":\"Morillo\",\"preferred_name\":\"Juan\",\"jersey_number\":\"67\",\"full_name\":\"Juan Morillo\",\"height\":\"73\",\"weight\":\"150\",\"throw_hand\":\"R\",\"bat_hand\":\"R\",\"birthdate\":\"1999-03-19\",\"birthcountry\":\"VEN\",\"birthcity\":\"Maracaibo\",\"pro_debut\":\"2025-04-19\",\"updated\":\"2025-05-17T17:50:00+00:00\",\"salary\":666018,\"reference\":\"666661\",\"active\":true},{\"id\":\"022f2098-d823-4bc8-be86-0073c5c6c884\",\"status\":\"MIN\",\"position\":\"P\",\"primary_position\":\"RP\",\"first_name\":\"Kyle\",\"last_name\":\"Nelson\",\"preferred_name\":\"Kyle\",\"jersey_number\":\"24\",\"full_name\":\"Kyle Nelson\",\"height\":\"73\",\"weight\":\"175\",\"throw_hand\":\"L\",\"bat_hand\":\"L\",\"college\":\"UC Santa Barbara\",\"high_school\":\"Galileo (CA)\",\"birthdate\":\"1996-07-08\",\"birthstate\":\"CA\",\"birthcountry\":\"USA\",\"birthcity\":\"San Francisco\",\"pro_debut\":\"2020-09-10\",\"updated\":\"2025-03-19T17:41:49+00:00\",\"salary\":825000,\"rookie_year\":2021,\"reference\":\"669459\",\"active\":false},{\"id\":\"28cbe19d-c84c-4894-9f34-8bd3d99ddb05\",\"status\":\"A\",\"position\":\"P\",\"primary_position\":\"SP\",\"first_name\":\"Ryne\",\"last_name\":\"Nelson\",\"preferred_name\":\"Ryne\",\"jersey_number\":\"19\",\"full_name\":\"Ryne Nelson\",\"height\":\"75\",\"weight\":\"184\",\"throw_hand\":\"R\",\"bat_hand\":\"R\",\"college\":\"Oregon\",\"high_school\":\"Basic (NV)\",\"birthdate\":\"1998-02-01\",\"birthstate\":\"NV\",\"birthcountry\":\"USA\",\"birthcity\":\"Henderson\",\"pro_debut\":\"2022-09-05\",\"updated\":\"2025-05-17T17:50:43+00:00\",\"salary\":825000,\"rookie_year\":2023,\"reference\":\"669194\",\"active\":true},{\"id\":\"5f6e12b8-1a4b-4b56-ab3b-1b349c0cd614\",\"status\":\"A\",\"position\":\"P\",\"primary_position\":\"SP\",\"first_name\":\"Brandon\",\"last_name\":\"Pfaadt\",\"preferred_name\":\"Brandon\",\"jersey_number\":\"32\",\"full_name\":\"Brandon Pfaadt\",\"height\":\"76\",\"weight\":\"220\",\"throw_hand\":\"R\",\"bat_hand\":\"R\",\"college\":\"Bellarmine\",\"high_school\":\"Trinity (KY)\",\"birthdate\":\"1998-10-15\",\"birthstate\":\"KY\",\"birthcountry\":\"USA\",\"birthcity\":\"Louisville\",\"pro_debut\":\"2023-05-03\",\"updated\":\"2025-05-17T17:51:01+00:00\",\"salary\":799400,\"rookie_year\":2023,\"reference\":\"694297\",\"active\":true},{\"id\":\"d4bf1d64-870f-40fc-95a6-45ed8c1b8696\",\"status\":\"D60\",\"position\":\"P\",\"primary_position\":\"RP\",\"first_name\":\"Andrew\",\"last_name\":\"Puk\",\"preferred_name\":\"A.J.\",\"jersey_number\":\"33\",\"full_name\":\"A.J. Puk\",\"height\":\"79\",\"weight\":\"248\",\"throw_hand\":\"L\",\"bat_hand\":\"L\",\"college\":\"Florida\",\"high_school\":\"Washington (IA)\",\"birthdate\":\"1995-04-25\",\"birthstate\":\"MN\",\"birthcountry\":\"USA\",\"birthcity\":\"Minneapolis\",\"pro_debut\":\"2019-08-21\",\"updated\":\"2025-05-01T16:21:33+00:00\",\"salary\":2950000,\"rookie_year\":2022,\"reference\":\"640462\",\"active\":false,\"dl60\":true,\"injuries\":[{\"id\":\"c83a0670-f576-4716-a9da-bd65749c4135\",\"comment\":\"The Arizona Diamondbacks transferred LHP A.J. Puk from the 15-day injured list to the 60-day injured list with a left elbow inflammation.\",\"desc\":\"Elbow\",\"status\":\"D60\",\"start_date\":\"2025-04-19\",\"update_date\":\"2025-05-01\"}]},{\"id\":\"93413a68-2c05-405a-a38c-9ee983b36913\",\"status\":\"D15\",\"position\":\"P\",\"primary_position\":\"SP\",\"first_name\":\"Eduardo\",\"last_name\":\"Rodriguez\",\"preferred_name\":\"Eduardo\",\"jersey_number\":\"57\",\"full_name\":\"Eduardo Rodriguez\",\"height\":\"74\",\"weight\":\"231\",\"throw_hand\":\"L\",\"bat_hand\":\"L\",\"birthdate\":\"1993-04-07\",\"birthcountry\":\"VEN\",\"birthcity\":\"Valencia\",\"pro_debut\":\"2015-05-28\",\"updated\":\"2025-05-16T21:21:23+00:00\",\"salary\":20000000,\"rookie_year\":2015,\"reference\":\"593958\",\"active\":false,\"injuries\":[{\"id\":\"dd19f102-983c-4ee3-a31e-6b7beb6cceed\",\"comment\":\"The Arizona Diamondbacks placed LHP Eduardo Rodriguez on the 15-day injured list with left shoulder inflammation.\",\"desc\":\"Shoulder\",\"status\":\"D15\",\"start_date\":\"2025-05-15\",\"update_date\":\"2025-05-16\"}]},{\"id\":\"05b5805b-3b4e-40f6-982b-03081465c961\",\"status\":\"A\",\"position\":\"P\",\"primary_position\":\"RP\",\"first_name\":\"Ryan\",\"last_name\":\"Thompson\",\"preferred_name\":\"Ryan\",\"jersey_number\":\"81\",\"full_name\":\"Ryan Thompson\",\"height\":\"77\",\"weight\":\"210\",\"throw_hand\":\"R\",\"bat_hand\":\"R\",\"college\":\"Campbell\",\"high_school\":\"Cascade (OR)\",\"birthdate\":\"1992-06-26\",\"birthstate\":\"OR\",\"birthcountry\":\"USA\",\"birthcity\":\"Turner\",\"pro_debut\":\"2020-07-24\",\"updated\":\"2025-02-21T13:53:33+00:00\",\"salary\":2965000,\"rookie_year\":2020,\"reference\":\"657044\",\"active\":true},{\"id\":\"c55e9b75-ed61-4ea6-8cad-ff10854f7c80\",\"status\":\"D60\",\"position\":\"P\",\"primary_position\":\"SP\",\"first_name\":\"Matthew\",\"last_name\":\"Walston\",\"preferred_name\":\"Blake\",\"jersey_number\":\"48\",\"full_name\":\"Blake Walston\",\"height\":\"77\",\"weight\":\"175\",\"throw_hand\":\"L\",\"bat_hand\":\"L\",\"high_school\":\"New Hanover (NC)\",\"birthdate\":\"2001-06-28\",\"birthstate\":\"NC\",\"birthcountry\":\"USA\",\"birthcity\":\"Wilmington\",\"pro_debut\":\"2024-05-01\",\"updated\":\"2025-03-23T18:59:34+00:00\",\"salary\":800000,\"rookie_year\":2024,\"reference\":\"686796\",\"active\":false,\"dl60\":true,\"injuries\":[{\"id\":\"b637023b-b347-4439-898f-b0bb2e93efa2\",\"comment\":\"The Arizona Diamondbacks placed LHP Blake Walston on the 60-day injured list as he recovers from Tommy John surgery. He's expected to miss the 2025 season.\",\"desc\":\"Elbow\",\"status\":\"D60\",\"start_date\":\"2025-03-23\",\"update_date\":\"2025-03-23\"}]}],\"_comment\":\"Generation started @ 2025-05-30 01:13:30 UTC ended @ 2025-05-30 01:13:30 UTC\"}\n"
     ]
    }
   ],
   "source": [
    "\n",
    "url = \"https://api.sportradar.com/mlb/trial/v8/en/teams/25507be1-6a68-4267-bd82-e097d94b359b/profile.json\"\n",
    "\n",
    "headers = {\n",
    "    \"accept\": \"application/json\",\n",
    "    \"x-api-key\": \"NYii5TfXY5KzhPP7RPf2Wj5eMOxiZPqFI1jDuKMB\"\n",
    "}\n",
    "\n",
    "response = requests.get(url, headers=headers)\n",
    "\n",
    "print(response.text)"
   ]
  },
  {
   "cell_type": "code",
   "execution_count": 12,
   "id": "1271d938-d49d-4478-8c16-0043d9ba9ddb",
   "metadata": {},
   "outputs": [
    {
     "ename": "AttributeError",
     "evalue": "'Response' object has no attribute 'keys'",
     "output_type": "error",
     "traceback": [
      "\u001b[1;31m---------------------------------------------------------------------------\u001b[0m",
      "\u001b[1;31mAttributeError\u001b[0m                            Traceback (most recent call last)",
      "Cell \u001b[1;32mIn[12], line 1\u001b[0m\n\u001b[1;32m----> 1\u001b[0m \u001b[43mresponse\u001b[49m\u001b[38;5;241;43m.\u001b[39;49m\u001b[43mkeys\u001b[49m()\n",
      "\u001b[1;31mAttributeError\u001b[0m: 'Response' object has no attribute 'keys'"
     ]
    }
   ],
   "source": [
    "response"
   ]
  },
  {
   "cell_type": "code",
   "execution_count": null,
   "id": "db6c554a-9b3f-4bc8-99f9-10f0f58bc585",
   "metadata": {},
   "outputs": [],
   "source": []
  },
  {
   "cell_type": "code",
   "execution_count": null,
   "id": "5830f6ae-d1ff-4c6a-8bfa-33a14c919686",
   "metadata": {},
   "outputs": [],
   "source": []
  },
  {
   "cell_type": "code",
   "execution_count": null,
   "id": "ed9054b2-3060-4d6e-8b9d-d7b78d990d24",
   "metadata": {},
   "outputs": [],
   "source": []
  },
  {
   "cell_type": "code",
   "execution_count": null,
   "id": "b783c777-ac2e-42cb-9db0-39f8c32841f9",
   "metadata": {},
   "outputs": [],
   "source": []
  },
  {
   "cell_type": "code",
   "execution_count": null,
   "id": "aa5a0353-a88b-4cf5-a733-4a9508f418e3",
   "metadata": {},
   "outputs": [],
   "source": []
  },
  {
   "cell_type": "code",
   "execution_count": null,
   "id": "7642d831-222a-4f0d-b6ef-4c27151cd6c4",
   "metadata": {},
   "outputs": [],
   "source": []
  },
  {
   "cell_type": "code",
   "execution_count": null,
   "id": "4a0a08b4-f9c4-4fae-9e27-0e0c900a3309",
   "metadata": {},
   "outputs": [],
   "source": []
  },
  {
   "cell_type": "code",
   "execution_count": null,
   "id": "f75caf0d-46cf-4996-b1fc-c1744f224370",
   "metadata": {},
   "outputs": [],
   "source": []
  },
  {
   "cell_type": "code",
   "execution_count": null,
   "id": "5ca170a0-335e-40bf-b728-6e55bf933c5e",
   "metadata": {},
   "outputs": [],
   "source": []
  }
 ],
 "metadata": {
  "kernelspec": {
   "display_name": "Python 3 (ipykernel)",
   "language": "python",
   "name": "python3"
  },
  "language_info": {
   "codemirror_mode": {
    "name": "ipython",
    "version": 3
   },
   "file_extension": ".py",
   "mimetype": "text/x-python",
   "name": "python",
   "nbconvert_exporter": "python",
   "pygments_lexer": "ipython3",
   "version": "3.9.21"
  }
 },
 "nbformat": 4,
 "nbformat_minor": 5
}
