{
 "cells": [
  {
   "cell_type": "code",
   "execution_count": 1,
   "id": "a563dbe5-c867-43ba-ae43-965ab86cee99",
   "metadata": {
    "scrolled": true
   },
   "outputs": [
    {
     "name": "stdout",
     "output_type": "stream",
     "text": [
      "Requirement already satisfied: pandas in c:\\users\\owner\\anaconda3\\envs\\tf_env\\lib\\site-packages (2.2.3)\n",
      "Requirement already satisfied: numpy>=1.22.4 in c:\\users\\owner\\anaconda3\\envs\\tf_env\\lib\\site-packages (from pandas) (1.26.4)\n",
      "Requirement already satisfied: python-dateutil>=2.8.2 in c:\\users\\owner\\anaconda3\\envs\\tf_env\\lib\\site-packages (from pandas) (2.9.0.post0)\n",
      "Requirement already satisfied: pytz>=2020.1 in c:\\users\\owner\\anaconda3\\envs\\tf_env\\lib\\site-packages (from pandas) (2025.2)\n",
      "Requirement already satisfied: tzdata>=2022.7 in c:\\users\\owner\\anaconda3\\envs\\tf_env\\lib\\site-packages (from pandas) (2025.2)\n",
      "Requirement already satisfied: six>=1.5 in c:\\users\\owner\\anaconda3\\envs\\tf_env\\lib\\site-packages (from python-dateutil>=2.8.2->pandas) (1.17.0)\n",
      "Requirement already satisfied: requests in c:\\users\\owner\\anaconda3\\envs\\tf_env\\lib\\site-packages (2.32.3)\n",
      "Requirement already satisfied: charset-normalizer<4,>=2 in c:\\users\\owner\\anaconda3\\envs\\tf_env\\lib\\site-packages (from requests) (3.3.2)\n",
      "Requirement already satisfied: idna<4,>=2.5 in c:\\users\\owner\\anaconda3\\envs\\tf_env\\lib\\site-packages (from requests) (3.10)\n",
      "Requirement already satisfied: urllib3<3,>=1.21.1 in c:\\users\\owner\\anaconda3\\envs\\tf_env\\lib\\site-packages (from requests) (1.26.20)\n",
      "Requirement already satisfied: certifi>=2017.4.17 in c:\\users\\owner\\anaconda3\\envs\\tf_env\\lib\\site-packages (from requests) (2025.4.26)\n",
      "Requirement already satisfied: sqlalchemy in c:\\users\\owner\\anaconda3\\envs\\tf_env\\lib\\site-packages (2.0.41)\n",
      "Requirement already satisfied: greenlet>=1 in c:\\users\\owner\\anaconda3\\envs\\tf_env\\lib\\site-packages (from sqlalchemy) (3.2.2)\n",
      "Requirement already satisfied: typing-extensions>=4.6.0 in c:\\users\\owner\\anaconda3\\envs\\tf_env\\lib\\site-packages (from sqlalchemy) (4.12.2)\n",
      "Requirement already satisfied: flask in c:\\users\\owner\\anaconda3\\envs\\tf_env\\lib\\site-packages (3.1.1)\n",
      "Requirement already satisfied: blinker>=1.9.0 in c:\\users\\owner\\anaconda3\\envs\\tf_env\\lib\\site-packages (from flask) (1.9.0)\n",
      "Requirement already satisfied: click>=8.1.3 in c:\\users\\owner\\anaconda3\\envs\\tf_env\\lib\\site-packages (from flask) (8.1.8)\n",
      "Requirement already satisfied: importlib-metadata>=3.6.0 in c:\\users\\owner\\anaconda3\\envs\\tf_env\\lib\\site-packages (from flask) (6.11.0)\n",
      "Requirement already satisfied: itsdangerous>=2.2.0 in c:\\users\\owner\\anaconda3\\envs\\tf_env\\lib\\site-packages (from flask) (2.2.0)\n",
      "Requirement already satisfied: jinja2>=3.1.2 in c:\\users\\owner\\anaconda3\\envs\\tf_env\\lib\\site-packages (from flask) (3.1.6)\n",
      "Requirement already satisfied: markupsafe>=2.1.1 in c:\\users\\owner\\anaconda3\\envs\\tf_env\\lib\\site-packages (from flask) (3.0.2)\n",
      "Requirement already satisfied: werkzeug>=3.1.0 in c:\\users\\owner\\anaconda3\\envs\\tf_env\\lib\\site-packages (from flask) (3.1.3)\n",
      "Requirement already satisfied: colorama in c:\\users\\owner\\anaconda3\\envs\\tf_env\\lib\\site-packages (from click>=8.1.3->flask) (0.4.6)\n",
      "Requirement already satisfied: zipp>=0.5 in c:\\users\\owner\\anaconda3\\envs\\tf_env\\lib\\site-packages (from importlib-metadata>=3.6.0->flask) (3.21.0)\n"
     ]
    }
   ],
   "source": [
    "!pip install pandas\n",
    "!pip install requests\n",
    "!pip install sqlalchemy\n",
    "!pip install flask\n"
   ]
  },
  {
   "cell_type": "code",
   "execution_count": 2,
   "id": "f4dacf2b-fa2c-4f5a-a9e9-1fc6d60e8972",
   "metadata": {},
   "outputs": [
    {
     "name": "stderr",
     "output_type": "stream",
     "text": [
      "C:\\Users\\Owner\\anaconda3\\envs\\tf_env\\lib\\site-packages\\requests\\__init__.py:86: RequestsDependencyWarning: Unable to find acceptable character detection dependency (chardet or charset_normalizer).\n",
      "  warnings.warn(\n"
     ]
    }
   ],
   "source": [
    "import requests\n",
    "import pandas as pd\n",
    "import numpy as np\n",
    "import sqlalchemy as sql\n",
    "from sqlalchemy import inspect\n",
    "from sqlalchemy import create_engine, Column, Integer, String, Float, ForeignKey\n",
    "from sqlalchemy.orm import declarative_base, sessionmaker, Session, relationship"
   ]
  },
  {
   "cell_type": "markdown",
   "id": "8fe9b360-5a85-44ee-83ed-22d983f9cb69",
   "metadata": {},
   "source": [
    "#### create database"
   ]
  },
  {
   "cell_type": "code",
   "execution_count": 3,
   "id": "55460d30-7301-4280-ad6a-f30ecf7db939",
   "metadata": {},
   "outputs": [],
   "source": [
    "engine = sql.create_engine(\"sqlite:///sports_analysis.sqlite\")\n",
    "Session = sessionmaker(bind=engine)\n",
    "session = Session()\n",
    "Base = declarative_base()"
   ]
  },
  {
   "cell_type": "code",
   "execution_count": null,
   "id": "50f92345-5bc9-4ee7-9186-ff80906f796e",
   "metadata": {},
   "outputs": [],
   "source": []
  },
  {
   "cell_type": "code",
   "execution_count": 4,
   "id": "805f4740-d313-49be-a6f2-3a08f16f6cee",
   "metadata": {},
   "outputs": [],
   "source": [
    "class Team(Base):\n",
    "    __tablename__ = 'teams'\n",
    "    id = Column(String, primary_key=True)\n",
    "    name = Column(String)\n",
    "    abbreviation = Column(String)\n",
    "    market = Column(String)\n",
    "\n",
    "    players = relationship(\"Player\", back_populates=\"team\")\n",
    "\n",
    "class Player(Base):\n",
    "    __tablename__ = 'players'\n",
    "    id = Column(String, primary_key=True)\n",
    "    full_name = Column(String)\n",
    "    position = Column(String)\n",
    "    jersey_number = Column(String)\n",
    "    team_id = Column(String, ForeignKey('teams.id'))\n",
    "\n",
    "    team = relationship(\"Team\", back_populates=\"players\")\n",
    "    stats = relationship(\"PlayerStat\", back_populates=\"player\")\n",
    "\n",
    "class PlayerStat(Base):\n",
    "    __tablename__ = 'player_stats'\n",
    "    id = Column(Integer, primary_key=True)\n",
    "    player_id = Column(String, ForeignKey('players.id'))\n",
    "    season_id = Column(String)\n",
    "    games_played = Column(Integer)\n",
    "    hits = Column(Integer)\n",
    "    home_runs = Column(Integer)\n",
    "    rbi = Column(Integer)\n",
    "\n",
    "    player = relationship(\"Player\", back_populates=\"stats\")\n",
    "Base.metadata.create_all(engine)\n",
    "    "
   ]
  },
  {
   "cell_type": "code",
   "execution_count": 5,
   "id": "36b58568-008f-4061-ab34-353393bf9fb8",
   "metadata": {},
   "outputs": [
    {
     "name": "stdout",
     "output_type": "stream",
     "text": [
      "\n",
      "    <!DOCTYPE html>\n",
      "    <html lang=\"en\">\n",
      "      <head>\n",
      "        <meta charset=\"utf-8\">\n",
      "        <title>Authentication Error</title>\n",
      "      </head>\n",
      "      <body>\n",
      "        <p>Authentication Error</p>\n",
      "      </body>\n",
      "    </html>\n",
      "    \n"
     ]
    }
   ],
   "source": [
    "url = \"https://api.sportradar.com/mlb/trial/v8/en/seasons/2025/REG/teams/25507be1-6a68-4267-bd82-e097d94b359b/statistics.json\"\n",
    "\n",
    "headers = {\n",
    "    \"accept\": \"application/json\",\n",
    "    \"x-api-key\": \"NYii5TfXY5KzhPP7RPf2Wj5eMOxiZPqFI1jDuKMB\"\n",
    "}\n",
    "\n",
    "response = requests.get(url, headers=headers)\n",
    "\n",
    "print(response.text)"
   ]
  },
  {
   "cell_type": "code",
   "execution_count": null,
   "id": "79a1a041",
   "metadata": {},
   "outputs": [],
   "source": []
  },
  {
   "cell_type": "code",
   "execution_count": 9,
   "id": "1dc1c9f6-6364-46f6-984d-eddc50255cf6",
   "metadata": {},
   "outputs": [],
   "source": [
    "def insert_players(data):\n",
    "    teams = data.get('teams', [])\n",
    "    \n",
    "    for team in teams:\n",
    "        team_name = team.get('name', '')\n",
    "        players = team.get('players', [])\n",
    "        \n",
    "        for player in players:\n",
    "            player_id = player.get('id')\n",
    "            name = player.get('full_name')\n",
    "            position = player.get('primary_position', {}).get('abbreviation', '')\n",
    "            number = player.get('jersey_number', '')\n",
    "\n",
    "            new_player = Player(\n",
    "                id=player_id,\n",
    "                full_name=name,\n",
    "                team=team_name,\n",
    "                position=position,\n",
    "                jersey_number=number\n",
    "            )\n",
    "            session.merge(new_player)  # merge = insert or update\n",
    "    session.commit()\n"
   ]
  },
  {
   "cell_type": "code",
   "execution_count": null,
   "id": "517e5440-032c-4758-8223-9ccf8f4d5007",
   "metadata": {},
   "outputs": [],
   "source": []
  },
  {
   "cell_type": "code",
   "execution_count": null,
   "id": "9b4ed30d",
   "metadata": {},
   "outputs": [],
   "source": []
  },
  {
   "cell_type": "code",
   "execution_count": null,
   "id": "2a34243b-c364-4465-9888-61e72584fdee",
   "metadata": {},
   "outputs": [],
   "source": []
  },
  {
   "cell_type": "code",
   "execution_count": null,
   "id": "646d113f-4dcd-4911-8262-f18310902515",
   "metadata": {},
   "outputs": [],
   "source": []
  },
  {
   "cell_type": "code",
   "execution_count": null,
   "id": "06349d4b-2920-4ae5-803e-1e20f999086e",
   "metadata": {},
   "outputs": [],
   "source": []
  },
  {
   "cell_type": "code",
   "execution_count": null,
   "id": "6d765939-0070-43d5-a2b5-b0a0504dd2dd",
   "metadata": {},
   "outputs": [],
   "source": []
  },
  {
   "cell_type": "code",
   "execution_count": 4,
   "id": "701763cc-2a9a-4ec1-8ef9-074fc0d5cf65",
   "metadata": {
    "scrolled": true
   },
   "outputs": [
    {
     "ename": "JSONDecodeError",
     "evalue": "Expecting value: line 2 column 5 (char 5)",
     "output_type": "error",
     "traceback": [
      "\u001b[1;31m---------------------------------------------------------------------------\u001b[0m",
      "\u001b[1;31mJSONDecodeError\u001b[0m                           Traceback (most recent call last)",
      "File \u001b[1;32m~\\anaconda3\\envs\\tf_env\\lib\\site-packages\\requests\\models.py:963\u001b[0m, in \u001b[0;36mResponse.json\u001b[1;34m(self, **kwargs)\u001b[0m\n\u001b[0;32m    962\u001b[0m \u001b[38;5;28;01mtry\u001b[39;00m:\n\u001b[1;32m--> 963\u001b[0m     \u001b[38;5;28;01mreturn\u001b[39;00m complexjson\u001b[38;5;241m.\u001b[39mloads(\u001b[38;5;28mself\u001b[39m\u001b[38;5;241m.\u001b[39mcontent\u001b[38;5;241m.\u001b[39mdecode(encoding), \u001b[38;5;241m*\u001b[39m\u001b[38;5;241m*\u001b[39mkwargs)\n\u001b[0;32m    964\u001b[0m \u001b[38;5;28;01mexcept\u001b[39;00m \u001b[38;5;167;01mUnicodeDecodeError\u001b[39;00m:\n\u001b[0;32m    965\u001b[0m     \u001b[38;5;66;03m# Wrong UTF codec detected; usually because it's not UTF-8\u001b[39;00m\n\u001b[0;32m    966\u001b[0m     \u001b[38;5;66;03m# but some other 8-bit codec.  This is an RFC violation,\u001b[39;00m\n\u001b[0;32m    967\u001b[0m     \u001b[38;5;66;03m# and the server didn't bother to tell us what codec *was*\u001b[39;00m\n\u001b[0;32m    968\u001b[0m     \u001b[38;5;66;03m# used.\u001b[39;00m\n",
      "File \u001b[1;32m~\\anaconda3\\envs\\tf_env\\lib\\json\\__init__.py:346\u001b[0m, in \u001b[0;36mloads\u001b[1;34m(s, cls, object_hook, parse_float, parse_int, parse_constant, object_pairs_hook, **kw)\u001b[0m\n\u001b[0;32m    343\u001b[0m \u001b[38;5;28;01mif\u001b[39;00m (\u001b[38;5;28mcls\u001b[39m \u001b[38;5;129;01mis\u001b[39;00m \u001b[38;5;28;01mNone\u001b[39;00m \u001b[38;5;129;01mand\u001b[39;00m object_hook \u001b[38;5;129;01mis\u001b[39;00m \u001b[38;5;28;01mNone\u001b[39;00m \u001b[38;5;129;01mand\u001b[39;00m\n\u001b[0;32m    344\u001b[0m         parse_int \u001b[38;5;129;01mis\u001b[39;00m \u001b[38;5;28;01mNone\u001b[39;00m \u001b[38;5;129;01mand\u001b[39;00m parse_float \u001b[38;5;129;01mis\u001b[39;00m \u001b[38;5;28;01mNone\u001b[39;00m \u001b[38;5;129;01mand\u001b[39;00m\n\u001b[0;32m    345\u001b[0m         parse_constant \u001b[38;5;129;01mis\u001b[39;00m \u001b[38;5;28;01mNone\u001b[39;00m \u001b[38;5;129;01mand\u001b[39;00m object_pairs_hook \u001b[38;5;129;01mis\u001b[39;00m \u001b[38;5;28;01mNone\u001b[39;00m \u001b[38;5;129;01mand\u001b[39;00m \u001b[38;5;129;01mnot\u001b[39;00m kw):\n\u001b[1;32m--> 346\u001b[0m     \u001b[38;5;28;01mreturn\u001b[39;00m \u001b[43m_default_decoder\u001b[49m\u001b[38;5;241;43m.\u001b[39;49m\u001b[43mdecode\u001b[49m\u001b[43m(\u001b[49m\u001b[43ms\u001b[49m\u001b[43m)\u001b[49m\n\u001b[0;32m    347\u001b[0m \u001b[38;5;28;01mif\u001b[39;00m \u001b[38;5;28mcls\u001b[39m \u001b[38;5;129;01mis\u001b[39;00m \u001b[38;5;28;01mNone\u001b[39;00m:\n",
      "File \u001b[1;32m~\\anaconda3\\envs\\tf_env\\lib\\json\\decoder.py:337\u001b[0m, in \u001b[0;36mJSONDecoder.decode\u001b[1;34m(self, s, _w)\u001b[0m\n\u001b[0;32m    333\u001b[0m \u001b[38;5;250m\u001b[39m\u001b[38;5;124;03m\"\"\"Return the Python representation of ``s`` (a ``str`` instance\u001b[39;00m\n\u001b[0;32m    334\u001b[0m \u001b[38;5;124;03mcontaining a JSON document).\u001b[39;00m\n\u001b[0;32m    335\u001b[0m \n\u001b[0;32m    336\u001b[0m \u001b[38;5;124;03m\"\"\"\u001b[39;00m\n\u001b[1;32m--> 337\u001b[0m obj, end \u001b[38;5;241m=\u001b[39m \u001b[38;5;28;43mself\u001b[39;49m\u001b[38;5;241;43m.\u001b[39;49m\u001b[43mraw_decode\u001b[49m\u001b[43m(\u001b[49m\u001b[43ms\u001b[49m\u001b[43m,\u001b[49m\u001b[43m \u001b[49m\u001b[43midx\u001b[49m\u001b[38;5;241;43m=\u001b[39;49m\u001b[43m_w\u001b[49m\u001b[43m(\u001b[49m\u001b[43ms\u001b[49m\u001b[43m,\u001b[49m\u001b[43m \u001b[49m\u001b[38;5;241;43m0\u001b[39;49m\u001b[43m)\u001b[49m\u001b[38;5;241;43m.\u001b[39;49m\u001b[43mend\u001b[49m\u001b[43m(\u001b[49m\u001b[43m)\u001b[49m\u001b[43m)\u001b[49m\n\u001b[0;32m    338\u001b[0m end \u001b[38;5;241m=\u001b[39m _w(s, end)\u001b[38;5;241m.\u001b[39mend()\n",
      "File \u001b[1;32m~\\anaconda3\\envs\\tf_env\\lib\\json\\decoder.py:355\u001b[0m, in \u001b[0;36mJSONDecoder.raw_decode\u001b[1;34m(self, s, idx)\u001b[0m\n\u001b[0;32m    354\u001b[0m \u001b[38;5;28;01mexcept\u001b[39;00m \u001b[38;5;167;01mStopIteration\u001b[39;00m \u001b[38;5;28;01mas\u001b[39;00m err:\n\u001b[1;32m--> 355\u001b[0m     \u001b[38;5;28;01mraise\u001b[39;00m JSONDecodeError(\u001b[38;5;124m\"\u001b[39m\u001b[38;5;124mExpecting value\u001b[39m\u001b[38;5;124m\"\u001b[39m, s, err\u001b[38;5;241m.\u001b[39mvalue) \u001b[38;5;28;01mfrom\u001b[39;00m\u001b[38;5;250m \u001b[39m\u001b[38;5;28;01mNone\u001b[39;00m\n\u001b[0;32m    356\u001b[0m \u001b[38;5;28;01mreturn\u001b[39;00m obj, end\n",
      "\u001b[1;31mJSONDecodeError\u001b[0m: Expecting value: line 2 column 5 (char 5)",
      "\nDuring handling of the above exception, another exception occurred:\n",
      "\u001b[1;31mJSONDecodeError\u001b[0m                           Traceback (most recent call last)",
      "Cell \u001b[1;32mIn[4], line 11\u001b[0m\n\u001b[0;32m      4\u001b[0m url \u001b[38;5;241m=\u001b[39m \u001b[38;5;124m\"\u001b[39m\u001b[38;5;124mhttps://api.sportradar.com/mlb/trial/v8/en/players/80de60c9-74e3-4a50-b128-b3dc7456a254/profile.json\u001b[39m\u001b[38;5;124m\"\u001b[39m\n\u001b[0;32m      6\u001b[0m headers \u001b[38;5;241m=\u001b[39m {\n\u001b[0;32m      7\u001b[0m     \u001b[38;5;124m\"\u001b[39m\u001b[38;5;124maccept\u001b[39m\u001b[38;5;124m\"\u001b[39m: \u001b[38;5;124m\"\u001b[39m\u001b[38;5;124mapplication/json\u001b[39m\u001b[38;5;124m\"\u001b[39m,\n\u001b[0;32m      8\u001b[0m     \u001b[38;5;124m\"\u001b[39m\u001b[38;5;124mx-api-key\u001b[39m\u001b[38;5;124m\"\u001b[39m: \u001b[38;5;124m\"\u001b[39m\u001b[38;5;124mNYii5TfXY5KzhPP7RPf2Wj5eMOxiZPqFI1jDuKMB\u001b[39m\u001b[38;5;124m\"\u001b[39m\n\u001b[0;32m      9\u001b[0m }\n\u001b[1;32m---> 11\u001b[0m response \u001b[38;5;241m=\u001b[39m \u001b[43mrequests\u001b[49m\u001b[38;5;241;43m.\u001b[39;49m\u001b[43mget\u001b[49m\u001b[43m(\u001b[49m\u001b[43murl\u001b[49m\u001b[43m)\u001b[49m\u001b[38;5;241;43m.\u001b[39;49m\u001b[43mjson\u001b[49m\u001b[43m(\u001b[49m\u001b[43m)\u001b[49m\n\u001b[0;32m     13\u001b[0m \u001b[38;5;28mprint\u001b[39m(response)\n",
      "File \u001b[1;32m~\\anaconda3\\envs\\tf_env\\lib\\site-packages\\requests\\models.py:971\u001b[0m, in \u001b[0;36mResponse.json\u001b[1;34m(self, **kwargs)\u001b[0m\n\u001b[0;32m    969\u001b[0m             \u001b[38;5;28;01mpass\u001b[39;00m\n\u001b[0;32m    970\u001b[0m         \u001b[38;5;28;01mexcept\u001b[39;00m JSONDecodeError \u001b[38;5;28;01mas\u001b[39;00m e:\n\u001b[1;32m--> 971\u001b[0m             \u001b[38;5;28;01mraise\u001b[39;00m RequestsJSONDecodeError(e\u001b[38;5;241m.\u001b[39mmsg, e\u001b[38;5;241m.\u001b[39mdoc, e\u001b[38;5;241m.\u001b[39mpos)\n\u001b[0;32m    973\u001b[0m \u001b[38;5;28;01mtry\u001b[39;00m:\n\u001b[0;32m    974\u001b[0m     \u001b[38;5;28;01mreturn\u001b[39;00m complexjson\u001b[38;5;241m.\u001b[39mloads(\u001b[38;5;28mself\u001b[39m\u001b[38;5;241m.\u001b[39mtext, \u001b[38;5;241m*\u001b[39m\u001b[38;5;241m*\u001b[39mkwargs)\n",
      "\u001b[1;31mJSONDecodeError\u001b[0m: Expecting value: line 2 column 5 (char 5)"
     ]
    }
   ],
   "source": [
    "api_key: \"NYii5TfXY5KzhPP7RPf2Wj5eMOxiZPqFI1jDuKMB\"\n",
    "\n",
    "\n",
    "url = \"https://api.sportradar.com/mlb/trial/v8/en/players/80de60c9-74e3-4a50-b128-b3dc7456a254/profile.json\"\n",
    "\n",
    "headers = {\n",
    "    \"accept\": \"application/json\",\n",
    "    \"x-api-key\": \"NYii5TfXY5KzhPP7RPf2Wj5eMOxiZPqFI1jDuKMB\"\n",
    "}\n",
    "\n",
    "response = requests.get(url, headers=headers)\n",
    "\n",
    "print(response)"
   ]
  },
  {
   "cell_type": "code",
   "execution_count": null,
   "id": "cbf1e437-0948-4c1a-b3b3-aeb1334a34f0",
   "metadata": {},
   "outputs": [],
   "source": [
    "# GET https://api.sportradar.com/mlb/trial/v8/en/seasons/2025REG/statistics.json?api_key=YOUR_API_KEY"
   ]
  },
  {
   "cell_type": "code",
   "execution_count": null,
   "id": "a63b35ae-b08c-40c2-8bd7-4daf7a1583d3",
   "metadata": {},
   "outputs": [],
   "source": [
    "response"
   ]
  },
  {
   "cell_type": "code",
   "execution_count": null,
   "id": "15a983d8-a7db-48ee-9f31-09b1ffd8eda7",
   "metadata": {},
   "outputs": [],
   "source": [
    "#convert to json, call keys, dataframe and vis"
   ]
  },
  {
   "cell_type": "code",
   "execution_count": null,
   "id": "247d009c-9e5e-4b89-ab21-39f3b37abf91",
   "metadata": {},
   "outputs": [],
   "source": [
    "response.keys()"
   ]
  },
  {
   "cell_type": "code",
   "execution_count": null,
   "id": "bbe39c70-ec92-4d0e-bf6a-fcf6f6cb3aa1",
   "metadata": {},
   "outputs": [],
   "source": [
    "response['player'].keys()"
   ]
  },
  {
   "cell_type": "code",
   "execution_count": null,
   "id": "9e778f2f-3060-44af-b70a-7e918d63615f",
   "metadata": {
    "scrolled": true
   },
   "outputs": [],
   "source": [
    "response[\"player\"][2]"
   ]
  },
  {
   "cell_type": "code",
   "execution_count": null,
   "id": "719d1b90-dedc-4c81-a475-d5cc866c27e2",
   "metadata": {},
   "outputs": [],
   "source": [
    "#example if you have multiplayers\n",
    "rows = []\n",
    "players_list = response[\"player\"]\n",
    "\n",
    "for players in players_list:\n",
    "    Player_id = players['id'],\n",
    "    status = players['status']\n",
    "    primary_position = players['primary_position']\n",
    "    ...\n",
    "\n",
    "    rows.append({'id': Player_id,\n",
    "                 'status': status,\n",
    "                 'primary_position': primary_position\n",
    "                 ....\n",
    "                \n",
    "                })\n",
    "rows_to_df = pd.DataFrame(rows)"
   ]
  },
  {
   "cell_type": "code",
   "execution_count": null,
   "id": "48c4d613-9c22-41bd-b97d-833bd1af286e",
   "metadata": {},
   "outputs": [],
   "source": [
    "rows = []\n",
    "rows.append({'id': response[\"player\"]['id'],\n",
    "                 'status': response[\"player\"]['status'],\n",
    "                 'primary_position': response[\"player\"]['primary_position'] })\n",
    "rows_to_df = pd.DataFrame(rows)"
   ]
  },
  {
   "cell_type": "code",
   "execution_count": null,
   "id": "ffe809cf-dd64-4973-b7dd-1269735f7203",
   "metadata": {},
   "outputs": [],
   "source": [
    "rows_to_df"
   ]
  },
  {
   "cell_type": "code",
   "execution_count": null,
   "id": "a95d4297-8fc3-42db-a35a-e084715f091d",
   "metadata": {},
   "outputs": [],
   "source": []
  },
  {
   "cell_type": "code",
   "execution_count": null,
   "id": "dea79231-d5bf-4d37-87fb-a0a962d3cd59",
   "metadata": {},
   "outputs": [],
   "source": []
  },
  {
   "cell_type": "code",
   "execution_count": null,
   "id": "de7adf08-b007-4e0f-ad0a-02a66fdc5c46",
   "metadata": {},
   "outputs": [],
   "source": []
  },
  {
   "cell_type": "code",
   "execution_count": null,
   "id": "71a0ab15-bfce-4917-83b8-e4fb706e6160",
   "metadata": {
    "scrolled": true
   },
   "outputs": [],
   "source": [
    "dic1"
   ]
  },
  {
   "cell_type": "code",
   "execution_count": null,
   "id": "9a9245be-e22b-4c06-b66d-98411de00f86",
   "metadata": {},
   "outputs": [],
   "source": [
    "dic1.keys()"
   ]
  },
  {
   "cell_type": "code",
   "execution_count": null,
   "id": "b0e3c9e3-d33c-445d-93bc-41689a149e44",
   "metadata": {},
   "outputs": [],
   "source": [
    "items_list = list(dic1.items())\n",
    "print(items_list)"
   ]
  },
  {
   "cell_type": "code",
   "execution_count": null,
   "id": "665b4502-d5f3-4ed1-89f3-390ffe095c88",
   "metadata": {},
   "outputs": [],
   "source": [
    "for item in items_list:\n",
    "    print(type(item),item)"
   ]
  },
  {
   "cell_type": "code",
   "execution_count": null,
   "id": "9abf63db-0c78-4475-9a5f-5d019642aada",
   "metadata": {},
   "outputs": [],
   "source": [
    "my_dict= dict(items_list)"
   ]
  },
  {
   "cell_type": "code",
   "execution_count": null,
   "id": "448d6e2d-faa3-4ce8-9e99-ca788bb37546",
   "metadata": {},
   "outputs": [],
   "source": [
    "print(my_dict)"
   ]
  },
  {
   "cell_type": "code",
   "execution_count": null,
   "id": "677c8fe2-0127-4056-beee-7a2508156398",
   "metadata": {},
   "outputs": [],
   "source": [
    "df = pd.DataFrame(my_dict)"
   ]
  },
  {
   "cell_type": "code",
   "execution_count": 1,
   "id": "aec8e8f9-ce70-4940-b0a4-632bd9cf1a8c",
   "metadata": {},
   "outputs": [
    {
     "ename": "NameError",
     "evalue": "name 'requests' is not defined",
     "output_type": "error",
     "traceback": [
      "\u001b[1;31m---------------------------------------------------------------------------\u001b[0m",
      "\u001b[1;31mNameError\u001b[0m                                 Traceback (most recent call last)",
      "Cell \u001b[1;32mIn[1], line 8\u001b[0m\n\u001b[0;32m      1\u001b[0m url \u001b[38;5;241m=\u001b[39m \u001b[38;5;124m\"\u001b[39m\u001b[38;5;124mhttps://api.sportradar.com/mlb/trial/v8/en/league/teams.json\u001b[39m\u001b[38;5;124m\"\u001b[39m\n\u001b[0;32m      3\u001b[0m headers \u001b[38;5;241m=\u001b[39m {\n\u001b[0;32m      4\u001b[0m     \u001b[38;5;124m\"\u001b[39m\u001b[38;5;124maccept\u001b[39m\u001b[38;5;124m\"\u001b[39m: \u001b[38;5;124m\"\u001b[39m\u001b[38;5;124mapplication/json\u001b[39m\u001b[38;5;124m\"\u001b[39m,\n\u001b[0;32m      5\u001b[0m     \u001b[38;5;124m\"\u001b[39m\u001b[38;5;124mx-api-key\u001b[39m\u001b[38;5;124m\"\u001b[39m: \u001b[38;5;124m\"\u001b[39m\u001b[38;5;124mNYii5TfXY5KzhPP7RPf2Wj5eMOxiZPqFI1jDuKMB\u001b[39m\u001b[38;5;124m\"\u001b[39m\n\u001b[0;32m      6\u001b[0m }\n\u001b[1;32m----> 8\u001b[0m response2 \u001b[38;5;241m=\u001b[39m \u001b[43mrequests\u001b[49m\u001b[38;5;241m.\u001b[39mget(url, headers\u001b[38;5;241m=\u001b[39mheaders)\u001b[38;5;241m.\u001b[39mjson()\n\u001b[0;32m     10\u001b[0m \u001b[38;5;28mprint\u001b[39m(response2)\n",
      "\u001b[1;31mNameError\u001b[0m: name 'requests' is not defined"
     ]
    }
   ],
   "source": [
    "\n",
    "url = \"https://api.sportradar.com/mlb/trial/v8/en/league/teams.json\"\n",
    "\n",
    "headers = {\n",
    "    \"accept\": \"application/json\",\n",
    "    \"x-api-key\": \"NYii5TfXY5KzhPP7RPf2Wj5eMOxiZPqFI1jDuKMB\"\n",
    "}\n",
    "\n",
    "response2 = requests.get(url, headers=headers).json()\n",
    "\n",
    "print(response2)\n"
   ]
  },
  {
   "cell_type": "markdown",
   "id": "ec3f0fc0-aea6-45ed-b711-ffb434146456",
   "metadata": {},
   "source": []
  },
  {
   "cell_type": "code",
   "execution_count": null,
   "id": "044f7ad2-e929-4924-96f8-8cc1757dfe90",
   "metadata": {},
   "outputs": [],
   "source": []
  },
  {
   "cell_type": "code",
   "execution_count": null,
   "id": "ca60e096-2966-4e81-96a7-8d568190dcf0",
   "metadata": {},
   "outputs": [],
   "source": []
  },
  {
   "cell_type": "code",
   "execution_count": null,
   "id": "11a3ecb6-9403-4d8b-a99b-5b60455fd548",
   "metadata": {},
   "outputs": [],
   "source": []
  },
  {
   "cell_type": "code",
   "execution_count": null,
   "id": "e14146a0-6324-4b4f-ba74-9793c5e7e51b",
   "metadata": {},
   "outputs": [],
   "source": []
  },
  {
   "cell_type": "code",
   "execution_count": null,
   "id": "60fecdc0-5432-4d81-b37b-e79658da6819",
   "metadata": {},
   "outputs": [],
   "source": []
  },
  {
   "cell_type": "code",
   "execution_count": null,
   "id": "576e0658-c140-4cf8-b225-1862a93aaf4c",
   "metadata": {},
   "outputs": [],
   "source": []
  },
  {
   "cell_type": "code",
   "execution_count": null,
   "id": "9d79e0cb-d382-49d9-8ba8-9bbe68008c3f",
   "metadata": {},
   "outputs": [],
   "source": []
  },
  {
   "cell_type": "code",
   "execution_count": null,
   "id": "4decdcb0-c7ae-4b8e-b365-1afff50f8653",
   "metadata": {},
   "outputs": [],
   "source": []
  },
  {
   "cell_type": "code",
   "execution_count": null,
   "id": "54d2de07-3d79-4b60-813e-5d07d9b832fd",
   "metadata": {},
   "outputs": [],
   "source": [
    "#def player_search(): ; can choose via first_name or last_name\n",
    "# player input('Search name')"
   ]
  },
  {
   "cell_type": "code",
   "execution_count": null,
   "id": "ba2a1f55-ea85-493b-a419-645ebbc0acd2",
   "metadata": {},
   "outputs": [],
   "source": []
  },
  {
   "cell_type": "code",
   "execution_count": null,
   "id": "17e114ad-4cd5-45ce-9962-3dfe12b692de",
   "metadata": {},
   "outputs": [],
   "source": []
  },
  {
   "cell_type": "code",
   "execution_count": null,
   "id": "ed4eb487-8e57-4dc1-bc82-4e631d882278",
   "metadata": {},
   "outputs": [],
   "source": []
  },
  {
   "cell_type": "code",
   "execution_count": null,
   "id": "d9072928-76be-44b7-ba22-44a502200479",
   "metadata": {},
   "outputs": [],
   "source": []
  },
  {
   "cell_type": "code",
   "execution_count": null,
   "id": "e9e8e095-28dc-475e-8381-4b63714538af",
   "metadata": {},
   "outputs": [],
   "source": []
  },
  {
   "cell_type": "code",
   "execution_count": null,
   "id": "1c157f56-ea0c-40c5-ad99-9f6e89dcc040",
   "metadata": {},
   "outputs": [],
   "source": []
  },
  {
   "cell_type": "code",
   "execution_count": null,
   "id": "7d8a2536-db57-46b0-b00a-d160fd8d2d6b",
   "metadata": {},
   "outputs": [],
   "source": []
  },
  {
   "cell_type": "code",
   "execution_count": null,
   "id": "df6bb28e-43f4-40d0-9551-d100b6446754",
   "metadata": {},
   "outputs": [],
   "source": []
  },
  {
   "cell_type": "code",
   "execution_count": null,
   "id": "968f6d2f-18df-4b11-95c0-8b5964a3042c",
   "metadata": {},
   "outputs": [],
   "source": []
  },
  {
   "cell_type": "code",
   "execution_count": null,
   "id": "7c26e6f3-bd58-4a4a-b127-40ff39754e7a",
   "metadata": {},
   "outputs": [],
   "source": []
  },
  {
   "cell_type": "code",
   "execution_count": null,
   "id": "8ab41133-9319-4cad-80a8-de7c5d5abeb6",
   "metadata": {},
   "outputs": [],
   "source": []
  },
  {
   "cell_type": "code",
   "execution_count": null,
   "id": "50a8036d-8db1-4524-ae55-183b077035f7",
   "metadata": {},
   "outputs": [],
   "source": []
  },
  {
   "cell_type": "code",
   "execution_count": null,
   "id": "c4eba729-ed7e-4064-902b-399b308c88cb",
   "metadata": {},
   "outputs": [],
   "source": []
  },
  {
   "cell_type": "code",
   "execution_count": null,
   "id": "b712bc68-5b3e-44b3-8de9-a5cedb916cca",
   "metadata": {},
   "outputs": [],
   "source": []
  },
  {
   "cell_type": "code",
   "execution_count": null,
   "id": "3abe9e01-2c90-4c63-974f-99c915075535",
   "metadata": {},
   "outputs": [],
   "source": []
  },
  {
   "cell_type": "code",
   "execution_count": null,
   "id": "01556c30-e9f6-4bdc-94fb-960c82e6b2f8",
   "metadata": {},
   "outputs": [],
   "source": []
  },
  {
   "cell_type": "code",
   "execution_count": null,
   "id": "6aa42d82-ed39-43bb-a0ed-883f48e0487b",
   "metadata": {},
   "outputs": [],
   "source": []
  },
  {
   "cell_type": "code",
   "execution_count": null,
   "id": "4deefe17-b6c9-4189-ba61-13d6c26e4ffd",
   "metadata": {},
   "outputs": [],
   "source": []
  },
  {
   "cell_type": "code",
   "execution_count": null,
   "id": "713de781-cd49-433d-acf0-423a04068228",
   "metadata": {},
   "outputs": [],
   "source": []
  },
  {
   "cell_type": "code",
   "execution_count": null,
   "id": "5f41f1e3-f3fa-4251-98c4-e94b2eb1beb2",
   "metadata": {},
   "outputs": [],
   "source": []
  },
  {
   "cell_type": "code",
   "execution_count": null,
   "id": "cf0e8aba-2d82-4c58-b970-3aa7634611ff",
   "metadata": {},
   "outputs": [],
   "source": []
  },
  {
   "cell_type": "code",
   "execution_count": null,
   "id": "34f3165d-5dd0-4f09-a450-4780587ee7fa",
   "metadata": {},
   "outputs": [],
   "source": []
  },
  {
   "cell_type": "code",
   "execution_count": null,
   "id": "53c97f3c-5948-47d4-8a0d-c98ea84ba843",
   "metadata": {},
   "outputs": [],
   "source": []
  },
  {
   "cell_type": "code",
   "execution_count": null,
   "id": "76dcf128-862d-42c0-a259-2eb48a5dbb5a",
   "metadata": {},
   "outputs": [],
   "source": []
  },
  {
   "cell_type": "code",
   "execution_count": null,
   "id": "c582170b-f6f6-4575-93f2-f6d913025775",
   "metadata": {},
   "outputs": [],
   "source": []
  },
  {
   "cell_type": "code",
   "execution_count": null,
   "id": "b001b726-0bd9-48b2-887e-7edd13426193",
   "metadata": {},
   "outputs": [],
   "source": []
  },
  {
   "cell_type": "code",
   "execution_count": null,
   "id": "f8e03d46-cd35-49e1-84cb-e6ef29d5196b",
   "metadata": {},
   "outputs": [],
   "source": []
  },
  {
   "cell_type": "code",
   "execution_count": null,
   "id": "aaa77db1-a253-4f9c-83d1-84d78e996265",
   "metadata": {},
   "outputs": [],
   "source": []
  },
  {
   "cell_type": "code",
   "execution_count": null,
   "id": "001993db-65dc-4070-98af-73f72ea9d6aa",
   "metadata": {},
   "outputs": [],
   "source": []
  },
  {
   "cell_type": "code",
   "execution_count": null,
   "id": "9d61527e-0d4d-45c9-9ffd-97e489bd7d03",
   "metadata": {},
   "outputs": [],
   "source": []
  },
  {
   "cell_type": "code",
   "execution_count": null,
   "id": "458726b5-9a53-415e-ac10-5b241ae2c6e0",
   "metadata": {},
   "outputs": [],
   "source": []
  },
  {
   "cell_type": "code",
   "execution_count": null,
   "id": "227086e2-b69f-4aa4-82a7-8b20f0cd9a18",
   "metadata": {},
   "outputs": [],
   "source": []
  },
  {
   "cell_type": "code",
   "execution_count": null,
   "id": "ab511f82-4d7f-4db8-8fc4-f1bb1667f66c",
   "metadata": {},
   "outputs": [],
   "source": []
  }
 ],
 "metadata": {
  "kernelspec": {
   "display_name": "Python 3 (ipykernel)",
   "language": "python",
   "name": "python3"
  },
  "language_info": {
   "codemirror_mode": {
    "name": "ipython",
    "version": 3
   },
   "file_extension": ".py",
   "mimetype": "text/x-python",
   "name": "python",
   "nbconvert_exporter": "python",
   "pygments_lexer": "ipython3",
   "version": "3.9.21"
  }
 },
 "nbformat": 4,
 "nbformat_minor": 5
}
