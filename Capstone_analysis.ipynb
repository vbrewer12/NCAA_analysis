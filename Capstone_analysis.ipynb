{
 "cells": [
  {
   "cell_type": "code",
   "execution_count": null,
   "id": "a563dbe5-c867-43ba-ae43-965ab86cee99",
   "metadata": {
    "scrolled": true
   },
   "outputs": [],
   "source": [
    "!pip install pandas\n",
    "!pip install requests\n",
    "!pip install sqlalchemy\n",
    "!pip install flask\n"
   ]
  },
  {
   "cell_type": "code",
   "execution_count": null,
   "id": "f4dacf2b-fa2c-4f5a-a9e9-1fc6d60e8972",
   "metadata": {},
   "outputs": [],
   "source": [
    "import requests\n",
    "import pandas as pd\n",
    "import numpy as np\n",
    "import sqlalchemy as sql\n",
    "from sqlalchemy import inspect\n",
    "from sqlalchemy import create_engine, Column, Integer, String, Float, ForeignKey\n",
    "from sqlalchemy.orm import declarative_base, sessionmaker, Session, relationship"
   ]
  },
  {
   "cell_type": "markdown",
   "id": "8fe9b360-5a85-44ee-83ed-22d983f9cb69",
   "metadata": {},
   "source": [
    "#### create database"
   ]
  },
  {
   "cell_type": "code",
   "execution_count": null,
   "id": "55460d30-7301-4280-ad6a-f30ecf7db939",
   "metadata": {},
   "outputs": [],
   "source": [
    "engine = sql.create_engine(\"sqlite:///sports_analysis.sqlite\")\n",
    "Session = sessionmaker(bind=engine)\n",
    "session = Session()\n",
    "Base = declarative_base()"
   ]
  },
  {
   "cell_type": "code",
   "execution_count": null,
   "id": "50f92345-5bc9-4ee7-9186-ff80906f796e",
   "metadata": {},
   "outputs": [],
   "source": []
  },
  {
   "cell_type": "code",
   "execution_count": null,
   "id": "805f4740-d313-49be-a6f2-3a08f16f6cee",
   "metadata": {},
   "outputs": [],
   "source": [
    "class Team(Base):\n",
    "    __tablename__ = 'teams'\n",
    "    id = Column(String, primary_key=True)\n",
    "    name = Column(String)\n",
    "    abbreviation = Column(String)\n",
    "    market = Column(String)\n",
    "\n",
    "    players = relationship(\"Player\", back_populates=\"team\")\n",
    "\n",
    "class Player(Base):\n",
    "    __tablename__ = 'players'\n",
    "    id = Column(String, primary_key=True)\n",
    "    full_name = Column(String)\n",
    "    position = Column(String)\n",
    "    jersey_number = Column(String)\n",
    "    team_id = Column(String, ForeignKey('teams.id'))\n",
    "\n",
    "    team = relationship(\"Team\", back_populates=\"players\")\n",
    "    stats = relationship(\"PlayerStat\", back_populates=\"player\")\n",
    "\n",
    "class PlayerStat(Base):\n",
    "    __tablename__ = 'player_stats'\n",
    "    id = Column(Integer, primary_key=True)\n",
    "    player_id = Column(String, ForeignKey('players.id'))\n",
    "    season_id = Column(String)\n",
    "    games_played = Column(Integer)\n",
    "    hits = Column(Integer)\n",
    "    home_runs = Column(Integer)\n",
    "    rbi = Column(Integer)\n",
    "\n",
    "    player = relationship(\"Player\", back_populates=\"stats\")\n",
    "Base.metadata.create_all(engine)\n",
    "    "
   ]
  },
  {
   "cell_type": "code",
   "execution_count": null,
   "id": "36b58568-008f-4061-ab34-353393bf9fb8",
   "metadata": {},
   "outputs": [],
   "source": [
    "def fetch_players(api_key, season_id):\n",
    "    url = f\"https://api.sportradar.com/mlb/trial/v8/en/seasons/{season_id}/statistics.json?api_key={api_key}\"\n",
    "    response = requests.get(url)\n",
    "    response.raise_for_status()\n",
    "    return response.json()\n",
    "    \n",
    "def fetch_season_stats(api_key, season_id):\n",
    "    url = f\"https://api.sportradar.com/mlb/trial/v8/en/seasons/{season_id}/statistics.json?api_key={api_key}\"\n",
    "    response = requests.get(url)\n",
    "    response.raise_for_status()\n",
    "    return response.json()"
   ]
  },
  {
   "cell_type": "code",
   "execution_count": null,
   "id": "1dc1c9f6-6364-46f6-984d-eddc50255cf6",
   "metadata": {},
   "outputs": [],
   "source": [
    "def insert_players(data):\n",
    "    teams = data.get('teams', [])\n",
    "    \n",
    "    for team in teams:\n",
    "        team_name = team.get('name', '')\n",
    "        players = team.get('players', [])\n",
    "        \n",
    "        for player in players:\n",
    "            player_id = player.get('id')\n",
    "            name = player.get('full_name')\n",
    "            position = player.get('primary_position', {}).get('abbreviation', '')\n",
    "            number = player.get('jersey_number', '')\n",
    "\n",
    "            new_player = Player(\n",
    "                id=player_id,\n",
    "                full_name=name,\n",
    "                team=team_name,\n",
    "                position=position,\n",
    "                jersey_number=number\n",
    "            )\n",
    "            session.merge(new_player)  # merge = insert or update\n",
    "    session.commit()\n"
   ]
  },
  {
   "cell_type": "code",
   "execution_count": null,
   "id": "517e5440-032c-4758-8223-9ccf8f4d5007",
   "metadata": {},
   "outputs": [],
   "source": [
    "if __name__ == \"__main__\":\n",
    "    API_KEY = 'NYii5TfXY5KzhPP7RPf2Wj5eMOxiZPqFI1jDuKMB'\n",
    "    SEASON_ID = '2025/REG'  # Example season\n",
    "\n",
    "    data = fetch_players(API_KEY, SEASON_ID)\n",
    "    insert_players(data)\n",
    "    print(\"Players added to database.\")\n"
   ]
  },
  {
   "cell_type": "code",
   "execution_count": null,
   "id": "2a34243b-c364-4465-9888-61e72584fdee",
   "metadata": {},
   "outputs": [],
   "source": []
  },
  {
   "cell_type": "code",
   "execution_count": null,
   "id": "646d113f-4dcd-4911-8262-f18310902515",
   "metadata": {},
   "outputs": [],
   "source": []
  },
  {
   "cell_type": "code",
   "execution_count": null,
   "id": "06349d4b-2920-4ae5-803e-1e20f999086e",
   "metadata": {},
   "outputs": [],
   "source": []
  },
  {
   "cell_type": "code",
   "execution_count": null,
   "id": "6d765939-0070-43d5-a2b5-b0a0504dd2dd",
   "metadata": {},
   "outputs": [],
   "source": []
  },
  {
   "cell_type": "code",
   "execution_count": null,
   "id": "701763cc-2a9a-4ec1-8ef9-074fc0d5cf65",
   "metadata": {
    "scrolled": true
   },
   "outputs": [],
   "source": [
    "api_key: \"NYii5TfXY5KzhPP7RPf2Wj5eMOxiZPqFI1jDuKMB\"\n",
    "\n",
    "\n",
    "url = \"https://api.sportradar.com/mlb/trial/v8/en/players/80de60c9-74e3-4a50-b128-b3dc7456a254/profile.json\"\n",
    "\n",
    "headers = {\n",
    "    \"accept\": \"application/json\",\n",
    "    \"x-api-key\": \"NYii5TfXY5KzhPP7RPf2Wj5eMOxiZPqFI1jDuKMB\"\n",
    "}\n",
    "\n",
    "response = requests.get(url, headers=headers).json()\n",
    "\n",
    "print(response)"
   ]
  },
  {
   "cell_type": "code",
   "execution_count": null,
   "id": "cbf1e437-0948-4c1a-b3b3-aeb1334a34f0",
   "metadata": {},
   "outputs": [],
   "source": [
    "# GET https://api.sportradar.com/mlb/trial/v8/en/seasons/2025REG/statistics.json?api_key=YOUR_API_KEY"
   ]
  },
  {
   "cell_type": "code",
   "execution_count": null,
   "id": "a63b35ae-b08c-40c2-8bd7-4daf7a1583d3",
   "metadata": {},
   "outputs": [],
   "source": [
    "response"
   ]
  },
  {
   "cell_type": "code",
   "execution_count": null,
   "id": "15a983d8-a7db-48ee-9f31-09b1ffd8eda7",
   "metadata": {},
   "outputs": [],
   "source": [
    "#convert to json, call keys, dataframe and vis"
   ]
  },
  {
   "cell_type": "code",
   "execution_count": null,
   "id": "247d009c-9e5e-4b89-ab21-39f3b37abf91",
   "metadata": {},
   "outputs": [],
   "source": [
    "response.keys()"
   ]
  },
  {
   "cell_type": "code",
   "execution_count": null,
   "id": "bbe39c70-ec92-4d0e-bf6a-fcf6f6cb3aa1",
   "metadata": {},
   "outputs": [],
   "source": [
    "response['player'].keys()"
   ]
  },
  {
   "cell_type": "code",
   "execution_count": null,
   "id": "9e778f2f-3060-44af-b70a-7e918d63615f",
   "metadata": {
    "scrolled": true
   },
   "outputs": [],
   "source": [
    "response[\"player\"][2]"
   ]
  },
  {
   "cell_type": "code",
   "execution_count": null,
   "id": "719d1b90-dedc-4c81-a475-d5cc866c27e2",
   "metadata": {},
   "outputs": [],
   "source": [
    "#example if you have multiplayers\n",
    "rows = []\n",
    "players_list = response[\"player\"]\n",
    "\n",
    "for players in players_list:\n",
    "    Player_id = players['id'],\n",
    "    status = players['status']\n",
    "    primary_position = players['primary_position']\n",
    "    ...\n",
    "\n",
    "    rows.append({'id': Player_id,\n",
    "                 'status': status,\n",
    "                 'primary_position': primary_position\n",
    "                 ....\n",
    "                \n",
    "                })\n",
    "rows_to_df = pd.DataFrame(rows)"
   ]
  },
  {
   "cell_type": "code",
   "execution_count": null,
   "id": "48c4d613-9c22-41bd-b97d-833bd1af286e",
   "metadata": {},
   "outputs": [],
   "source": [
    "rows = []\n",
    "rows.append({'id': response[\"player\"]['id'],\n",
    "                 'status': response[\"player\"]['status'],\n",
    "                 'primary_position': response[\"player\"]['primary_position'] })\n",
    "rows_to_df = pd.DataFrame(rows)"
   ]
  },
  {
   "cell_type": "code",
   "execution_count": null,
   "id": "ffe809cf-dd64-4973-b7dd-1269735f7203",
   "metadata": {},
   "outputs": [],
   "source": [
    "rows_to_df"
   ]
  },
  {
   "cell_type": "code",
   "execution_count": null,
   "id": "a95d4297-8fc3-42db-a35a-e084715f091d",
   "metadata": {},
   "outputs": [],
   "source": []
  },
  {
   "cell_type": "code",
   "execution_count": null,
   "id": "dea79231-d5bf-4d37-87fb-a0a962d3cd59",
   "metadata": {},
   "outputs": [],
   "source": []
  },
  {
   "cell_type": "code",
   "execution_count": null,
   "id": "de7adf08-b007-4e0f-ad0a-02a66fdc5c46",
   "metadata": {},
   "outputs": [],
   "source": []
  },
  {
   "cell_type": "code",
   "execution_count": null,
   "id": "71a0ab15-bfce-4917-83b8-e4fb706e6160",
   "metadata": {
    "scrolled": true
   },
   "outputs": [],
   "source": [
    "dic1"
   ]
  },
  {
   "cell_type": "code",
   "execution_count": null,
   "id": "9a9245be-e22b-4c06-b66d-98411de00f86",
   "metadata": {},
   "outputs": [],
   "source": [
    "dic1.keys()"
   ]
  },
  {
   "cell_type": "code",
   "execution_count": null,
   "id": "b0e3c9e3-d33c-445d-93bc-41689a149e44",
   "metadata": {},
   "outputs": [],
   "source": [
    "items_list = list(dic1.items())\n",
    "print(items_list)"
   ]
  },
  {
   "cell_type": "code",
   "execution_count": null,
   "id": "665b4502-d5f3-4ed1-89f3-390ffe095c88",
   "metadata": {},
   "outputs": [],
   "source": [
    "for item in items_list:\n",
    "    print(type(item),item)"
   ]
  },
  {
   "cell_type": "code",
   "execution_count": null,
   "id": "9abf63db-0c78-4475-9a5f-5d019642aada",
   "metadata": {},
   "outputs": [],
   "source": [
    "my_dict= dict(items_list)"
   ]
  },
  {
   "cell_type": "code",
   "execution_count": null,
   "id": "448d6e2d-faa3-4ce8-9e99-ca788bb37546",
   "metadata": {},
   "outputs": [],
   "source": [
    "print(my_dict)"
   ]
  },
  {
   "cell_type": "code",
   "execution_count": null,
   "id": "677c8fe2-0127-4056-beee-7a2508156398",
   "metadata": {},
   "outputs": [],
   "source": [
    "df = pd.DataFrame(my_dict)"
   ]
  },
  {
   "cell_type": "code",
   "execution_count": null,
   "id": "aec8e8f9-ce70-4940-b0a4-632bd9cf1a8c",
   "metadata": {},
   "outputs": [],
   "source": [
    "\"\"\"\n",
    "url = \"https://api.sportradar.com/mlb/trial/v8/en/league/teams.json\"\n",
    "\n",
    "headers = {\n",
    "    \"accept\": \"application/json\",\n",
    "    \"x-api-key\": \"NYii5TfXY5KzhPP7RPf2Wj5eMOxiZPqFI1jDuKMB\"\n",
    "}\n",
    "\n",
    "response2 = requests.get(url, headers=headers).json()\n",
    "\n",
    "print(response2)\n",
    "\"\"\""
   ]
  },
  {
   "cell_type": "markdown",
   "id": "ec3f0fc0-aea6-45ed-b711-ffb434146456",
   "metadata": {},
   "source": []
  },
  {
   "cell_type": "code",
   "execution_count": null,
   "id": "044f7ad2-e929-4924-96f8-8cc1757dfe90",
   "metadata": {},
   "outputs": [],
   "source": []
  },
  {
   "cell_type": "code",
   "execution_count": null,
   "id": "ca60e096-2966-4e81-96a7-8d568190dcf0",
   "metadata": {},
   "outputs": [],
   "source": []
  },
  {
   "cell_type": "code",
   "execution_count": null,
   "id": "11a3ecb6-9403-4d8b-a99b-5b60455fd548",
   "metadata": {},
   "outputs": [],
   "source": []
  },
  {
   "cell_type": "code",
   "execution_count": null,
   "id": "e14146a0-6324-4b4f-ba74-9793c5e7e51b",
   "metadata": {},
   "outputs": [],
   "source": []
  },
  {
   "cell_type": "code",
   "execution_count": null,
   "id": "60fecdc0-5432-4d81-b37b-e79658da6819",
   "metadata": {},
   "outputs": [],
   "source": []
  },
  {
   "cell_type": "code",
   "execution_count": null,
   "id": "576e0658-c140-4cf8-b225-1862a93aaf4c",
   "metadata": {},
   "outputs": [],
   "source": []
  },
  {
   "cell_type": "code",
   "execution_count": null,
   "id": "9d79e0cb-d382-49d9-8ba8-9bbe68008c3f",
   "metadata": {},
   "outputs": [],
   "source": []
  },
  {
   "cell_type": "code",
   "execution_count": null,
   "id": "4decdcb0-c7ae-4b8e-b365-1afff50f8653",
   "metadata": {},
   "outputs": [],
   "source": []
  },
  {
   "cell_type": "code",
   "execution_count": null,
   "id": "54d2de07-3d79-4b60-813e-5d07d9b832fd",
   "metadata": {},
   "outputs": [],
   "source": [
    "#def player_search(): ; can choose via first_name or last_name\n",
    "# player input('Search name')"
   ]
  },
  {
   "cell_type": "code",
   "execution_count": null,
   "id": "ba2a1f55-ea85-493b-a419-645ebbc0acd2",
   "metadata": {},
   "outputs": [],
   "source": []
  },
  {
   "cell_type": "code",
   "execution_count": null,
   "id": "17e114ad-4cd5-45ce-9962-3dfe12b692de",
   "metadata": {},
   "outputs": [],
   "source": []
  },
  {
   "cell_type": "code",
   "execution_count": null,
   "id": "ed4eb487-8e57-4dc1-bc82-4e631d882278",
   "metadata": {},
   "outputs": [],
   "source": []
  },
  {
   "cell_type": "code",
   "execution_count": null,
   "id": "d9072928-76be-44b7-ba22-44a502200479",
   "metadata": {},
   "outputs": [],
   "source": []
  },
  {
   "cell_type": "code",
   "execution_count": null,
   "id": "e9e8e095-28dc-475e-8381-4b63714538af",
   "metadata": {},
   "outputs": [],
   "source": []
  },
  {
   "cell_type": "code",
   "execution_count": null,
   "id": "1c157f56-ea0c-40c5-ad99-9f6e89dcc040",
   "metadata": {},
   "outputs": [],
   "source": []
  },
  {
   "cell_type": "code",
   "execution_count": null,
   "id": "7d8a2536-db57-46b0-b00a-d160fd8d2d6b",
   "metadata": {},
   "outputs": [],
   "source": []
  },
  {
   "cell_type": "code",
   "execution_count": null,
   "id": "df6bb28e-43f4-40d0-9551-d100b6446754",
   "metadata": {},
   "outputs": [],
   "source": []
  },
  {
   "cell_type": "code",
   "execution_count": null,
   "id": "968f6d2f-18df-4b11-95c0-8b5964a3042c",
   "metadata": {},
   "outputs": [],
   "source": []
  },
  {
   "cell_type": "code",
   "execution_count": null,
   "id": "7c26e6f3-bd58-4a4a-b127-40ff39754e7a",
   "metadata": {},
   "outputs": [],
   "source": []
  },
  {
   "cell_type": "code",
   "execution_count": null,
   "id": "8ab41133-9319-4cad-80a8-de7c5d5abeb6",
   "metadata": {},
   "outputs": [],
   "source": []
  },
  {
   "cell_type": "code",
   "execution_count": null,
   "id": "50a8036d-8db1-4524-ae55-183b077035f7",
   "metadata": {},
   "outputs": [],
   "source": []
  },
  {
   "cell_type": "code",
   "execution_count": null,
   "id": "c4eba729-ed7e-4064-902b-399b308c88cb",
   "metadata": {},
   "outputs": [],
   "source": []
  },
  {
   "cell_type": "code",
   "execution_count": null,
   "id": "b712bc68-5b3e-44b3-8de9-a5cedb916cca",
   "metadata": {},
   "outputs": [],
   "source": []
  },
  {
   "cell_type": "code",
   "execution_count": null,
   "id": "3abe9e01-2c90-4c63-974f-99c915075535",
   "metadata": {},
   "outputs": [],
   "source": []
  },
  {
   "cell_type": "code",
   "execution_count": null,
   "id": "01556c30-e9f6-4bdc-94fb-960c82e6b2f8",
   "metadata": {},
   "outputs": [],
   "source": []
  },
  {
   "cell_type": "code",
   "execution_count": null,
   "id": "6aa42d82-ed39-43bb-a0ed-883f48e0487b",
   "metadata": {},
   "outputs": [],
   "source": []
  },
  {
   "cell_type": "code",
   "execution_count": null,
   "id": "4deefe17-b6c9-4189-ba61-13d6c26e4ffd",
   "metadata": {},
   "outputs": [],
   "source": []
  },
  {
   "cell_type": "code",
   "execution_count": null,
   "id": "713de781-cd49-433d-acf0-423a04068228",
   "metadata": {},
   "outputs": [],
   "source": []
  },
  {
   "cell_type": "code",
   "execution_count": null,
   "id": "5f41f1e3-f3fa-4251-98c4-e94b2eb1beb2",
   "metadata": {},
   "outputs": [],
   "source": []
  },
  {
   "cell_type": "code",
   "execution_count": null,
   "id": "cf0e8aba-2d82-4c58-b970-3aa7634611ff",
   "metadata": {},
   "outputs": [],
   "source": []
  },
  {
   "cell_type": "code",
   "execution_count": null,
   "id": "34f3165d-5dd0-4f09-a450-4780587ee7fa",
   "metadata": {},
   "outputs": [],
   "source": []
  },
  {
   "cell_type": "code",
   "execution_count": null,
   "id": "53c97f3c-5948-47d4-8a0d-c98ea84ba843",
   "metadata": {},
   "outputs": [],
   "source": []
  },
  {
   "cell_type": "code",
   "execution_count": null,
   "id": "76dcf128-862d-42c0-a259-2eb48a5dbb5a",
   "metadata": {},
   "outputs": [],
   "source": []
  },
  {
   "cell_type": "code",
   "execution_count": null,
   "id": "c582170b-f6f6-4575-93f2-f6d913025775",
   "metadata": {},
   "outputs": [],
   "source": []
  },
  {
   "cell_type": "code",
   "execution_count": null,
   "id": "b001b726-0bd9-48b2-887e-7edd13426193",
   "metadata": {},
   "outputs": [],
   "source": []
  },
  {
   "cell_type": "code",
   "execution_count": null,
   "id": "f8e03d46-cd35-49e1-84cb-e6ef29d5196b",
   "metadata": {},
   "outputs": [],
   "source": []
  },
  {
   "cell_type": "code",
   "execution_count": null,
   "id": "aaa77db1-a253-4f9c-83d1-84d78e996265",
   "metadata": {},
   "outputs": [],
   "source": []
  },
  {
   "cell_type": "code",
   "execution_count": null,
   "id": "001993db-65dc-4070-98af-73f72ea9d6aa",
   "metadata": {},
   "outputs": [],
   "source": []
  },
  {
   "cell_type": "code",
   "execution_count": null,
   "id": "9d61527e-0d4d-45c9-9ffd-97e489bd7d03",
   "metadata": {},
   "outputs": [],
   "source": []
  },
  {
   "cell_type": "code",
   "execution_count": null,
   "id": "458726b5-9a53-415e-ac10-5b241ae2c6e0",
   "metadata": {},
   "outputs": [],
   "source": []
  },
  {
   "cell_type": "code",
   "execution_count": null,
   "id": "227086e2-b69f-4aa4-82a7-8b20f0cd9a18",
   "metadata": {},
   "outputs": [],
   "source": []
  },
  {
   "cell_type": "code",
   "execution_count": null,
   "id": "ab511f82-4d7f-4db8-8fc4-f1bb1667f66c",
   "metadata": {},
   "outputs": [],
   "source": []
  }
 ],
 "metadata": {
  "kernelspec": {
   "display_name": "Python 3 (ipykernel)",
   "language": "python",
   "name": "python3"
  },
  "language_info": {
   "codemirror_mode": {
    "name": "ipython",
    "version": 3
   },
   "file_extension": ".py",
   "mimetype": "text/x-python",
   "name": "python",
   "nbconvert_exporter": "python",
   "pygments_lexer": "ipython3",
   "version": "3.9.21"
  }
 },
 "nbformat": 4,
 "nbformat_minor": 5
}
