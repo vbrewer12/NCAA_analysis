{
 "cells": [
  {
   "cell_type": "code",
   "execution_count": 1,
   "id": "a563dbe5-c867-43ba-ae43-965ab86cee99",
   "metadata": {
    "scrolled": true
   },
   "outputs": [
    {
     "name": "stdout",
     "output_type": "stream",
     "text": [
      "Requirement already satisfied: pandas in c:\\users\\owner\\anaconda3\\envs\\tf_env\\lib\\site-packages (2.2.3)\n",
      "Requirement already satisfied: numpy>=1.22.4 in c:\\users\\owner\\anaconda3\\envs\\tf_env\\lib\\site-packages (from pandas) (1.26.4)\n",
      "Requirement already satisfied: python-dateutil>=2.8.2 in c:\\users\\owner\\anaconda3\\envs\\tf_env\\lib\\site-packages (from pandas) (2.9.0.post0)\n",
      "Requirement already satisfied: pytz>=2020.1 in c:\\users\\owner\\anaconda3\\envs\\tf_env\\lib\\site-packages (from pandas) (2025.2)\n",
      "Requirement already satisfied: tzdata>=2022.7 in c:\\users\\owner\\anaconda3\\envs\\tf_env\\lib\\site-packages (from pandas) (2025.2)\n",
      "Requirement already satisfied: six>=1.5 in c:\\users\\owner\\anaconda3\\envs\\tf_env\\lib\\site-packages (from python-dateutil>=2.8.2->pandas) (1.17.0)\n",
      "Requirement already satisfied: requests in c:\\users\\owner\\anaconda3\\envs\\tf_env\\lib\\site-packages (2.32.3)\n",
      "Requirement already satisfied: charset-normalizer<4,>=2 in c:\\users\\owner\\anaconda3\\envs\\tf_env\\lib\\site-packages (from requests) (3.3.2)\n",
      "Requirement already satisfied: idna<4,>=2.5 in c:\\users\\owner\\anaconda3\\envs\\tf_env\\lib\\site-packages (from requests) (3.10)\n",
      "Requirement already satisfied: urllib3<3,>=1.21.1 in c:\\users\\owner\\anaconda3\\envs\\tf_env\\lib\\site-packages (from requests) (1.26.20)\n",
      "Requirement already satisfied: certifi>=2017.4.17 in c:\\users\\owner\\anaconda3\\envs\\tf_env\\lib\\site-packages (from requests) (2025.4.26)\n",
      "Requirement already satisfied: sqlalchemy in c:\\users\\owner\\anaconda3\\envs\\tf_env\\lib\\site-packages (2.0.41)\n",
      "Requirement already satisfied: greenlet>=1 in c:\\users\\owner\\anaconda3\\envs\\tf_env\\lib\\site-packages (from sqlalchemy) (3.2.2)\n",
      "Requirement already satisfied: typing-extensions>=4.6.0 in c:\\users\\owner\\anaconda3\\envs\\tf_env\\lib\\site-packages (from sqlalchemy) (4.12.2)\n",
      "Requirement already satisfied: flask in c:\\users\\owner\\anaconda3\\envs\\tf_env\\lib\\site-packages (3.1.1)\n",
      "Requirement already satisfied: blinker>=1.9.0 in c:\\users\\owner\\anaconda3\\envs\\tf_env\\lib\\site-packages (from flask) (1.9.0)\n",
      "Requirement already satisfied: click>=8.1.3 in c:\\users\\owner\\anaconda3\\envs\\tf_env\\lib\\site-packages (from flask) (8.1.8)\n",
      "Requirement already satisfied: importlib-metadata>=3.6.0 in c:\\users\\owner\\anaconda3\\envs\\tf_env\\lib\\site-packages (from flask) (6.11.0)\n",
      "Requirement already satisfied: itsdangerous>=2.2.0 in c:\\users\\owner\\anaconda3\\envs\\tf_env\\lib\\site-packages (from flask) (2.2.0)\n",
      "Requirement already satisfied: jinja2>=3.1.2 in c:\\users\\owner\\anaconda3\\envs\\tf_env\\lib\\site-packages (from flask) (3.1.6)\n",
      "Requirement already satisfied: markupsafe>=2.1.1 in c:\\users\\owner\\anaconda3\\envs\\tf_env\\lib\\site-packages (from flask) (3.0.2)\n",
      "Requirement already satisfied: werkzeug>=3.1.0 in c:\\users\\owner\\anaconda3\\envs\\tf_env\\lib\\site-packages (from flask) (3.1.3)\n",
      "Requirement already satisfied: colorama in c:\\users\\owner\\anaconda3\\envs\\tf_env\\lib\\site-packages (from click>=8.1.3->flask) (0.4.6)\n",
      "Requirement already satisfied: zipp>=0.5 in c:\\users\\owner\\anaconda3\\envs\\tf_env\\lib\\site-packages (from importlib-metadata>=3.6.0->flask) (3.21.0)\n"
     ]
    }
   ],
   "source": [
    "!pip install pandas\n",
    "!pip install requests\n",
    "!pip install sqlalchemy\n",
    "!pip install flask\n"
   ]
  },
  {
   "cell_type": "code",
   "execution_count": 2,
   "id": "f4dacf2b-fa2c-4f5a-a9e9-1fc6d60e8972",
   "metadata": {},
   "outputs": [
    {
     "name": "stderr",
     "output_type": "stream",
     "text": [
      "c:\\Users\\Owner\\anaconda3\\envs\\tf_env\\lib\\site-packages\\requests\\__init__.py:86: RequestsDependencyWarning: Unable to find acceptable character detection dependency (chardet or charset_normalizer).\n",
      "  warnings.warn(\n"
     ]
    }
   ],
   "source": [
    "import requests\n",
    "import pandas as pd\n",
    "import numpy as np\n",
    "import sqlalchemy as sql\n",
    "from sqlalchemy import inspect\n",
    "from sqlalchemy import create_engine, Column, Integer, String, Float, ForeignKey\n",
    "from sqlalchemy.orm import declarative_base, sessionmaker, Session, relationship"
   ]
  },
  {
   "cell_type": "markdown",
   "id": "8fe9b360-5a85-44ee-83ed-22d983f9cb69",
   "metadata": {},
   "source": [
    "#### create database"
   ]
  },
  {
   "cell_type": "code",
   "execution_count": 3,
   "id": "55460d30-7301-4280-ad6a-f30ecf7db939",
   "metadata": {},
   "outputs": [],
   "source": [
    "engine = sql.create_engine(\"sqlite:///sports_analysis.sqlite\")\n",
    "Session = sessionmaker(bind=engine)\n",
    "session = Session()\n",
    "Base = declarative_base()"
   ]
  },
  {
   "cell_type": "code",
   "execution_count": null,
   "id": "50f92345-5bc9-4ee7-9186-ff80906f796e",
   "metadata": {},
   "outputs": [],
   "source": []
  },
  {
   "cell_type": "code",
   "execution_count": 4,
   "id": "805f4740-d313-49be-a6f2-3a08f16f6cee",
   "metadata": {},
   "outputs": [],
   "source": [
    "class Team(Base):\n",
    "    __tablename__ = 'teams'\n",
    "    id = Column(String, primary_key=True)\n",
    "    name = Column(String)\n",
    "    abbreviation = Column(String)\n",
    "    market = Column(String)\n",
    "\n",
    "    players = relationship(\"Player\", back_populates=\"team\")\n",
    "\n",
    "class Player(Base):\n",
    "    __tablename__ = 'players'\n",
    "    id = Column(String, primary_key=True)\n",
    "    full_name = Column(String)\n",
    "    position = Column(String)\n",
    "    jersey_number = Column(String)\n",
    "    team_id = Column(String, ForeignKey('teams.id'))\n",
    "\n",
    "    team = relationship(\"Team\", back_populates=\"players\")\n",
    "    stats = relationship(\"PlayerStat\", back_populates=\"player\")\n",
    "\n",
    "class PlayerStat(Base):\n",
    "    __tablename__ = 'player_stats'\n",
    "    id = Column(Integer, primary_key=True)\n",
    "    player_id = Column(String, ForeignKey('players.id'))\n",
    "    season_id = Column(String)\n",
    "    games_played = Column(Integer)\n",
    "    hits = Column(Integer)\n",
    "    home_runs = Column(Integer)\n",
    "    rbi = Column(Integer)\n",
    "\n",
    "    player = relationship(\"Player\", back_populates=\"stats\")\n",
    "Base.metadata.create_all(engine)\n",
    "    "
   ]
  },
  {
   "cell_type": "code",
   "execution_count": 15,
   "id": "36b58568-008f-4061-ab34-353393bf9fb8",
   "metadata": {},
   "outputs": [
    {
     "name": "stdout",
     "output_type": "stream",
     "text": [
      "{\"name\":\"Diamondbacks\",\"market\":\"Arizona\",\"abbr\":\"AZ\",\"id\":\"25507be1-6a68-4267-bd82-e097d94b359b\",\"season\":{\"id\":\"a91f72a5-9812-4acd-b3fd-482cb31468cd\",\"year\":2025,\"type\":\"REG\"},\"statistics\":{\"hitting\":{\"overall\":{\"ab\":1940,\"lob\":860,\"rbi\":279,\"abhr\":25.195,\"abk\":4.533,\"bip\":1458,\"babip\":0.287,\"bbk\":0.479,\"bbpa\":0.093,\"iso\":0.189,\"obp\":0.332,\"ops\":0.777,\"seca\":0.315,\"slg\":0.445,\"xbh\":202,\"pitch_count\":8545,\"lob_risp_2out\":214,\"team_lob\":404,\"ab_risp\":514,\"hit_risp\":120,\"rbi_2out\":84,\"linedrive\":345,\"groundball\":671,\"popup\":99,\"flyball\":428,\"ap\":2205,\"avg\":\".256\",\"gofo\":1.01,\"onbase\":{\"s\":294,\"d\":114,\"t\":11,\"hr\":77,\"tb\":863,\"bb\":198,\"ibb\":7,\"hbp\":28,\"fc\":48,\"roe\":12,\"h\":496,\"ci\":1,\"rov\":0,\"cycle\":0},\"runs\":{\"total\":286},\"outcome\":{\"klook\":1496,\"kswing\":892,\"ktotal\":2388,\"ball\":2881,\"iball\":0,\"dirtball\":192,\"foul\":1512},\"outs\":{\"po\":99,\"fo\":314,\"fidp\":1,\"lo\":126,\"lidp\":3,\"go\":547,\"gidp\":39,\"klook\":109,\"kswing\":319,\"ktotal\":428,\"sacfly\":23,\"sachit\":8},\"steal\":{\"caught\":11,\"stolen\":50,\"pct\":0.82,\"pickoff\":2},\"pitches\":{\"count\":8545,\"btotal\":3101,\"ktotal\":5444}}},\"pitching\":{\"overall\":{\"oba\":0.248,\"lob\":826,\"era\":4.769,\"k9\":8.577,\"whip\":1.3355,\"kbb\":2.52,\"pitch_count\":8478,\"wp\":11,\"bk\":6,\"ip_1\":1523,\"ip_2\":507.2,\"bf\":2189,\"gofo\":0.961,\"babip\":0.292,\"bf_ip\":4.312,\"bf_start\":23.684,\"gbfb\":1.757,\"oab\":1958,\"slg\":0.43,\"obp\":0.321,\"onbase\":{\"s\":289,\"d\":113,\"t\":10,\"hr\":74,\"tb\":841,\"bb\":183,\"ibb\":9,\"hbp\":23,\"fc\":50,\"roe\":17,\"h\":486,\"ci\":0,\"rov\":0,\"h9\":8.613,\"hr9\":1.314},\"runs\":{\"total\":294,\"unearned\":25,\"earned\":269,\"ir\":57,\"ira\":19,\"bqr\":57,\"bqra\":19},\"outcome\":{\"klook\":1379,\"kswing\":986,\"ktotal\":2365,\"ball\":2949,\"iball\":0,\"dirtball\":184,\"foul\":1467},\"outs\":{\"po\":88,\"fo\":267,\"fidp\":2,\"lo\":157,\"lidp\":4,\"go\":492,\"gidp\":35,\"klook\":124,\"kswing\":360,\"ktotal\":484,\"sacfly\":11,\"sachit\":5},\"steal\":{\"caught\":8,\"stolen\":40,\"pickoff\":3},\"pitches\":{\"count\":8478,\"btotal\":3156,\"ktotal\":5322,\"per_ip\":16.7,\"per_bf\":3.873,\"per_start\":91.0},\"in_play\":{\"linedrive\":378,\"groundball\":652,\"popup\":89,\"flyball\":371},\"games\":{\"svo\":28,\"qstart\":25,\"shutout\":0,\"team_shutout\":5,\"complete\":0,\"win\":27,\"loss\":30,\"save\":17,\"hold\":31,\"blown_save\":11}},\"starters\":{\"oba\":0.239,\"lob\":458,\"era\":4.326,\"k9\":8.37,\"whip\":1.266,\"kbb\":2.62,\"pitch_count\":5187,\"wp\":5,\"bk\":2,\"ip_1\":955,\"ip_2\":318.1,\"bf\":1350,\"gofo\":0.963,\"babip\":0.277,\"bf_ip\":4.241,\"bf_start\":23.684,\"gbfb\":1.734,\"oab\":1215,\"slg\":0.418,\"obp\":0.308,\"onbase\":{\"s\":171,\"d\":66,\"t\":7,\"hr\":46,\"tb\":508,\"bb\":110,\"ibb\":3,\"hbp\":11,\"fc\":35,\"roe\":9,\"h\":290,\"ci\":0,\"rov\":0,\"h9\":8.199,\"hr9\":1.305},\"runs\":{\"total\":169,\"unearned\":16,\"earned\":153,\"ir\":0,\"ira\":0,\"bqr\":0,\"bqra\":11},\"outcome\":{\"klook\":871,\"kswing\":578,\"ktotal\":1449,\"ball\":1831,\"iball\":0,\"dirtball\":98,\"foul\":868},\"outs\":{\"po\":55,\"fo\":169,\"fidp\":2,\"lo\":102,\"lidp\":1,\"go\":314,\"gidp\":19,\"klook\":88,\"kswing\":208,\"ktotal\":296,\"sacfly\":7,\"sachit\":4},\"steal\":{\"caught\":4,\"stolen\":20,\"pickoff\":2},\"pitches\":{\"count\":5187,\"btotal\":1940,\"ktotal\":3247,\"per_ip\":16.294,\"per_bf\":3.842,\"per_start\":91.0},\"in_play\":{\"linedrive\":237,\"groundball\":404,\"popup\":56,\"flyball\":233},\"games\":{\"svo\":0,\"qstart\":25,\"shutout\":0,\"team_shutout\":0,\"complete\":0,\"win\":20,\"loss\":18,\"save\":0,\"hold\":0,\"blown_save\":0}},\"bullpen\":{\"oba\":0.264,\"lob\":368,\"era\":5.514,\"k9\":8.937,\"whip\":1.4525,\"kbb\":2.38,\"pitch_count\":3291,\"wp\":6,\"bk\":4,\"ip_1\":568,\"ip_2\":189.1,\"bf\":839,\"gofo\":0.957,\"babip\":0.316,\"bf_ip\":4.431,\"gbfb\":1.797,\"oab\":743,\"slg\":0.448,\"obp\":0.342,\"onbase\":{\"s\":118,\"d\":47,\"t\":3,\"hr\":28,\"tb\":333,\"bb\":73,\"ibb\":6,\"hbp\":12,\"fc\":15,\"roe\":8,\"h\":196,\"ci\":0,\"rov\":0,\"h9\":9.315,\"hr9\":1.332},\"runs\":{\"total\":125,\"unearned\":9,\"earned\":116,\"ir\":57,\"ira\":19,\"bqr\":57,\"bqra\":8},\"outcome\":{\"klook\":508,\"kswing\":408,\"ktotal\":916,\"ball\":1118,\"iball\":0,\"dirtball\":86,\"foul\":599},\"outs\":{\"po\":33,\"fo\":98,\"fidp\":0,\"lo\":55,\"lidp\":3,\"go\":178,\"gidp\":16,\"klook\":36,\"kswing\":152,\"ktotal\":188,\"sacfly\":4,\"sachit\":1},\"steal\":{\"caught\":4,\"stolen\":20,\"pickoff\":1},\"pitches\":{\"count\":3291,\"btotal\":1216,\"ktotal\":2075,\"per_ip\":17.382,\"per_bf\":3.923},\"in_play\":{\"linedrive\":141,\"groundball\":248,\"popup\":33,\"flyball\":138},\"games\":{\"svo\":28,\"qstart\":0,\"shutout\":0,\"team_shutout\":0,\"complete\":0,\"win\":7,\"loss\":12,\"save\":17,\"hold\":31,\"blown_save\":11}}},\"fielding\":{\"overall\":{\"po\":1523,\"a\":514,\"dp\":42,\"tp\":0,\"error\":30,\"tc\":2067,\"fpct\":0.985,\"c_wp\":11,\"pb\":3,\"steal\":{\"caught\":8,\"stolen\":40,\"pickoff\":0,\"pct\":0.167},\"errors\":{\"throwing\":17,\"fielding\":13,\"interference\":0,\"total\":30},\"assists\":{\"outfield\":10,\"total\":514}}}},\"players\":[{\"preferred_name\":\"Shelby\",\"first_name\":\"Shelby\",\"last_name\":\"Miller\",\"jersey_number\":\"18\",\"id\":\"f83736c4-6587-438f-af93-bb880f0763c5\",\"full_name\":\"Shelby Miller\",\"position\":\"P\",\"primary_position\":\"RP\",\"statistics\":{\"hitting\":{\"overall\":{\"ab\":0,\"lob\":0,\"rbi\":0,\"abhr\":0,\"abk\":0,\"bip\":0,\"babip\":0,\"bbk\":0,\"bbpa\":0,\"iso\":0.0,\"obp\":0,\"ops\":0.0,\"seca\":0,\"slg\":0,\"xbh\":0,\"pitch_count\":0,\"lob_risp_2out\":0,\"team_lob\":0,\"ab_risp\":0,\"hit_risp\":0,\"rbi_2out\":0,\"linedrive\":0,\"groundball\":0,\"popup\":0,\"flyball\":0,\"ap\":0,\"avg\":\".000\",\"gofo\":0.0,\"wraa\":0.0,\"war\":0.0,\"bwar\":0.0,\"fwar\":0.0,\"brwar\":0.0,\"wgdp\":0.0,\"wrc\":0.0,\"onbase\":{\"s\":0,\"d\":0,\"t\":0,\"hr\":0,\"tb\":0,\"bb\":0,\"ibb\":0,\"hbp\":0,\"fc\":0,\"roe\":0,\"h\":0,\"ci\":0,\"rov\":0,\"cycle\":0},\"runs\":{\"total\":0},\"outcome\":{\"klook\":0,\"kswing\":0,\"ktotal\":0,\"ball\":0,\"iball\":0,\"dirtball\":0,\"foul\":0},\"outs\":{\"po\":0,\"fo\":0,\"fidp\":0,\"lo\":0,\"lidp\":0,\"go\":0,\"gidp\":0,\"klook\":0,\"kswing\":0,\"ktotal\":0,\"sacfly\":0,\"sachit\":0},\"steal\":{\"caught\":0,\"stolen\":0,\"pct\":0,\"pickoff\":0},\"pitches\":{\"count\":0,\"btotal\":0,\"ktotal\":0},\"games\":{\"start\":0,\"play\":1,\"finish\":0,\"complete\":0}}},\"pitching\":{\"overall\":{\"oba\":0.19,\"lob\":49,\"era\":2.077,\"k9\":9.558,\"whip\":1.1538,\"kbb\":2.3,\"pitch_count\":352,\"wp\":0,\"bk\":0,\"ip_1\":65,\"ip_2\":21.2,\"bf\":92,\"gofo\":0.5,\"babip\":0.25,\"bf_ip\":4.246,\"fip\":3.21779,\"xfip\":4.2726,\"war\":0.307349,\"era_minus\":50.2449,\"gbfb\":1.188,\"oab\":79,\"slg\":0.266,\"obp\":0.293,\"onbase\":{\"s\":11,\"d\":3,\"t\":0,\"hr\":1,\"tb\":21,\"bb\":7,\"ibb\":3,\"hbp\":2,\"fc\":1,\"roe\":1,\"h\":15,\"ci\":0,\"rov\":0,\"h9\":6.228,\"hr9\":0.414},\"runs\":{\"total\":7,\"unearned\":2,\"earned\":5,\"ir\":10,\"ira\":4,\"bqr\":10,\"bqra\":0},\"outcome\":{\"klook\":59,\"kswing\":51,\"ktotal\":110,\"ball\":108,\"iball\":0,\"dirtball\":7,\"foul\":68},\"outs\":{\"po\":4,\"fo\":15,\"fidp\":0,\"lo\":9,\"lidp\":1,\"go\":14,\"gidp\":0,\"klook\":3,\"kswing\":20,\"ktotal\":23,\"sacfly\":1,\"sachit\":0},\"steal\":{\"caught\":0,\"stolen\":5,\"pickoff\":0},\"pitches\":{\"count\":352,\"btotal\":117,\"ktotal\":235,\"per_ip\":16.246,\"per_bf\":3.826},\"in_play\":{\"linedrive\":18,\"groundball\":19,\"popup\":4,\"flyball\":16},\"games\":{\"start\":0,\"play\":22,\"finish\":10,\"svo\":8,\"qstart\":0,\"shutout\":0,\"complete\":0,\"win\":3,\"loss\":1,\"save\":5,\"hold\":6,\"blown_save\":3,\"team_win\":0,\"team_loss\":0}},\"bullpen\":{\"oba\":0.19,\"lob\":49,\"era\":2.077,\"k9\":9.558,\"whip\":1.1538,\"kbb\":2.3,\"pitch_count\":352,\"wp\":0,\"bk\":0,\"ip_1\":65,\"ip_2\":21.2,\"bf\":92,\"gofo\":0.5,\"babip\":0.25,\"bf_ip\":4.246,\"gbfb\":1.188,\"oab\":79,\"slg\":0.266,\"obp\":0.293,\"onbase\":{\"s\":11,\"d\":3,\"t\":0,\"hr\":1,\"tb\":21,\"bb\":7,\"ibb\":3,\"hbp\":2,\"fc\":1,\"roe\":1,\"h\":15,\"ci\":0,\"rov\":0,\"h9\":6.228,\"hr9\":0.414},\"runs\":{\"total\":7,\"unearned\":2,\"earned\":5,\"ir\":10,\"ira\":4,\"bqr\":10,\"bqra\":0},\"outcome\":{\"klook\":59,\"kswing\":51,\"ktotal\":110,\"ball\":108,\"iball\":0,\"dirtball\":7,\"foul\":68},\"outs\":{\"po\":4,\"fo\":15,\"fidp\":0,\"lo\":9,\"lidp\":1,\"go\":14,\"gidp\":0,\"klook\":3,\"kswing\":20,\"ktotal\":23,\"sacfly\":1,\"sachit\":0},\"steal\":{\"caught\":0,\"stolen\":5,\"pickoff\":0},\"pitches\":{\"count\":352,\"btotal\":117,\"ktotal\":235,\"per_ip\":16.246,\"per_bf\":3.826},\"in_play\":{\"linedrive\":18,\"groundball\":19,\"popup\":4,\"flyball\":16},\"games\":{\"start\":0,\"play\":22,\"finish\":10,\"svo\":8,\"qstart\":0,\"shutout\":0,\"complete\":0,\"win\":3,\"loss\":1,\"save\":5,\"hold\":6,\"blown_save\":3,\"team_win\":0,\"team_loss\":0}}},\"fielding\":{\"overall\":{\"po\":1,\"a\":2,\"dp\":0,\"tp\":0,\"error\":1,\"tc\":4,\"fpct\":0.75,\"c_wp\":0,\"pb\":0,\"rf\":0.136,\"inn_1\":65,\"inn_2\":21.2,\"steal\":{\"caught\":0,\"stolen\":0,\"pickoff\":0,\"pct\":0},\"errors\":{\"throwing\":0,\"fielding\":1,\"interference\":0,\"total\":1},\"assists\":{\"outfield\":0,\"total\":2},\"games\":{\"start\":0,\"play\":22,\"finish\":10,\"complete\":0}},\"positions\":[{\"po\":1,\"a\":2,\"dp\":0,\"tp\":0,\"error\":1,\"tc\":4,\"fpct\":0.75,\"c_wp\":0,\"pb\":0,\"rf\":0.136,\"inn_1\":65,\"inn_2\":21.2,\"position\":\"P\",\"steal\":{\"caught\":0,\"stolen\":0,\"pickoff\":0,\"pct\":0},\"errors\":{\"throwing\":0,\"fielding\":1,\"interference\":0,\"total\":1},\"assists\":{\"outfield\":0,\"total\":2},\"games\":{\"start\":0,\"play\":22,\"finish\":10,\"complete\":0}}]}}},{\"preferred_name\":\"Geraldo\",\"first_name\":\"Geraldo\",\"last_name\":\"Perdomo\",\"jersey_number\":\"2\",\"id\":\"ad64c80d-35f2-4d73-a027-d10362eef962\",\"full_name\":\"Geraldo Perdomo\",\"position\":\"IF\",\"primary_position\":\"SS\",\"statistics\":{\"hitting\":{\"overall\":{\"ab\":197,\"lob\":76,\"rbi\":41,\"abhr\":32.833,\"abk\":7.577,\"bip\":172,\"babip\":0.297,\"bbk\":1.269,\"bbpa\":0.136,\"iso\":0.158,\"obp\":0.388,\"ops\":0.835,\"seca\":0.381,\"slg\":0.447,\"xbh\":19,\"pitch_count\":1000,\"lob_risp_2out\":20,\"team_lob\":40,\"ab_risp\":56,\"hit_risp\":18,\"rbi_2out\":11,\"linedrive\":46,\"groundball\":76,\"popup\":11,\"flyball\":47,\"ap\":242,\"avg\":\".289\",\"gofo\":0.77,\"woba\":0.366403,\"wraa\":10.0536,\"war\":2.70852,\"bwar\":9.22454,\"fwar\":2.47045,\"brwar\":3.70231,\"wgdp\":0.0,\"wrc\":37.8426,\"wrc_plus\":132.563,\"onbase\":{\"s\":38,\"d\":13,\"t\":0,\"hr\":6,\"tb\":88,\"bb\":33,\"ibb\":0,\"hbp\":3,\"fc\":3,\"roe\":1,\"h\":57,\"ci\":0,\"rov\":0,\"cycle\":0},\"runs\":{\"total\":28},\"outcome\":{\"klook\":217,\"kswing\":48,\"ktotal\":265,\"ball\":369,\"iball\":0,\"dirtball\":20,\"foul\":163},\"outs\":{\"po\":11,\"fo\":40,\"fidp\":0,\"lo\":19,\"lidp\":0,\"go\":54,\"gidp\":1,\"klook\":11,\"kswing\":15,\"ktotal\":26,\"sacfly\":7,\"sachit\":2},\"steal\":{\"caught\":0,\"stolen\":11,\"pct\":1.0,\"pickoff\":0},\"pitches\":{\"count\":1000,\"btotal\":392,\"ktotal\":608},\"games\":{\"start\":55,\"play\":56,\"finish\":1,\"complete\":54}}},\"fielding\":{\"overall\":{\"po\":71,\"a\":116,\"dp\":27,\"tp\":0,\"error\":3,\"tc\":190,\"fpct\":0.984,\"c_wp\":0,\"pb\":0,\"rf\":3.339,\"inn_1\":1478,\"inn_2\":492.2,\"steal\":{\"caught\":0,\"stolen\":0,\"pickoff\":0,\"pct\":0},\"errors\":{\"throwing\":2,\"fielding\":1,\"interference\":0,\"total\":3},\"assists\":{\"outfield\":0,\"total\":116},\"games\":{\"start\":55,\"play\":56,\"finish\":1,\"complete\":0}},\"positions\":[{\"po\":71,\"a\":116,\"dp\":27,\"tp\":0,\"error\":3,\"tc\":190,\"fpct\":0.984,\"c_wp\":0,\"pb\":0,\"rf\":3.339,\"inn_1\":1478,\"inn_2\":492.2,\"position\":\"SS\",\"steal\":{\"caught\":0,\"stolen\":0,\"pickoff\":0,\"pct\":0},\"errors\":{\"throwing\":2,\"fielding\":1,\"interference\":0,\"total\":3},\"assists\":{\"outfield\":0,\"total\":116},\"games\":{\"start\":55,\"play\":56,\"finish\":1,\"complete\":0}}]}}},{\"preferred_name\":\"Jose\",\"first_name\":\"Jose\",\"last_name\":\"Herrera\",\"jersey_number\":\"11\",\"id\":\"c5b9d056-d030-4640-9e4a-a83599984388\",\"full_name\":\"Jose Herrera\",\"position\":\"C\",\"primary_position\":\"C\",\"statistics\":{\"hitting\":{\"overall\":{\"ab\":55,\"lob\":26,\"rbi\":5,\"abhr\":55.0,\"abk\":3.235,\"bip\":37,\"babip\":0.27,\"bbk\":0.529,\"bbpa\":0.134,\"iso\":0.109,\"obp\":0.313,\"ops\":0.622,\"seca\":0.273,\"slg\":0.309,\"xbh\":4,\"pitch_count\":302,\"lob_risp_2out\":8,\"team_lob\":14,\"ab_risp\":17,\"hit_risp\":1,\"rbi_2out\":4,\"linedrive\":10,\"groundball\":11,\"popup\":4,\"flyball\":16,\"ap\":67,\"avg\":\".200\",\"gofo\":0.58,\"woba\":0.287149,\"wraa\":-1.43032,\"war\":-0.01472,\"bwar\":-1.65984,\"fwar\":-0.882916,\"brwar\":-0.641387,\"wgdp\":0.0,\"wrc\":6.26335,\"wrc_plus\":78.8366,\"onbase\":{\"s\":7,\"d\":3,\"t\":0,\"hr\":1,\"tb\":17,\"bb\":9,\"ibb\":0,\"hbp\":0,\"fc\":0,\"roe\":0,\"h\":11,\"ci\":0,\"rov\":0,\"cycle\":0},\"runs\":{\"total\":6},\"outcome\":{\"klook\":69,\"kswing\":20,\"ktotal\":89,\"ball\":121,\"iball\":0,\"dirtball\":6,\"foul\":45},\"outs\":{\"po\":4,\"fo\":11,\"fidp\":0,\"lo\":4,\"lidp\":0,\"go\":11,\"gidp\":0,\"klook\":11,\"kswing\":6,\"ktotal\":17,\"sacfly\":0,\"sachit\":3},\"steal\":{\"caught\":0,\"stolen\":0,\"pct\":0,\"pickoff\":0},\"pitches\":{\"count\":302,\"btotal\":127,\"ktotal\":175},\"games\":{\"start\":19,\"play\":19,\"finish\":0,\"complete\":12}}},\"fielding\":{\"overall\":{\"po\":167,\"a\":7,\"dp\":1,\"tp\":0,\"error\":1,\"tc\":175,\"fpct\":0.994,\"c_wp\":4,\"pb\":1,\"rf\":9.158,\"inn_1\":483,\"inn_2\":161.0,\"steal\":{\"caught\":2,\"stolen\":13,\"pickoff\":0,\"pct\":0.133},\"errors\":{\"throwing\":1,\"fielding\":0,\"interference\":0,\"total\":1},\"assists\":{\"outfield\":0,\"total\":7},\"games\":{\"start\":19,\"play\":19,\"finish\":0,\"complete\":0}},\"positions\":[{\"po\":167,\"a\":7,\"dp\":1,\"tp\":0,\"error\":1,\"tc\":175,\"fpct\":0.994,\"c_wp\":4,\"pb\":1,\"rf\":9.158,\"inn_1\":483,\"inn_2\":161.0,\"position\":\"C\",\"steal\":{\"caught\":2,\"stolen\":13,\"pickoff\":0,\"pct\":0.133},\"errors\":{\"throwing\":1,\"fielding\":0,\"interference\":0,\"total\":1},\"assists\":{\"outfield\":0,\"total\":7},\"games\":{\"start\":19,\"play\":19,\"finish\":0,\"complete\":0}}]}}},{\"preferred_name\":\"Garrett\",\"first_name\":\"Garrett\",\"last_name\":\"Hampson\",\"jersey_number\":\"6\",\"id\":\"32e6432e-0861-4b4b-89e1-c761683c4e91\",\"full_name\":\"Garrett Hampson\",\"position\":\"OF\",\"primary_position\":\"2B\",\"statistics\":{\"hitting\":{\"overall\":{\"ab\":30,\"lob\":12,\"rbi\":0,\"abhr\":0,\"abk\":3.0,\"bip\":20,\"babip\":0.25,\"bbk\":0.9,\"bbpa\":0.22,\"iso\":0.0,\"obp\":0.359,\"ops\":0.526,\"seca\":0.333,\"slg\":0.167,\"xbh\":0,\"pitch_count\":180,\"lob_risp_2out\":5,\"team_lob\":5,\"ab_risp\":9,\"hit_risp\":1,\"rbi_2out\":0,\"linedrive\":4,\"groundball\":10,\"popup\":1,\"flyball\":7,\"ap\":41,\"avg\":\".167\",\"gofo\":0.7,\"woba\":0.274657,\"wraa\":-1.28167,\"war\":0.12211,\"bwar\":-1.42213,\"fwar\":0.780809,\"brwar\":0.254306,\"wgdp\":0.0,\"wrc\":3.42639,\"wrc_plus\":70.3689,\"onbase\":{\"s\":5,\"d\":0,\"t\":0,\"hr\":0,\"tb\":5,\"bb\":9,\"ibb\":0,\"hbp\":0,\"fc\":1,\"roe\":0,\"h\":5,\"ci\":0,\"rov\":0,\"cycle\":0},\"runs\":{\"total\":10},\"outcome\":{\"klook\":35,\"kswing\":14,\"ktotal\":49,\"ball\":73,\"iball\":0,\"dirtball\":2,\"foul\":34},\"outs\":{\"po\":1,\"fo\":6,\"fidp\":0,\"lo\":3,\"lidp\":0,\"go\":7,\"gidp\":0,\"klook\":4,\"kswing\":6,\"ktotal\":10,\"sacfly\":0,\"sachit\":2},\"steal\":{\"caught\":1,\"stolen\":2,\"pct\":0.667,\"pickoff\":0},\"pitches\":{\"count\":180,\"btotal\":75,\"ktotal\":105},\"games\":{\"start\":12,\"play\":18,\"finish\":6,\"complete\":5}}},\"fielding\":{\"overall\":{\"po\":28,\"a\":38,\"dp\":7,\"tp\":0,\"error\":0,\"tc\":66,\"fpct\":1.0,\"c_wp\":0,\"pb\":0,\"rf\":4.125,\"inn_1\":315,\"inn_2\":105.0,\"steal\":{\"caught\":0,\"stolen\":0,\"pickoff\":0,\"pct\":0},\"errors\":{\"throwing\":0,\"fielding\":0,\"interference\":0,\"total\":0},\"assists\":{\"outfield\":0,\"total\":38},\"games\":{\"start\":12,\"play\":16,\"finish\":4,\"complete\":0}},\"positions\":[{\"po\":19,\"a\":32,\"dp\":6,\"tp\":0,\"error\":0,\"tc\":51,\"fpct\":1.0,\"c_wp\":0,\"pb\":0,\"rf\":5.1,\"inn_1\":222,\"inn_2\":74.0,\"position\":\"2B\",\"steal\":{\"caught\":0,\"stolen\":0,\"pickoff\":0,\"pct\":0},\"errors\":{\"throwing\":0,\"fielding\":0,\"interference\":0,\"total\":0},\"assists\":{\"outfield\":0,\"total\":32},\"games\":{\"start\":8,\"play\":10,\"finish\":2,\"complete\":0}},{\"po\":1,\"a\":3,\"dp\":0,\"tp\":0,\"error\":0,\"tc\":4,\"fpct\":1.0,\"c_wp\":0,\"pb\":0,\"rf\":4.0,\"inn_1\":27,\"inn_2\":9.0,\"position\":\"3B\",\"steal\":{\"caught\":0,\"stolen\":0,\"pickoff\":0,\"pct\":0},\"errors\":{\"throwing\":0,\"fielding\":0,\"interference\":0,\"total\":0},\"assists\":{\"outfield\":0,\"total\":3},\"games\":{\"start\":1,\"play\":1,\"finish\":0,\"complete\":0}},{\"po\":4,\"a\":0,\"dp\":0,\"tp\":0,\"error\":0,\"tc\":4,\"fpct\":1.0,\"c_wp\":0,\"pb\":0,\"rf\":2.0,\"inn_1\":42,\"inn_2\":14.0,\"position\":\"CF\",\"steal\":{\"caught\":0,\"stolen\":0,\"pickoff\":0,\"pct\":0},\"errors\":{\"throwing\":0,\"fielding\":0,\"interference\":0,\"total\":0},\"assists\":{\"outfield\":0,\"total\":0},\"games\":{\"start\":2,\"play\":2,\"finish\":0,\"complete\":0}},{\"po\":1,\"a\":0,\"dp\":0,\"tp\":0,\"error\":0,\"tc\":1,\"fpct\":1.0,\"c_wp\":0,\"pb\":0,\"rf\":1.0,\"inn_1\":3,\"inn_2\":1.0,\"position\":\"LF\",\"steal\":{\"caught\":0,\"stolen\":0,\"pickoff\":0,\"pct\":0},\"errors\":{\"throwing\":0,\"fielding\":0,\"interference\":0,\"total\":0},\"assists\":{\"outfield\":0,\"total\":0},\"games\":{\"start\":0,\"play\":1,\"finish\":1,\"complete\":0}},{\"po\":3,\"a\":3,\"dp\":1,\"tp\":0,\"error\":0,\"tc\":6,\"fpct\":1.0,\"c_wp\":0,\"pb\":0,\"rf\":3.0,\"inn_1\":21,\"inn_2\":7.0,\"position\":\"SS\",\"steal\":{\"caught\":0,\"stolen\":0,\"pickoff\":0,\"pct\":0},\"errors\":{\"throwing\":0,\"fielding\":0,\"interference\":0,\"total\":0},\"assists\":{\"outfield\":0,\"total\":3},\"games\":{\"start\":1,\"play\":2,\"finish\":1,\"complete\":0}}]}}},{\"preferred_name\":\"Drey\",\"first_name\":\"Drey\",\"last_name\":\"Jameson\",\"jersey_number\":\"99\",\"id\":\"f2819c14-1485-4f6f-9008-1c7c4481f702\",\"full_name\":\"Drey Jameson\",\"position\":\"P\",\"primary_position\":\"RP\",\"statistics\":{\"hitting\":{\"overall\":{\"ab\":0,\"lob\":0,\"rbi\":0,\"abhr\":0,\"abk\":0,\"bip\":0,\"babip\":0,\"bbk\":0,\"bbpa\":0,\"iso\":0.0,\"obp\":0,\"ops\":0.0,\"seca\":0,\"slg\":0,\"xbh\":0,\"pitch_count\":0,\"lob_risp_2out\":0,\"team_lob\":0,\"ab_risp\":0,\"hit_risp\":0,\"rbi_2out\":0,\"linedrive\":0,\"groundball\":0,\"popup\":0,\"flyball\":0,\"ap\":0,\"avg\":\".000\",\"gofo\":0.0,\"wraa\":0.0,\"war\":0.0,\"bwar\":0.0,\"fwar\":0.0,\"brwar\":0.0,\"wgdp\":0.0,\"wrc\":0.0,\"onbase\":{\"s\":0,\"d\":0,\"t\":0,\"hr\":0,\"tb\":0,\"bb\":0,\"ibb\":0,\"hbp\":0,\"fc\":0,\"roe\":0,\"h\":0,\"ci\":0,\"rov\":0,\"cycle\":0},\"runs\":{\"total\":0},\"outcome\":{\"klook\":0,\"kswing\":0,\"ktotal\":0,\"ball\":0,\"iball\":0,\"dirtball\":0,\"foul\":0},\"outs\":{\"po\":0,\"fo\":0,\"fidp\":0,\"lo\":0,\"lidp\":0,\"go\":0,\"gidp\":0,\"klook\":0,\"kswing\":0,\"ktotal\":0,\"sacfly\":0,\"sachit\":0},\"steal\":{\"caught\":0,\"stolen\":0,\"pct\":0,\"pickoff\":0},\"pitches\":{\"count\":0,\"btotal\":0,\"ktotal\":0},\"games\":{\"start\":0,\"play\":1,\"finish\":1,\"complete\":0}}},\"pitching\":{\"overall\":{\"oba\":0.4,\"lob\":9,\"era\":3.0,\"k9\":0.0,\"whip\":2.3333,\"kbb\":0.0,\"pitch_count\":53,\"wp\":1,\"bk\":0,\"ip_1\":9,\"ip_2\":3.0,\"bf\":13,\"gofo\":1.0,\"babip\":0.4,\"bf_ip\":4.333,\"fip\":6.07933,\"xfip\":7.5135,\"war\":-0.148225,\"era_minus\":72.576,\"gbfb\":4.0,\"oab\":10,\"slg\":0.6,\"obp\":0.538,\"onbase\":{\"s\":2,\"d\":2,\"t\":0,\"hr\":0,\"tb\":6,\"bb\":3,\"ibb\":0,\"hbp\":0,\"fc\":0,\"roe\":0,\"h\":4,\"ci\":0,\"rov\":0,\"h9\":11.997,\"hr9\":0.0},\"runs\":{\"total\":2,\"unearned\":1,\"earned\":1,\"ir\":0,\"ira\":0,\"bqr\":0,\"bqra\":0},\"outcome\":{\"klook\":7,\"kswing\":4,\"ktotal\":11,\"ball\":24,\"iball\":0,\"dirtball\":2,\"foul\":6},\"outs\":{\"po\":0,\"fo\":1,\"fidp\":0,\"lo\":2,\"lidp\":1,\"go\":3,\"gidp\":1,\"klook\":0,\"kswing\":0,\"ktotal\":0,\"sacfly\":0,\"sachit\":0},\"steal\":{\"caught\":0,\"stolen\":0,\"pickoff\":0},\"pitches\":{\"count\":53,\"btotal\":26,\"ktotal\":27,\"per_ip\":17.667,\"per_bf\":4.077},\"in_play\":{\"linedrive\":5,\"groundball\":4,\"popup\":0,\"flyball\":1},\"games\":{\"start\":0,\"play\":3,\"finish\":2,\"svo\":1,\"qstart\":0,\"shutout\":0,\"complete\":0,\"win\":0,\"loss\":1,\"save\":1,\"hold\":0,\"blown_save\":0,\"team_win\":0,\"team_loss\":0}},\"bullpen\":{\"oba\":0.4,\"lob\":9,\"era\":3.0,\"k9\":0.0,\"whip\":2.3333,\"kbb\":0.0,\"pitch_count\":53,\"wp\":1,\"bk\":0,\"ip_1\":9,\"ip_2\":3.0,\"bf\":13,\"gofo\":1.0,\"babip\":0.4,\"bf_ip\":4.333,\"gbfb\":4.0,\"oab\":10,\"slg\":0.6,\"obp\":0.538,\"onbase\":{\"s\":2,\"d\":2,\"t\":0,\"hr\":0,\"tb\":6,\"bb\":3,\"ibb\":0,\"hbp\":0,\"fc\":0,\"roe\":0,\"h\":4,\"ci\":0,\"rov\":0,\"h9\":11.997,\"hr9\":0.0},\"runs\":{\"total\":2,\"unearned\":1,\"earned\":1,\"ir\":0,\"ira\":0,\"bqr\":0,\"bqra\":0},\"outcome\":{\"klook\":7,\"kswing\":4,\"ktotal\":11,\"ball\":24,\"iball\":0,\"dirtball\":2,\"foul\":6},\"outs\":{\"po\":0,\"fo\":1,\"fidp\":0,\"lo\":2,\"lidp\":1,\"go\":3,\"gidp\":1,\"klook\":0,\"kswing\":0,\"ktotal\":0,\"sacfly\":0,\"sachit\":0},\"steal\":{\"caught\":0,\"stolen\":0,\"pickoff\":0},\"pitches\":{\"count\":53,\"btotal\":26,\"ktotal\":27,\"per_ip\":17.667,\"per_bf\":4.077},\"in_play\":{\"linedrive\":5,\"groundball\":4,\"popup\":0,\"flyball\":1},\"games\":{\"start\":0,\"play\":3,\"finish\":2,\"svo\":1,\"qstart\":0,\"shutout\":0,\"complete\":0,\"win\":0,\"loss\":1,\"save\":1,\"hold\":0,\"blown_save\":0,\"team_win\":0,\"team_loss\":0}}},\"fielding\":{\"overall\":{\"po\":0,\"a\":1,\"dp\":0,\"tp\":0,\"error\":0,\"tc\":1,\"fpct\":1.0,\"c_wp\":0,\"pb\":0,\"rf\":0.333,\"inn_1\":9,\"inn_2\":3.0,\"steal\":{\"caught\":0,\"stolen\":0,\"pickoff\":0,\"pct\":0},\"errors\":{\"throwing\":0,\"fielding\":0,\"interference\":0,\"total\":0},\"assists\":{\"outfield\":0,\"total\":1},\"games\":{\"start\":0,\"play\":3,\"finish\":2,\"complete\":0}},\"positions\":[{\"po\":0,\"a\":1,\"dp\":0,\"tp\":0,\"error\":0,\"tc\":1,\"fpct\":1.0,\"c_wp\":0,\"pb\":0,\"rf\":0.333,\"inn_1\":9,\"inn_2\":3.0,\"position\":\"P\",\"steal\":{\"caught\":0,\"stolen\":0,\"pickoff\":0,\"pct\":0},\"errors\":{\"throwing\":0,\"fielding\":0,\"interference\":0,\"total\":0},\"assists\":{\"outfield\":0,\"total\":1},\"games\":{\"start\":0,\"play\":3,\"finish\":2,\"complete\":0}}]}}},{\"preferred_name\":\"Ryne\",\"first_name\":\"Ryne\",\"last_name\":\"Nelson\",\"jersey_number\":\"19\",\"id\":\"28cbe19d-c84c-4894-9f34-8bd3d99ddb05\",\"full_name\":\"Ryne Nelson\",\"position\":\"P\",\"primary_position\":\"SP\",\"statistics\":{\"hitting\":{\"overall\":{\"ab\":1,\"lob\":0,\"rbi\":1,\"abhr\":0,\"abk\":0,\"bip\":1,\"babip\":1.0,\"bbk\":0,\"bbpa\":0.0,\"iso\":0.0,\"obp\":1.0,\"ops\":2.0,\"seca\":0.0,\"slg\":1.0,\"xbh\":0,\"pitch_count\":4,\"lob_risp_2out\":0,\"team_lob\":0,\"ab_risp\":1,\"hit_risp\":1,\"rbi_2out\":0,\"linedrive\":0,\"groundball\":1,\"popup\":0,\"flyball\":0,\"ap\":1,\"avg\":\"1.000\",\"gofo\":0.0,\"woba\":0.890684,\"wraa\":0.457583,\"war\":0.03704,\"bwar\":0.454157,\"fwar\":0.0,\"brwar\":-0.00199042,\"wgdp\":0.0,\"wrc\":0.572414,\"wrc_plus\":487.972,\"onbase\":{\"s\":1,\"d\":0,\"t\":0,\"hr\":0,\"tb\":1,\"bb\":0,\"ibb\":0,\"hbp\":0,\"fc\":0,\"roe\":0,\"h\":1,\"ci\":0,\"rov\":0,\"cycle\":0},\"runs\":{\"total\":1},\"outcome\":{\"klook\":1,\"kswing\":0,\"ktotal\":1,\"ball\":1,\"iball\":0,\"dirtball\":1,\"foul\":0},\"outs\":{\"po\":0,\"fo\":0,\"fidp\":0,\"lo\":0,\"lidp\":0,\"go\":0,\"gidp\":0,\"klook\":0,\"kswing\":0,\"ktotal\":0,\"sacfly\":0,\"sachit\":0},\"steal\":{\"caught\":0,\"stolen\":0,\"pct\":0,\"pickoff\":0},\"pitches\":{\"count\":4,\"btotal\":2,\"ktotal\":2},\"games\":{\"start\":0,\"play\":1,\"finish\":1,\"complete\":0}}},\"pitching\":{\"overall\":{\"oba\":0.204,\"lob\":49,\"era\":3.789,\"k9\":8.055,\"whip\":1.0526,\"kbb\":3.09,\"pitch_count\":605,\"wp\":0,\"bk\":0,\"ip_1\":114,\"ip_2\":38.0,\"bf\":154,\"gofo\":0.927,\"babip\":0.248,\"bf_ip\":4.053,\"bf_start\":20.333,\"fip\":3.26354,\"xfip\":3.40721,\"war\":0.348961,\"era_minus\":91.6749,\"gbfb\":2.087,\"oab\":142,\"slg\":0.338,\"obp\":0.266,\"onbase\":{\"s\":18,\"d\":6,\"t\":2,\"hr\":3,\"tb\":48,\"bb\":11,\"ibb\":0,\"hbp\":1,\"fc\":5,\"roe\":2,\"h\":29,\"ci\":0,\"rov\":0,\"h9\":6.867,\"hr9\":0.711},\"runs\":{\"total\":16,\"unearned\":0,\"earned\":16,\"ir\":1,\"ira\":0,\"bqr\":1,\"bqra\":0},\"outcome\":{\"klook\":113,\"kswing\":59,\"ktotal\":172,\"ball\":203,\"iball\":0,\"dirtball\":10,\"foul\":111},\"outs\":{\"po\":4,\"fo\":19,\"fidp\":1,\"lo\":18,\"lidp\":1,\"go\":38,\"gidp\":2,\"klook\":12,\"kswing\":22,\"ktotal\":34,\"sacfly\":0,\"sachit\":0},\"steal\":{\"caught\":0,\"stolen\":0,\"pickoff\":0},\"pitches\":{\"count\":605,\"btotal\":214,\"ktotal\":391,\"per_ip\":15.921,\"per_bf\":3.929,\"per_start\":75.0},\"in_play\":{\"linedrive\":33,\"groundball\":48,\"popup\":4,\"flyball\":23},\"games\":{\"start\":3,\"play\":12,\"finish\":4,\"svo\":2,\"qstart\":1,\"shutout\":0,\"complete\":0,\"win\":2,\"loss\":1,\"save\":1,\"hold\":1,\"blown_save\":1,\"team_win\":1,\"team_loss\":2}},\"bullpen\":{\"oba\":0.218,\"lob\":29,\"era\":5.318,\"k9\":10.638,\"whip\":1.1364,\"kbb\":4.33,\"pitch_count\":380,\"wp\":0,\"bk\":0,\"ip_1\":66,\"ip_2\":22.0,\"bf\":93,\"gofo\":0.826,\"babip\":0.288,\"bf_ip\":4.227,\"gbfb\":1.923,\"oab\":87,\"slg\":0.345,\"obp\":0.269,\"onbase\":{\"s\":13,\"d\":3,\"t\":1,\"hr\":2,\"tb\":30,\"bb\":6,\"ibb\":0,\"hbp\":0,\"fc\":2,\"roe\":2,\"h\":19,\"ci\":0,\"rov\":0,\"h9\":7.776,\"hr9\":0.819},\"runs\":{\"total\":13,\"unearned\":0,\"earned\":13,\"ir\":1,\"ira\":0,\"bqr\":1,\"bqra\":0},\"outcome\":{\"klook\":73,\"kswing\":41,\"ktotal\":114,\"ball\":122,\"iball\":0,\"dirtball\":5,\"foul\":78},\"outs\":{\"po\":3,\"fo\":10,\"fidp\":0,\"lo\":10,\"lidp\":0,\"go\":19,\"gidp\":1,\"klook\":10,\"kswing\":16,\"ktotal\":26,\"sacfly\":0,\"sachit\":0},\"steal\":{\"caught\":0,\"stolen\":0,\"pickoff\":0},\"pitches\":{\"count\":380,\"btotal\":127,\"ktotal\":253,\"per_ip\":17.273,\"per_bf\":4.086},\"in_play\":{\"linedrive\":20,\"groundball\":25,\"popup\":3,\"flyball\":13},\"games\":{\"start\":0,\"play\":9,\"finish\":4,\"svo\":2,\"qstart\":0,\"shutout\":0,\"complete\":0,\"win\":1,\"loss\":0,\"save\":1,\"hold\":1,\"blown_save\":1,\"team_win\":0,\"team_loss\":0}},\"starters\":{\"oba\":0.182,\"lob\":20,\"era\":1.688,\"k9\":4.5,\"whip\":0.9375,\"kbb\":1.6,\"pitch_count\":225,\"wp\":0,\"bk\":0,\"ip_1\":48,\"ip_2\":16.0,\"bf\":61,\"gofo\":1.056,\"babip\":0.196,\"bf_ip\":3.813,\"bf_start\":20.333,\"gbfb\":2.3,\"oab\":55,\"slg\":0.327,\"obp\":0.262,\"onbase\":{\"s\":5,\"d\":3,\"t\":1,\"hr\":1,\"tb\":18,\"bb\":5,\"ibb\":0,\"hbp\":1,\"fc\":3,\"roe\":0,\"h\":10,\"ci\":0,\"rov\":0,\"h9\":5.625,\"hr9\":0.567},\"runs\":{\"total\":3,\"unearned\":0,\"earned\":3,\"ir\":0,\"ira\":0,\"bqr\":0,\"bqra\":0},\"outcome\":{\"klook\":40,\"kswing\":18,\"ktotal\":58,\"ball\":81,\"iball\":0,\"dirtball\":5,\"foul\":33},\"outs\":{\"po\":1,\"fo\":9,\"fidp\":1,\"lo\":8,\"lidp\":1,\"go\":19,\"gidp\":1,\"klook\":2,\"kswing\":6,\"ktotal\":8,\"sacfly\":0,\"sachit\":0},\"steal\":{\"caught\":0,\"stolen\":0,\"pickoff\":0},\"pitches\":{\"count\":225,\"btotal\":87,\"ktotal\":138,\"per_ip\":14.063,\"per_bf\":3.689,\"per_start\":75.0},\"in_play\":{\"linedrive\":13,\"groundball\":23,\"popup\":1,\"flyball\":10},\"games\":{\"start\":3,\"play\":3,\"finish\":0,\"svo\":0,\"qstart\":1,\"shutout\":0,\"complete\":0,\"win\":1,\"loss\":1,\"save\":0,\"hold\":0,\"blown_save\":0,\"team_win\":1,\"team_loss\":2}}},\"fielding\":{\"overall\":{\"po\":0,\"a\":6,\"dp\":0,\"tp\":0,\"error\":0,\"tc\":6,\"fpct\":1.0,\"c_wp\":0,\"pb\":0,\"rf\":0.5,\"inn_1\":114,\"inn_2\":38.0,\"steal\":{\"caught\":0,\"stolen\":0,\"pickoff\":0,\"pct\":0},\"errors\":{\"throwing\":0,\"fielding\":0,\"interference\":0,\"total\":0},\"assists\":{\"outfield\":0,\"total\":6},\"games\":{\"start\":3,\"play\":12,\"finish\":4,\"complete\":0}},\"positions\":[{\"po\":0,\"a\":6,\"dp\":0,\"tp\":0,\"error\":0,\"tc\":6,\"fpct\":1.0,\"c_wp\":0,\"pb\":0,\"rf\":0.5,\"inn_1\":114,\"inn_2\":38.0,\"position\":\"P\",\"steal\":{\"caught\":0,\"stolen\":0,\"pickoff\":0,\"pct\":0},\"errors\":{\"throwing\":0,\"fielding\":0,\"interference\":0,\"total\":0},\"assists\":{\"outfield\":0,\"total\":6},\"games\":{\"start\":3,\"play\":12,\"finish\":4,\"complete\":0}}]}}},{\"preferred_name\":\"Justin\",\"first_name\":\"Justin\",\"last_name\":\"Martinez\",\"jersey_number\":\"63\",\"id\":\"049f14e2-3e08-4485-8019-a3891d30501b\",\"full_name\":\"Justin Martinez\",\"position\":\"P\",\"primary_position\":\"RP\",\"statistics\":{\"hitting\":{\"overall\":{\"ab\":0,\"lob\":0,\"rbi\":0,\"abhr\":0,\"abk\":0,\"bip\":0,\"babip\":0,\"bbk\":0,\"bbpa\":0,\"iso\":0.0,\"obp\":0,\"ops\":0.0,\"seca\":0,\"slg\":0,\"xbh\":0,\"pitch_count\":0,\"lob_risp_2out\":0,\"team_lob\":0,\"ab_risp\":0,\"hit_risp\":0,\"rbi_2out\":0,\"linedrive\":0,\"groundball\":0,\"popup\":0,\"flyball\":0,\"ap\":0,\"avg\":\".000\",\"gofo\":0.0,\"wraa\":0.0,\"war\":0.0,\"bwar\":0.0,\"fwar\":0.0,\"brwar\":0.0,\"wgdp\":0.0,\"wrc\":0.0,\"onbase\":{\"s\":0,\"d\":0,\"t\":0,\"hr\":0,\"tb\":0,\"bb\":0,\"ibb\":0,\"hbp\":0,\"fc\":0,\"roe\":0,\"h\":0,\"ci\":0,\"rov\":0,\"cycle\":0},\"runs\":{\"total\":0},\"outcome\":{\"klook\":0,\"kswing\":0,\"ktotal\":0,\"ball\":0,\"iball\":0,\"dirtball\":0,\"foul\":0},\"outs\":{\"po\":0,\"fo\":0,\"fidp\":0,\"lo\":0,\"lidp\":0,\"go\":0,\"gidp\":0,\"klook\":0,\"kswing\":0,\"ktotal\":0,\"sacfly\":0,\"sachit\":0},\"steal\":{\"caught\":0,\"stolen\":0,\"pct\":0,\"pickoff\":0},\"pitches\":{\"count\":0,\"btotal\":0,\"ktotal\":0},\"games\":{\"start\":0,\"play\":2,\"finish\":0,\"complete\":0}}},\"pitching\":{\"overall\":{\"oba\":0.167,\"lob\":25,\"era\":3.75,\"k9\":10.503,\"whip\":1.1667,\"kbb\":2.0,\"pitch_count\":200,\"wp\":1,\"bk\":0,\"ip_1\":36,\"ip_2\":12.0,\"bf\":51,\"gofo\":2.0,\"babip\":0.222,\"bf_ip\":4.25,\"fip\":4.07933,\"xfip\":3.95211,\"war\":0.00453666,\"era_minus\":90.72,\"gbfb\":3.2,\"oab\":42,\"slg\":0.286,\"obp\":0.314,\"onbase\":{\"s\":4,\"d\":2,\"t\":0,\"hr\":1,\"tb\":12,\"bb\":7,\"ibb\":0,\"hbp\":2,\"fc\":1,\"roe\":1,\"h\":7,\"ci\":0,\"rov\":0,\"h9\":5.247,\"hr9\":0.747},\"runs\":{\"total\":6,\"unearned\":1,\"earned\":5,\"ir\":6,\"ira\":1,\"bqr\":6,\"bqra\":1},\"outcome\":{\"klook\":38,\"kswing\":23,\"ktotal\":61,\"ball\":75,\"iball\":0,\"dirtball\":6,\"foul\":28},\"outs\":{\"po\":2,\"fo\":3,\"fidp\":0,\"lo\":2,\"lidp\":0,\"go\":14,\"gidp\":2,\"klook\":6,\"kswing\":8,\"ktotal\":14,\"sacfly\":0,\"sachit\":0},\"steal\":{\"caught\":0,\"stolen\":0,\"pickoff\":0},\"pitches\":{\"count\":200,\"btotal\":83,\"ktotal\":117,\"per_ip\":16.667,\"per_bf\":3.922},\"in_play\":{\"linedrive\":5,\"groundball\":16,\"popup\":2,\"flyball\":5},\"games\":{\"start\":0,\"play\":14,\"finish\":7,\"svo\":4,\"qstart\":0,\"shutout\":0,\"complete\":0,\"win\":1,\"loss\":2,\"save\":3,\"hold\":4,\"blown_save\":1,\"team_win\":0,\"team_loss\":0}},\"bullpen\":{\"oba\":0.167,\"lob\":25,\"era\":3.75,\"k9\":10.503,\"whip\":1.1667,\"kbb\":2.0,\"pitch_count\":200,\"wp\":1,\"bk\":0,\"ip_1\":36,\"ip_2\":12.0,\"bf\":51,\"gofo\":2.0,\"babip\":0.222,\"bf_ip\":4.25,\"gbfb\":3.2,\"oab\":42,\"slg\":0.286,\"obp\":0.314,\"onbase\":{\"s\":4,\"d\":2,\"t\":0,\"hr\":1,\"tb\":12,\"bb\":7,\"ibb\":0,\"hbp\":2,\"fc\":1,\"roe\":1,\"h\":7,\"ci\":0,\"rov\":0,\"h9\":5.247,\"hr9\":0.747},\"runs\":{\"total\":6,\"unearned\":1,\"earned\":5,\"ir\":6,\"ira\":1,\"bqr\":6,\"bqra\":1},\"outcome\":{\"klook\":38,\"kswing\":23,\"ktotal\":61,\"ball\":75,\"iball\":0,\"dirtball\":6,\"foul\":28},\"outs\":{\"po\":2,\"fo\":3,\"fidp\":0,\"lo\":2,\"lidp\":0,\"go\":14,\"gidp\":2,\"klook\":6,\"kswing\":8,\"ktotal\":14,\"sacfly\":0,\"sachit\":0},\"steal\":{\"caught\":0,\"stolen\":0,\"pickoff\":0},\"pitches\":{\"count\":200,\"btotal\":83,\"ktotal\":117,\"per_ip\":16.667,\"per_bf\":3.922},\"in_play\":{\"linedrive\":5,\"groundball\":16,\"popup\":2,\"flyball\":5},\"games\":{\"start\":0,\"play\":14,\"finish\":7,\"svo\":4,\"qstart\":0,\"shutout\":0,\"complete\":0,\"win\":1,\"loss\":2,\"save\":3,\"hold\":4,\"blown_save\":1,\"team_win\":0,\"team_loss\":0}}},\"fielding\":{\"overall\":{\"po\":1,\"a\":2,\"dp\":0,\"tp\":0,\"error\":1,\"tc\":4,\"fpct\":0.75,\"c_wp\":0,\"pb\":0,\"rf\":0.214,\"inn_1\":36,\"inn_2\":12.0,\"steal\":{\"caught\":0,\"stolen\":0,\"pickoff\":0,\"pct\":0},\"errors\":{\"throwing\":0,\"fielding\":1,\"interference\":0,\"total\":1},\"assists\":{\"outfield\":0,\"total\":2},\"games\":{\"start\":0,\"play\":14,\"finish\":7,\"complete\":0}},\"positions\":[{\"po\":1,\"a\":2,\"dp\":0,\"tp\":0,\"error\":1,\"tc\":4,\"fpct\":0.75,\"c_wp\":0,\"pb\":0,\"rf\":0.214,\"inn_1\":36,\"inn_2\":12.0,\"position\":\"P\",\"steal\":{\"caught\":0,\"stolen\":0,\"pickoff\":0,\"pct\":0},\"errors\":{\"throwing\":0,\"fielding\":1,\"interference\":0,\"total\":1},\"assists\":{\"outfield\":0,\"total\":2},\"games\":{\"start\":0,\"play\":14,\"finish\":7,\"complete\":0}}]}}},{\"preferred_name\":\"Jake\",\"first_name\":\"Jacob\",\"last_name\":\"McCarthy\",\"jersey_number\":\"31\",\"id\":\"9e51bbf6-6d71-4bc8-b86d-901df0fd1f38\",\"full_name\":\"Jake McCarthy\",\"position\":\"OF\",\"primary_position\":\"CF\",\"statistics\":{\"hitting\":{\"overall\":{\"ab\":41,\"lob\":22,\"rbi\":3,\"abhr\":0,\"abk\":6.833,\"bip\":36,\"babip\":0.083,\"bbk\":0.667,\"bbpa\":0.085,\"iso\":0.025,\"obp\":0.17,\"ops\":0.268,\"seca\":0.146,\"slg\":0.098,\"xbh\":1,\"pitch_count\":174,\"lob_risp_2out\":5,\"team_lob\":11,\"ab_risp\":10,\"hit_risp\":1,\"rbi_2out\":0,\"linedrive\":4,\"groundball\":18,\"popup\":3,\"flyball\":11,\"ap\":47,\"avg\":\".073\",\"gofo\":1.2,\"woba\":0.13954,\"wraa\":-6.50862,\"war\":-0.53012,\"bwar\":-6.66963,\"fwar\":0.135233,\"brwar\":0.0210932,\"wgdp\":0.0,\"wrc\":-1.11157,\"wrc_plus\":-21.2265,\"onbase\":{\"s\":2,\"d\":1,\"t\":0,\"hr\":0,\"tb\":4,\"bb\":4,\"ibb\":0,\"hbp\":1,\"fc\":0,\"roe\":0,\"h\":3,\"ci\":0,\"rov\":0,\"cycle\":0},\"runs\":{\"total\":2},\"outcome\":{\"klook\":29,\"kswing\":17,\"ktotal\":46,\"ball\":58,\"iball\":0,\"dirtball\":4,\"foul\":29},\"outs\":{\"po\":3,\"fo\":11,\"fidp\":0,\"lo\":1,\"lidp\":0,\"go\":18,\"gidp\":0,\"klook\":2,\"kswing\":4,\"ktotal\":6,\"sacfly\":1,\"sachit\":0},\"steal\":{\"caught\":0,\"stolen\":1,\"pct\":1.0,\"pickoff\":1},\"pitches\":{\"count\":174,\"btotal\":63,\"ktotal\":111},\"games\":{\"start\":11,\"play\":14,\"finish\":1,\"complete\":11}}},\"fielding\":{\"overall\":{\"po\":26,\"a\":0,\"dp\":0,\"tp\":0,\"error\":0,\"tc\":26,\"fpct\":1.0,\"c_wp\":0,\"pb\":0,\"rf\":1.857,\"inn_1\":291,\"inn_2\":97.0,\"steal\":{\"caught\":0,\"stolen\":0,\"pickoff\":0,\"pct\":0},\"errors\":{\"throwing\":0,\"fielding\":0,\"interference\":0,\"total\":0},\"assists\":{\"outfield\":0,\"total\":0},\"games\":{\"start\":11,\"play\":14,\"finish\":3,\"complete\":3}},\"positions\":[{\"po\":9,\"a\":0,\"dp\":0,\"tp\":0,\"error\":0,\"tc\":9,\"fpct\":1.0,\"c_wp\":0,\"pb\":0,\"rf\":1.8,\"inn_1\":81,\"inn_2\":27.0,\"position\":\"LF\",\"steal\":{\"caught\":0,\"stolen\":0,\"pickoff\":0,\"pct\":0},\"errors\":{\"throwing\":0,\"fielding\":0,\"interference\":0,\"total\":0},\"assists\":{\"outfield\":0,\"total\":0},\"games\":{\"start\":3,\"play\":5,\"finish\":2,\"complete\":0}},{\"po\":17,\"a\":0,\"dp\":0,\"tp\":0,\"error\":0,\"tc\":17,\"fpct\":1.0,\"c_wp\":0,\"pb\":0,\"rf\":1.889,\"inn_1\":210,\"inn_2\":70.0,\"position\":\"CF\",\"steal\":{\"caught\":0,\"stolen\":0,\"pickoff\":0,\"pct\":0},\"errors\":{\"throwing\":0,\"fielding\":0,\"interference\":0,\"total\":0},\"assists\":{\"outfield\":0,\"total\":0},\"games\":{\"start\":8,\"play\":9,\"finish\":1,\"complete\":0}}]}}},{\"preferred_name\":\"A.J.\",\"first_name\":\"Andrew\",\"last_name\":\"Puk\",\"jersey_number\":\"33\",\"id\":\"d4bf1d64-870f-40fc-95a6-45ed8c1b8696\",\"full_name\":\"A.J. Puk\",\"position\":\"P\",\"primary_position\":\"RP\",\"statistics\":{\"hitting\":{\"overall\":{\"ab\":0,\"lob\":0,\"rbi\":0,\"abhr\":0,\"abk\":0,\"bip\":0,\"babip\":0,\"bbk\":0,\"bbpa\":0,\"iso\":0.0,\"obp\":0,\"ops\":0.0,\"seca\":0,\"slg\":0,\"xbh\":0,\"pitch_count\":0,\"lob_risp_2out\":0,\"team_lob\":0,\"ab_risp\":0,\"hit_risp\":0,\"rbi_2out\":0,\"linedrive\":0,\"groundball\":0,\"popup\":0,\"flyball\":0,\"ap\":0,\"avg\":\".000\",\"gofo\":0.0,\"wraa\":0.0,\"war\":0.0,\"bwar\":0.0,\"fwar\":0.0,\"brwar\":0.0,\"wgdp\":0.0,\"wrc\":0.0,\"onbase\":{\"s\":0,\"d\":0,\"t\":0,\"hr\":0,\"tb\":0,\"bb\":0,\"ibb\":0,\"hbp\":0,\"fc\":0,\"roe\":0,\"h\":0,\"ci\":0,\"rov\":0,\"cycle\":0},\"runs\":{\"total\":0},\"outcome\":{\"klook\":0,\"kswing\":0,\"ktotal\":0,\"ball\":0,\"iball\":0,\"dirtball\":0,\"foul\":0},\"outs\":{\"po\":0,\"fo\":0,\"fidp\":0,\"lo\":0,\"lidp\":0,\"go\":0,\"gidp\":0,\"klook\":0,\"kswing\":0,\"ktotal\":0,\"sacfly\":0,\"sachit\":0},\"steal\":{\"caught\":0,\"stolen\":0,\"pct\":0,\"pickoff\":0},\"pitches\":{\"count\":0,\"btotal\":0,\"ktotal\":0},\"games\":{\"start\":0,\"play\":2,\"finish\":2,\"complete\":0}}},\"pitching\":{\"overall\":{\"oba\":0.25,\"lob\":19,\"era\":3.375,\"k9\":13.5,\"whip\":1.25,\"kbb\":6.0,\"pitch_count\":156,\"wp\":1,\"bk\":0,\"ip_1\":24,\"ip_2\":8.0,\"bf\":35,\"gofo\":0.714,\"babip\":0.333,\"bf_ip\":4.375,\"fip\":4.45433,\"xfip\":2.81777,\"war\":-0.0216807,\"era_minus\":81.648,\"gbfb\":0.833,\"oab\":32,\"slg\":0.531,\"obp\":0.314,\"onbase\":{\"s\":3,\"d\":3,\"t\":0,\"hr\":2,\"tb\":17,\"bb\":2,\"ibb\":0,\"hbp\":1,\"fc\":1,\"roe\":0,\"h\":8,\"ci\":0,\"rov\":0,\"h9\":9.0,\"hr9\":2.25},\"runs\":{\"total\":3,\"unearned\":0,\"earned\":3,\"ir\":2,\"ira\":2,\"bqr\":2,\"bqra\":0},\"outcome\":{\"klook\":23,\"kswing\":27,\"ktotal\":50,\"ball\":46,\"iball\":0,\"dirtball\":3,\"foul\":36},\"outs\":{\"po\":2,\"fo\":4,\"fidp\":0,\"lo\":1,\"lidp\":0,\"go\":5,\"gidp\":0,\"klook\":2,\"kswing\":10,\"ktotal\":12,\"sacfly\":0,\"sachit\":0},\"steal\":{\"caught\":0,\"stolen\":3,\"pickoff\":0},\"pitches\":{\"count\":156,\"btotal\":50,\"ktotal\":106,\"per_ip\":19.5,\"per_bf\":4.457},\"in_play\":{\"linedrive\":7,\"groundball\":5,\"popup\":2,\"flyball\":6},\"games\":{\"start\":0,\"play\":8,\"finish\":5,\"svo\":4,\"qstart\":0,\"shutout\":0,\"complete\":0,\"win\":0,\"loss\":0,\"save\":4,\"hold\":2,\"blown_save\":0,\"team_win\":0,\"team_loss\":0}},\"bullpen\":{\"oba\":0.25,\"lob\":19,\"era\":3.375,\"k9\":13.5,\"whip\":1.25,\"kbb\":6.0,\"pitch_count\":156,\"wp\":1,\"bk\":0,\"ip_1\":24,\"ip_2\":8.0,\"bf\":35,\"gofo\":0.714,\"babip\":0.333,\"bf_ip\":4.375,\"gbfb\":0.833,\"oab\":32,\"slg\":0.531,\"obp\":0.314,\"onbase\":{\"s\":3,\"d\":3,\"t\":0,\"hr\":2,\"tb\":17,\"bb\":2,\"ibb\":0,\"hbp\":1,\"fc\":1,\"roe\":0,\"h\":8,\"ci\":0,\"rov\":0,\"h9\":9.0,\"hr9\":2.25},\"runs\":{\"total\":3,\"unearned\":0,\"earned\":3,\"ir\":2,\"ira\":2,\"bqr\":2,\"bqra\":0},\"outcome\":{\"klook\":23,\"kswing\":27,\"ktotal\":50,\"ball\":46,\"iball\":0,\"dirtball\":3,\"foul\":36},\"outs\":{\"po\":2,\"fo\":4,\"fidp\":0,\"lo\":1,\"lidp\":0,\"go\":5,\"gidp\":0,\"klook\":2,\"kswing\":10,\"ktotal\":12,\"sacfly\":0,\"sachit\":0},\"steal\":{\"caught\":0,\"stolen\":3,\"pickoff\":0},\"pitches\":{\"count\":156,\"btotal\":50,\"ktotal\":106,\"per_ip\":19.5,\"per_bf\":4.457},\"in_play\":{\"linedrive\":7,\"groundball\":5,\"popup\":2,\"flyball\":6},\"games\":{\"start\":0,\"play\":8,\"finish\":5,\"svo\":4,\"qstart\":0,\"shutout\":0,\"complete\":0,\"win\":0,\"loss\":0,\"save\":4,\"hold\":2,\"blown_save\":0,\"team_win\":0,\"team_loss\":0}}},\"fielding\":{\"overall\":{\"po\":0,\"a\":1,\"dp\":0,\"tp\":0,\"error\":0,\"tc\":1,\"fpct\":1.0,\"c_wp\":0,\"pb\":0,\"rf\":0.125,\"inn_1\":24,\"inn_2\":8.0,\"steal\":{\"caught\":0,\"stolen\":0,\"pickoff\":0,\"pct\":0},\"errors\":{\"throwing\":0,\"fielding\":0,\"interference\":0,\"total\":0},\"assists\":{\"outfield\":0,\"total\":1},\"games\":{\"start\":0,\"play\":8,\"finish\":5,\"complete\":0}},\"positions\":[{\"po\":0,\"a\":1,\"dp\":0,\"tp\":0,\"error\":0,\"tc\":1,\"fpct\":1.0,\"c_wp\":0,\"pb\":0,\"rf\":0.125,\"inn_1\":24,\"inn_2\":8.0,\"position\":\"P\",\"steal\":{\"caught\":0,\"stolen\":0,\"pickoff\":0,\"pct\":0},\"errors\":{\"throwing\":0,\"fielding\":0,\"interference\":0,\"total\":0},\"assists\":{\"outfield\":0,\"total\":1},\"games\":{\"start\":0,\"play\":8,\"finish\":5,\"complete\":0}}]}}},{\"preferred_name\":\"Jorge\",\"first_name\":\"Jorge\",\"last_name\":\"Barrosa\",\"jersey_number\":\"1\",\"id\":\"fdc95893-39e2-4c38-8544-132b2d30bd83\",\"full_name\":\"Jorge Barrosa\",\"position\":\"OF\",\"primary_position\":\"LF\",\"statistics\":{\"hitting\":{\"overall\":{\"ab\":15,\"lob\":6,\"rbi\":4,\"abhr\":0,\"abk\":3.0,\"bip\":11,\"babip\":0.273,\"bbk\":0.0,\"bbpa\":0.0,\"iso\":0.133,\"obp\":0.188,\"ops\":0.521,\"seca\":0.133,\"slg\":0.333,\"xbh\":2,\"pitch_count\":72,\"lob_risp_2out\":1,\"team_lob\":3,\"ab_risp\":4,\"hit_risp\":2,\"rbi_2out\":1,\"linedrive\":5,\"groundball\":3,\"popup\":0,\"flyball\":3,\"ap\":16,\"avg\":\".200\",\"gofo\":0.33,\"woba\":0.21426,\"wraa\":-1.26701,\"war\":0.03208,\"bwar\":-1.32182,\"fwar\":1.17326,\"brwar\":0.0470226,\"wgdp\":0.0,\"wrc\":0.570282,\"wrc_plus\":29.4256,\"onbase\":{\"s\":1,\"d\":2,\"t\":0,\"hr\":0,\"tb\":5,\"bb\":0,\"ibb\":0,\"hbp\":0,\"fc\":1,\"roe\":0,\"h\":3,\"ci\":0,\"rov\":0,\"cycle\":0},\"runs\":{\"total\":1},\"outcome\":{\"klook\":11,\"kswing\":11,\"ktotal\":22,\"ball\":22,\"iball\":0,\"dirtball\":1,\"foul\":16},\"outs\":{\"po\":0,\"fo\":3,\"fidp\":0,\"lo\":3,\"lidp\":0,\"go\":2,\"gidp\":0,\"klook\":0,\"kswing\":5,\"ktotal\":5,\"sacfly\":1,\"sachit\":0},\"steal\":{\"caught\":0,\"stolen\":0,\"pct\":0,\"pickoff\":0},\"pitches\":{\"count\":72,\"btotal\":23,\"ktotal\":49},\"games\":{\"start\":4,\"play\":5,\"finish\":1,\"complete\":4}}},\"fielding\":{\"overall\":{\"po\":13,\"a\":0,\"dp\":0,\"tp\":0,\"error\":0,\"tc\":13,\"fpct\":1.0,\"c_wp\":0,\"pb\":0,\"rf\":2.6,\"inn_1\":108,\"inn_2\":36.0,\"steal\":{\"caught\":0,\"stolen\":0,\"pickoff\":0,\"pct\":0},\"errors\":{\"throwing\":0,\"fielding\":0,\"interference\":0,\"total\":0},\"assists\":{\"outfield\":0,\"total\":0},\"games\":{\"start\":4,\"play\":5,\"finish\":1,\"complete\":1}},\"positions\":[{\"po\":3,\"a\":0,\"dp\":0,\"tp\":0,\"error\":0,\"tc\":3,\"fpct\":1.0,\"c_wp\":0,\"pb\":0,\"rf\":1.5,\"inn_1\":33,\"inn_2\":11.0,\"position\":\"LF\",\"steal\":{\"caught\":0,\"stolen\":0,\"pickoff\":0,\"pct\":0},\"errors\":{\"throwing\":0,\"fielding\":0,\"interference\":0,\"total\":0},\"assists\":{\"outfield\":0,\"total\":0},\"games\":{\"start\":1,\"play\":2,\"finish\":1,\"complete\":0}},{\"po\":10,\"a\":0,\"dp\":0,\"tp\":0,\"error\":0,\"tc\":10,\"fpct\":1.0,\"c_wp\":0,\"pb\":0,\"rf\":3.333,\"inn_1\":75,\"inn_2\":25.0,\"position\":\"CF\",\"steal\":{\"caught\":0,\"stolen\":0,\"pickoff\":0,\"pct\":0},\"errors\":{\"throwing\":0,\"fielding\":0,\"interference\":0,\"total\":0},\"assists\":{\"outfield\":0,\"total\":0},\"games\":{\"start\":3,\"play\":3,\"finish\":0,\"complete\":0}}]}}},{\"preferred_name\":\"Jordan\",\"first_name\":\"Jordan\",\"last_name\":\"Lawlar\",\"jersey_number\":\"10\",\"id\":\"7e73da4b-af17-41f1-800d-ed1380d0e7a7\",\"full_name\":\"Jordan Lawlar\",\"position\":\"IF\",\"primary_position\":\"SS\",\"statistics\":{\"hitting\":{\"overall\":{\"ab\":19,\"lob\":6,\"rbi\":0,\"abhr\":0,\"abk\":2.111,\"bip\":10,\"babip\":0.0,\"bbk\":0.333,\"bbpa\":0.136,\"iso\":0.0,\"obp\":0.136,\"ops\":0.136,\"seca\":0.158,\"slg\":0.0,\"xbh\":0,\"pitch_count\":86,\"lob_risp_2out\":3,\"team_lob\":5,\"ab_risp\":3,\"hit_risp\":0,\"rbi_2out\":0,\"linedrive\":0,\"groundball\":7,\"popup\":1,\"flyball\":2,\"ap\":22,\"avg\":\".000\",\"gofo\":2.33,\"woba\":0.094822,\"wraa\":-3.82729,\"war\":-0.49959,\"bwar\":-3.90265,\"fwar\":-1.73947,\"brwar\":0.115316,\"wgdp\":0.0,\"wrc\":-1.30101,\"wrc_plus\":-51.5413,\"onbase\":{\"s\":0,\"d\":0,\"t\":0,\"hr\":0,\"tb\":0,\"bb\":3,\"ibb\":0,\"hbp\":0,\"fc\":0,\"roe\":0,\"h\":0,\"ci\":0,\"rov\":0,\"cycle\":0},\"runs\":{\"total\":1},\"outcome\":{\"klook\":13,\"kswing\":16,\"ktotal\":29,\"ball\":31,\"iball\":0,\"dirtball\":2,\"foul\":14},\"outs\":{\"po\":1,\"fo\":2,\"fidp\":0,\"lo\":0,\"lidp\":0,\"go\":7,\"gidp\":0,\"klook\":2,\"kswing\":7,\"ktotal\":9,\"sacfly\":0,\"sachit\":0},\"steal\":{\"caught\":0,\"stolen\":0,\"pct\":0,\"pickoff\":0},\"pitches\":{\"count\":86,\"btotal\":33,\"ktotal\":53},\"games\":{\"start\":6,\"play\":8,\"finish\":2,\"complete\":4}}},\"fielding\":{\"overall\":{\"po\":10,\"a\":17,\"dp\":2,\"tp\":0,\"error\":3,\"tc\":30,\"fpct\":0.9,\"c_wp\":0,\"pb\":0,\"rf\":3.857,\"inn_1\":156,\"inn_2\":52.0,\"steal\":{\"caught\":0,\"stolen\":0,\"pickoff\":0,\"pct\":0},\"errors\":{\"throwing\":2,\"fielding\":1,\"interference\":0,\"total\":3},\"assists\":{\"outfield\":0,\"total\":17},\"games\":{\"start\":6,\"play\":7,\"finish\":1,\"complete\":0}},\"positions\":[{\"po\":0,\"a\":2,\"dp\":0,\"tp\":0,\"error\":1,\"tc\":3,\"fpct\":0.667,\"c_wp\":0,\"pb\":0,\"rf\":2.0,\"inn_1\":24,\"inn_2\":8.0,\"position\":\"SS\",\"steal\":{\"caught\":0,\"stolen\":0,\"pickoff\":0,\"pct\":0},\"errors\":{\"throwing\":1,\"fielding\":0,\"interference\":0,\"total\":1},\"assists\":{\"outfield\":0,\"total\":2},\"games\":{\"start\":1,\"play\":1,\"finish\":0,\"complete\":0}},{\"po\":1,\"a\":3,\"dp\":0,\"tp\":0,\"error\":0,\"tc\":4,\"fpct\":1.0,\"c_wp\":0,\"pb\":0,\"rf\":4.0,\"inn_1\":21,\"inn_2\":7.0,\"position\":\"3B\",\"steal\":{\"caught\":0,\"stolen\":0,\"pickoff\":0,\"pct\":0},\"errors\":{\"throwing\":0,\"fielding\":0,\"interference\":0,\"total\":0},\"assists\":{\"outfield\":0,\"total\":3},\"games\":{\"start\":1,\"play\":1,\"finish\":0,\"complete\":0}},{\"po\":9,\"a\":12,\"dp\":2,\"tp\":0,\"error\":2,\"tc\":23,\"fpct\":0.913,\"c_wp\":0,\"pb\":0,\"rf\":4.2,\"inn_1\":111,\"inn_2\":37.0,\"position\":\"2B\",\"steal\":{\"caught\":0,\"stolen\":0,\"pickoff\":0,\"pct\":0},\"errors\":{\"throwing\":1,\"fielding\":1,\"interference\":0,\"total\":2},\"assists\":{\"outfield\":0,\"total\":12},\"games\":{\"start\":4,\"play\":5,\"finish\":1,\"complete\":0}}]}}},{\"preferred_name\":\"Ryan\",\"first_name\":\"Ryan\",\"last_name\":\"Thompson\",\"jersey_number\":\"81\",\"id\":\"05b5805b-3b4e-40f6-982b-03081465c961\",\"full_name\":\"Ryan Thompson\",\"position\":\"P\",\"primary_position\":\"RP\",\"statistics\":{\"hitting\":{\"overall\":{\"ab\":0,\"lob\":0,\"rbi\":0,\"abhr\":0,\"abk\":0,\"bip\":0,\"babip\":0,\"bbk\":0,\"bbpa\":0,\"iso\":0.0,\"obp\":0,\"ops\":0.0,\"seca\":0,\"slg\":0,\"xbh\":0,\"pitch_count\":0,\"lob_risp_2out\":0,\"team_lob\":0,\"ab_risp\":0,\"hit_risp\":0,\"rbi_2out\":0,\"linedrive\":0,\"groundball\":0,\"popup\":0,\"flyball\":0,\"ap\":0,\"avg\":\".000\",\"gofo\":0.0,\"wraa\":0.0,\"war\":0.0,\"bwar\":0.0,\"fwar\":0.0,\"brwar\":0.0,\"wgdp\":0.0,\"wrc\":0.0,\"onbase\":{\"s\":0,\"d\":0,\"t\":0,\"hr\":0,\"tb\":0,\"bb\":0,\"ibb\":0,\"hbp\":0,\"fc\":0,\"roe\":0,\"h\":0,\"ci\":0,\"rov\":0,\"cycle\":0},\"runs\":{\"total\":0},\"outcome\":{\"klook\":0,\"kswing\":0,\"ktotal\":0,\"ball\":0,\"iball\":0,\"dirtball\":0,\"foul\":0},\"outs\":{\"po\":0,\"fo\":0,\"fidp\":0,\"lo\":0,\"lidp\":0,\"go\":0,\"gidp\":0,\"klook\":0,\"kswing\":0,\"ktotal\":0,\"sacfly\":0,\"sachit\":0},\"steal\":{\"caught\":0,\"stolen\":0,\"pct\":0,\"pickoff\":0},\"pitches\":{\"count\":0,\"btotal\":0,\"ktotal\":0},\"games\":{\"start\":0,\"play\":1,\"finish\":0,\"complete\":0}}},\"pitching\":{\"overall\":{\"oba\":0.304,\"lob\":48,\"era\":6.136,\"k9\":8.595,\"whip\":1.5909,\"kbb\":3.0,\"pitch_count\":371,\"wp\":0,\"bk\":1,\"ip_1\":66,\"ip_2\":22.0,\"bf\":100,\"gofo\":1.15,\"babip\":0.358,\"bf_ip\":4.545,\"fip\":4.62478,\"xfip\":3.63013,\"war\":-0.178047,\"era_minus\":148.451,\"gbfb\":2.769,\"oab\":92,\"slg\":0.489,\"obp\":0.36,\"onbase\":{\"s\":19,\"d\":5,\"t\":0,\"hr\":4,\"tb\":45,\"bb\":6,\"ibb\":1,\"hbp\":1,\"fc\":4,\"roe\":0,\"h\":28,\"ci\":0,\"rov\":0,\"h9\":11.457,\"hr9\":1.638},\"runs\":{\"total\":15,\"unearned\":0,\"earned\":15,\"ir\":8,\"ira\":3,\"bqr\":8,\"bqra\":3},\"outcome\":{\"klook\":64,\"kswing\":47,\"ktotal\":111,\"ball\":124,\"iball\":0,\"dirtball\":4,\"foul\":60},\"outs\":{\"po\":4,\"fo\":9,\"fidp\":0,\"lo\":7,\"lidp\":0,\"go\":23,\"gidp\":3,\"klook\":4,\"kswing\":17,\"ktotal\":21,\"sacfly\":0,\"sachit\":0},\"steal\":{\"caught\":0,\"stolen\":3,\"pickoff\":0},\"pitches\":{\"count\":371,\"btotal\":129,\"ktotal\":242,\"per_ip\":16.864,\"per_bf\":3.71},\"in_play\":{\"linedrive\":18,\"groundball\":36,\"popup\":4,\"flyball\":13},\"games\":{\"start\":0,\"play\":23,\"finish\":4,\"svo\":3,\"qstart\":0,\"shutout\":0,\"complete\":0,\"win\":1,\"loss\":1,\"save\":1,\"hold\":5,\"blown_save\":2,\"team_win\":0,\"team_loss\":0}},\"bullpen\":{\"oba\":0.304,\"lob\":48,\"era\":6.136,\"k9\":8.595,\"whip\":1.5909,\"kbb\":3.0,\"pitch_count\":371,\"wp\":0,\"bk\":1,\"ip_1\":66,\"ip_2\":22.0,\"bf\":100,\"gofo\":1.15,\"babip\":0.358,\"bf_ip\":4.545,\"gbfb\":2.769,\"oab\":92,\"slg\":0.489,\"obp\":0.36,\"onbase\":{\"s\":19,\"d\":5,\"t\":0,\"hr\":4,\"tb\":45,\"bb\":6,\"ibb\":1,\"hbp\":1,\"fc\":4,\"roe\":0,\"h\":28,\"ci\":0,\"rov\":0,\"h9\":11.457,\"hr9\":1.638},\"runs\":{\"total\":15,\"unearned\":0,\"earned\":15,\"ir\":8,\"ira\":3,\"bqr\":8,\"bqra\":3},\"outcome\":{\"klook\":64,\"kswing\":47,\"ktotal\":111,\"ball\":124,\"iball\":0,\"dirtball\":4,\"foul\":60},\"outs\":{\"po\":4,\"fo\":9,\"fidp\":0,\"lo\":7,\"lidp\":0,\"go\":23,\"gidp\":3,\"klook\":4,\"kswing\":17,\"ktotal\":21,\"sacfly\":0,\"sachit\":0},\"steal\":{\"caught\":0,\"stolen\":3,\"pickoff\":0},\"pitches\":{\"count\":371,\"btotal\":129,\"ktotal\":242,\"per_ip\":16.864,\"per_bf\":3.71},\"in_play\":{\"linedrive\":18,\"groundball\":36,\"popup\":4,\"flyball\":13},\"games\":{\"start\":0,\"play\":23,\"finish\":4,\"svo\":3,\"qstart\":0,\"shutout\":0,\"complete\":0,\"win\":1,\"loss\":1,\"save\":1,\"hold\":5,\"blown_save\":2,\"team_win\":0,\"team_loss\":0}}},\"fielding\":{\"overall\":{\"po\":2,\"a\":2,\"dp\":1,\"tp\":0,\"error\":0,\"tc\":4,\"fpct\":1.0,\"c_wp\":0,\"pb\":0,\"rf\":0.174,\"inn_1\":66,\"inn_2\":22.0,\"steal\":{\"caught\":0,\"stolen\":0,\"pickoff\":0,\"pct\":0},\"errors\":{\"throwing\":0,\"fielding\":0,\"interference\":0,\"total\":0},\"assists\":{\"outfield\":0,\"total\":2},\"games\":{\"start\":0,\"play\":23,\"finish\":4,\"complete\":0}},\"positions\":[{\"po\":2,\"a\":2,\"dp\":1,\"tp\":0,\"error\":0,\"tc\":4,\"fpct\":1.0,\"c_wp\":0,\"pb\":0,\"rf\":0.174,\"inn_1\":66,\"inn_2\":22.0,\"position\":\"P\",\"steal\":{\"caught\":0,\"stolen\":0,\"pickoff\":0,\"pct\":0},\"errors\":{\"throwing\":0,\"fielding\":0,\"interference\":0,\"total\":0},\"assists\":{\"outfield\":0,\"total\":2},\"games\":{\"start\":0,\"play\":23,\"finish\":4,\"complete\":0}}]}}},{\"preferred_name\":\"Tim\",\"first_name\":\"Timothy\",\"last_name\":\"Tawa\",\"jersey_number\":\"13\",\"id\":\"a0f6406d-31c6-4c95-b110-7d84bf4c492f\",\"full_name\":\"Tim Tawa\",\"position\":\"IF\",\"primary_position\":\"2B\",\"statistics\":{\"hitting\":{\"overall\":{\"ab\":100,\"lob\":50,\"rbi\":14,\"abhr\":16.667,\"abk\":3.704,\"bip\":70,\"babip\":0.243,\"bbk\":0.37,\"bbpa\":0.088,\"iso\":0.22,\"obp\":0.298,\"ops\":0.748,\"seca\":0.38,\"slg\":0.45,\"xbh\":10,\"pitch_count\":423,\"lob_risp_2out\":13,\"team_lob\":22,\"ab_risp\":27,\"hit_risp\":4,\"rbi_2out\":5,\"linedrive\":13,\"groundball\":37,\"popup\":3,\"flyball\":23,\"ap\":114,\"avg\":\".230\",\"gofo\":1.33,\"woba\":0.322842,\"wraa\":0.795324,\"war\":0.67375,\"bwar\":0.404797,\"fwar\":0.559291,\"brwar\":1.39663,\"wgdp\":0.0,\"wrc\":13.886,\"wrc_plus\":103.033,\"onbase\":{\"s\":13,\"d\":4,\"t\":0,\"hr\":6,\"tb\":45,\"bb\":10,\"ibb\":0,\"hbp\":1,\"fc\":7,\"roe\":1,\"h\":23,\"ci\":0,\"rov\":0,\"cycle\":0},\"runs\":{\"total\":14},\"outcome\":{\"klook\":65,\"kswing\":63,\"ktotal\":128,\"ball\":141,\"iball\":0,\"dirtball\":13,\"foul\":64},\"outs\":{\"po\":3,\"fo\":15,\"fidp\":0,\"lo\":6,\"lidp\":0,\"go\":32,\"gidp\":3,\"klook\":4,\"kswing\":23,\"ktotal\":27,\"sacfly\":3,\"sachit\":0},\"steal\":{\"caught\":0,\"stolen\":6,\"pct\":1.0,\"pickoff\":0},\"pitches\":{\"count\":423,\"btotal\":155,\"ktotal\":268},\"games\":{\"start\":27,\"play\":36,\"finish\":9,\"complete\":21}}},\"fielding\":{\"overall\":{\"po\":43,\"a\":50,\"dp\":14,\"tp\":0,\"error\":3,\"tc\":96,\"fpct\":0.969,\"c_wp\":0,\"pb\":0,\"rf\":2.657,\"inn_1\":737,\"inn_2\":245.2,\"steal\":{\"caught\":0,\"stolen\":0,\"pickoff\":0,\"pct\":0},\"errors\":{\"throwing\":1,\"fielding\":2,\"interference\":0,\"total\":3},\"assists\":{\"outfield\":0,\"total\":50},\"games\":{\"start\":27,\"play\":35,\"finish\":8,\"complete\":2}},\"positions\":[{\"po\":1,\"a\":0,\"dp\":0,\"tp\":0,\"error\":0,\"tc\":1,\"fpct\":1.0,\"c_wp\":0,\"pb\":0,\"rf\":0.5,\"inn_1\":42,\"inn_2\":14.0,\"position\":\"LF\",\"steal\":{\"caught\":0,\"stolen\":0,\"pickoff\":0,\"pct\":0},\"errors\":{\"throwing\":0,\"fielding\":0,\"interference\":0,\"total\":0},\"assists\":{\"outfield\":0,\"total\":0},\"games\":{\"start\":2,\"play\":2,\"finish\":0,\"complete\":0}},{\"po\":0,\"a\":1,\"dp\":0,\"tp\":0,\"error\":0,\"tc\":1,\"fpct\":1.0,\"c_wp\":0,\"pb\":0,\"rf\":1.0,\"inn_1\":3,\"inn_2\":1.0,\"position\":\"1B\",\"steal\":{\"caught\":0,\"stolen\":0,\"pickoff\":0,\"pct\":0},\"errors\":{\"throwing\":0,\"fielding\":0,\"interference\":0,\"total\":0},\"assists\":{\"outfield\":0,\"total\":1},\"games\":{\"start\":0,\"play\":1,\"finish\":1,\"complete\":0}},{\"po\":0,\"a\":0,\"dp\":0,\"tp\":0,\"error\":0,\"tc\":0,\"fpct\":0.0,\"c_wp\":0,\"pb\":0,\"rf\":0.0,\"inn_1\":3,\"inn_2\":1.0,\"position\":\"3B\",\"steal\":{\"caught\":0,\"stolen\":0,\"pickoff\":0,\"pct\":0},\"errors\":{\"throwing\":0,\"fielding\":0,\"interference\":0,\"total\":0},\"assists\":{\"outfield\":0,\"total\":0},\"games\":{\"start\":0,\"play\":1,\"finish\":1,\"complete\":0}},{\"po\":27,\"a\":49,\"dp\":14,\"tp\":0,\"error\":3,\"tc\":79,\"fpct\":0.962,\"c_wp\":0,\"pb\":0,\"rf\":3.455,\"inn_1\":546,\"inn_2\":182.0,\"position\":\"2B\",\"steal\":{\"caught\":0,\"stolen\":0,\"pickoff\":0,\"pct\":0},\"errors\":{\"throwing\":1,\"fielding\":2,\"interference\":0,\"total\":3},\"assists\":{\"outfield\":0,\"total\":49},\"games\":{\"start\":20,\"play\":22,\"finish\":2,\"complete\":0}},{\"po\":15,\"a\":0,\"dp\":0,\"tp\":0,\"error\":0,\"tc\":15,\"fpct\":1.0,\"c_wp\":0,\"pb\":0,\"rf\":1.667,\"inn_1\":143,\"inn_2\":47.2,\"position\":\"CF\",\"steal\":{\"caught\":0,\"stolen\":0,\"pickoff\":0,\"pct\":0},\"errors\":{\"throwing\":0,\"fielding\":0,\"interference\":0,\"total\":0},\"assists\":{\"outfield\":0,\"total\":0},\"games\":{\"start\":5,\"play\":9,\"finish\":4,\"complete\":0}}]}}},{\"preferred_name\":\"Randal\",\"first_name\":\"Randal\",\"last_name\":\"Grichuk\",\"jersey_number\":\"15\",\"id\":\"5a1ba87b-8ec6-4588-97c8-79db8d044cca\",\"full_name\":\"Randal Grichuk\",\"position\":\"OF\",\"primary_position\":\"RF\",\"statistics\":{\"hitting\":{\"overall\":{\"ab\":76,\"lob\":35,\"rbi\":9,\"abhr\":38.0,\"abk\":4.471,\"bip\":57,\"babip\":0.298,\"bbk\":0.353,\"bbpa\":0.073,\"iso\":0.197,\"obp\":0.305,\"ops\":0.752,\"seca\":0.276,\"slg\":0.447,\"xbh\":11,\"pitch_count\":290,\"lob_risp_2out\":10,\"team_lob\":23,\"ab_risp\":19,\"hit_risp\":4,\"rbi_2out\":7,\"linedrive\":16,\"groundball\":24,\"popup\":6,\"flyball\":13,\"ap\":82,\"avg\":\".250\",\"gofo\":1.26,\"woba\":0.323179,\"wraa\":0.593956,\"war\":0.00997,\"bwar\":0.313051,\"fwar\":-0.112026,\"brwar\":0.15767,\"wgdp\":0.0,\"wrc\":10.0101,\"wrc_plus\":103.261,\"onbase\":{\"s\":8,\"d\":9,\"t\":0,\"hr\":2,\"tb\":34,\"bb\":5,\"ibb\":1,\"hbp\":0,\"fc\":2,\"roe\":1,\"h\":19,\"ci\":0,\"rov\":0,\"cycle\":0},\"runs\":{\"total\":12},\"outcome\":{\"klook\":56,\"kswing\":25,\"ktotal\":81,\"ball\":92,\"iball\":0,\"dirtball\":3,\"foul\":55},\"outs\":{\"po\":6,\"fo\":8,\"fidp\":0,\"lo\":5,\"lidp\":0,\"go\":24,\"gidp\":3,\"klook\":3,\"kswing\":14,\"ktotal\":17,\"sacfly\":0,\"sachit\":0},\"steal\":{\"caught\":0,\"stolen\":0,\"pct\":0,\"pickoff\":0},\"pitches\":{\"count\":290,\"btotal\":95,\"ktotal\":195},\"games\":{\"start\":16,\"play\":36,\"finish\":20,\"complete\":8}}},\"fielding\":{\"overall\":{\"po\":2,\"a\":0,\"dp\":0,\"tp\":0,\"error\":0,\"tc\":2,\"fpct\":1.0,\"c_wp\":0,\"pb\":0,\"rf\":1.0,\"inn_1\":39,\"inn_2\":13.0,\"steal\":{\"caught\":0,\"stolen\":0,\"pickoff\":0,\"pct\":0},\"errors\":{\"throwing\":0,\"fielding\":0,\"interference\":0,\"total\":0},\"assists\":{\"outfield\":0,\"total\":0},\"games\":{\"start\":2,\"play\":2,\"finish\":0,\"complete\":0}},\"positions\":[{\"po\":2,\"a\":0,\"dp\":0,\"tp\":0,\"error\":0,\"tc\":2,\"fpct\":1.0,\"c_wp\":0,\"pb\":0,\"rf\":1.0,\"inn_1\":39,\"inn_2\":13.0,\"position\":\"RF\",\"steal\":{\"caught\":0,\"stolen\":0,\"pickoff\":0,\"pct\":0},\"errors\":{\"throwing\":0,\"fielding\":0,\"interference\":0,\"total\":0},\"assists\":{\"outfield\":0,\"total\":0},\"games\":{\"start\":2,\"play\":2,\"finish\":0,\"complete\":0}}]}}},{\"preferred_name\":\"Corbin\",\"first_name\":\"Corbin\",\"last_name\":\"Carroll\",\"jersey_number\":\"7\",\"id\":\"86b68e79-a041-4fe2-95ea-1e8e0c30e382\",\"full_name\":\"Corbin Carroll\",\"position\":\"OF\",\"primary_position\":\"RF\",\"statistics\":{\"hitting\":{\"overall\":{\"ab\":236,\"lob\":97,\"rbi\":35,\"abhr\":14.75,\"abk\":3.576,\"bip\":154,\"babip\":0.292,\"bbk\":0.303,\"bbpa\":0.077,\"iso\":0.301,\"obp\":0.33,\"ops\":0.889,\"seca\":0.415,\"slg\":0.559,\"xbh\":33,\"pitch_count\":1008,\"lob_risp_2out\":22,\"team_lob\":39,\"ab_risp\":58,\"hit_risp\":14,\"rbi_2out\":9,\"linedrive\":30,\"groundball\":68,\"popup\":13,\"flyball\":59,\"ap\":261,\"avg\":\".258\",\"gofo\":0.88,\"woba\":0.379415,\"wraa\":13.5379,\"war\":2.71425,\"bwar\":12.6438,\"fwar\":3.56757,\"brwar\":3.68946,\"wgdp\":0.0,\"wrc\":43.5088,\"wrc_plus\":141.384,\"onbase\":{\"s\":28,\"d\":11,\"t\":6,\"hr\":16,\"tb\":132,\"bb\":19,\"ibb\":1,\"hbp\":5,\"fc\":5,\"roe\":1,\"h\":61,\"ci\":0,\"rov\":0,\"cycle\":0},\"runs\":{\"total\":44},\"outcome\":{\"klook\":150,\"kswing\":124,\"ktotal\":274,\"ball\":330,\"iball\":0,\"dirtball\":26,\"foul\":203},\"outs\":{\"po\":13,\"fo\":40,\"fidp\":0,\"lo\":6,\"lidp\":1,\"go\":52,\"gidp\":2,\"klook\":21,\"kswing\":45,\"ktotal\":66,\"sacfly\":0,\"sachit\":0},\"steal\":{\"caught\":3,\"stolen\":10,\"pct\":0.769,\"pickoff\":0},\"pitches\":{\"count\":1008,\"btotal\":361,\"ktotal\":647},\"games\":{\"start\":55,\"play\":57,\"finish\":2,\"complete\":55}}},\"fielding\":{\"overall\":{\"po\":124,\"a\":6,\"dp\":2,\"tp\":0,\"error\":1,\"tc\":131,\"fpct\":0.992,\"c_wp\":0,\"pb\":0,\"rf\":2.281,\"inn_1\":1484,\"inn_2\":494.2,\"steal\":{\"caught\":0,\"stolen\":0,\"pickoff\":0,\"pct\":0},\"errors\":{\"throwing\":1,\"fielding\":0,\"interference\":0,\"total\":1},\"assists\":{\"outfield\":6,\"total\":6},\"games\":{\"start\":55,\"play\":57,\"finish\":2,\"complete\":0}},\"positions\":[{\"po\":124,\"a\":6,\"dp\":2,\"tp\":0,\"error\":1,\"tc\":131,\"fpct\":0.992,\"c_wp\":0,\"pb\":0,\"rf\":2.281,\"inn_1\":1484,\"inn_2\":494.2,\"position\":\"RF\",\"steal\":{\"caught\":0,\"stolen\":0,\"pickoff\":0,\"pct\":0},\"errors\":{\"throwing\":1,\"fielding\":0,\"interference\":0,\"total\":1},\"assists\":{\"outfield\":6,\"total\":6},\"games\":{\"start\":55,\"play\":57,\"finish\":2,\"complete\":0}}]}}},{\"preferred_name\":\"Alek\",\"first_name\":\"Alek\",\"last_name\":\"Thomas\",\"jersey_number\":\"5\",\"id\":\"00b00827-de2d-4ae4-a3ce-9571abfa84be\",\"full_name\":\"Alek Thomas\",\"position\":\"OF\",\"primary_position\":\"CF\",\"statistics\":{\"hitting\":{\"overall\":{\"ab\":141,\"lob\":63,\"rbi\":16,\"abhr\":141.0,\"abk\":3.917,\"bip\":105,\"babip\":0.333,\"bbk\":0.167,\"bbpa\":0.039,\"iso\":0.107,\"obp\":0.303,\"ops\":0.665,\"seca\":0.156,\"slg\":0.362,\"xbh\":11,\"pitch_count\":553,\"lob_risp_2out\":13,\"team_lob\":27,\"ab_risp\":43,\"hit_risp\":12,\"rbi_2out\":5,\"linedrive\":22,\"groundball\":61,\"popup\":3,\"flyball\":21,\"ap\":153,\"avg\":\".255\",\"gofo\":2.04,\"woba\":0.29469,\"wraa\":-2.35066,\"war\":0.22921,\"bwar\":-2.87478,\"fwar\":-1.66875,\"brwar\":1.06272,\"wgdp\":0.0,\"wrc\":15.2185,\"wrc_plus\":83.9488,\"onbase\":{\"s\":25,\"d\":8,\"t\":2,\"hr\":1,\"tb\":51,\"bb\":6,\"ibb\":0,\"hbp\":4,\"fc\":11,\"roe\":0,\"h\":36,\"ci\":0,\"rov\":0,\"cycle\":0},\"runs\":{\"total\":13},\"outcome\":{\"klook\":89,\"kswing\":73,\"ktotal\":162,\"ball\":170,\"iball\":0,\"dirtball\":10,\"foul\":100},\"outs\":{\"po\":3,\"fo\":18,\"fidp\":0,\"lo\":3,\"lidp\":0,\"go\":49,\"gidp\":2,\"klook\":7,\"kswing\":29,\"ktotal\":36,\"sacfly\":1,\"sachit\":1},\"steal\":{\"caught\":2,\"stolen\":3,\"pct\":0.6,\"pickoff\":0},\"pitches\":{\"count\":553,\"btotal\":184,\"ktotal\":369},\"games\":{\"start\":39,\"play\":48,\"finish\":9,\"complete\":34}}},\"fielding\":{\"overall\":{\"po\":96,\"a\":2,\"dp\":0,\"tp\":0,\"error\":0,\"tc\":98,\"fpct\":1.0,\"c_wp\":0,\"pb\":0,\"rf\":2.085,\"inn_1\":1053,\"inn_2\":351.0,\"steal\":{\"caught\":0,\"stolen\":0,\"pickoff\":0,\"pct\":0},\"errors\":{\"throwing\":0,\"fielding\":0,\"interference\":0,\"total\":0},\"assists\":{\"outfield\":2,\"total\":2},\"games\":{\"start\":39,\"play\":47,\"finish\":8,\"complete\":0}},\"positions\":[{\"po\":96,\"a\":2,\"dp\":0,\"tp\":0,\"error\":0,\"tc\":98,\"fpct\":1.0,\"c_wp\":0,\"pb\":0,\"rf\":2.085,\"inn_1\":1053,\"inn_2\":351.0,\"position\":\"CF\",\"steal\":{\"caught\":0,\"stolen\":0,\"pickoff\":0,\"pct\":0},\"errors\":{\"throwing\":0,\"fielding\":0,\"interference\":0,\"total\":0},\"assists\":{\"outfield\":2,\"total\":2},\"games\":{\"start\":39,\"play\":47,\"finish\":8,\"complete\":0}}]}}},{\"preferred_name\":\"Gabriel\",\"first_name\":\"Gabriel\",\"last_name\":\"Moreno\",\"jersey_number\":\"14\",\"id\":\"47bbd747-6edc-4d0e-a976-5228f5003fbd\",\"full_name\":\"Gabriel Moreno\",\"position\":\"C\",\"primary_position\":\"C\",\"statistics\":{\"hitting\":{\"overall\":{\"ab\":149,\"lob\":64,\"rbi\":15,\"abhr\":37.25,\"abk\":5.519,\"bip\":118,\"babip\":0.314,\"bbk\":0.444,\"bbpa\":0.074,\"iso\":0.148,\"obp\":0.333,\"ops\":0.756,\"seca\":0.228,\"slg\":0.423,\"xbh\":13,\"pitch_count\":680,\"lob_risp_2out\":15,\"team_lob\":31,\"ab_risp\":32,\"hit_risp\":6,\"rbi_2out\":3,\"linedrive\":26,\"groundball\":60,\"popup\":4,\"flyball\":32,\"ap\":162,\"avg\":\".275\",\"gofo\":1.1,\"woba\":0.333842,\"wraa\":2.5442,\"war\":1.94878,\"bwar\":1.98924,\"fwar\":2.05509,\"brwar\":0.127411,\"wgdp\":0.0,\"wrc\":21.1468,\"wrc_plus\":110.49,\"onbase\":{\"s\":28,\"d\":8,\"t\":1,\"hr\":4,\"tb\":63,\"bb\":12,\"ibb\":0,\"hbp\":1,\"fc\":4,\"roe\":0,\"h\":41,\"ci\":0,\"rov\":0,\"cycle\":0},\"runs\":{\"total\":25},\"outcome\":{\"klook\":137,\"kswing\":53,\"ktotal\":190,\"ball\":212,\"iball\":0,\"dirtball\":20,\"foul\":135},\"outs\":{\"po\":4,\"fo\":26,\"fidp\":1,\"lo\":10,\"lidp\":1,\"go\":44,\"gidp\":3,\"klook\":4,\"kswing\":23,\"ktotal\":27,\"sacfly\":0,\"sachit\":0},\"steal\":{\"caught\":1,\"stolen\":1,\"pct\":0.5,\"pickoff\":1},\"pitches\":{\"count\":680,\"btotal\":233,\"ktotal\":447},\"games\":{\"start\":38,\"play\":46,\"finish\":8,\"complete\":38}}},\"fielding\":{\"overall\":{\"po\":318,\"a\":15,\"dp\":3,\"tp\":0,\"error\":1,\"tc\":334,\"fpct\":0.997,\"c_wp\":7,\"pb\":2,\"rf\":7.4,\"inn_1\":1040,\"inn_2\":346.2,\"steal\":{\"caught\":6,\"stolen\":27,\"pickoff\":0,\"pct\":0.182},\"errors\":{\"throwing\":1,\"fielding\":0,\"interference\":0,\"total\":1},\"assists\":{\"outfield\":0,\"total\":15},\"games\":{\"start\":38,\"play\":45,\"finish\":7,\"complete\":0}},\"positions\":[{\"po\":318,\"a\":15,\"dp\":3,\"tp\":0,\"error\":1,\"tc\":334,\"fpct\":0.997,\"c_wp\":7,\"pb\":2,\"rf\":7.4,\"inn_1\":1040,\"inn_2\":346.2,\"position\":\"C\",\"steal\":{\"caught\":6,\"stolen\":27,\"pickoff\":0,\"pct\":0.182},\"errors\":{\"throwing\":1,\"fielding\":0,\"interference\":0,\"total\":1},\"assists\":{\"outfield\":0,\"total\":15},\"games\":{\"start\":38,\"play\":45,\"finish\":7,\"complete\":0}}]}}},{\"preferred_name\":\"Josh\",\"first_name\":\"Joshua-Douglas\",\"last_name\":\"Naylor\",\"jersey_number\":\"22\",\"id\":\"cdad7ebb-4b31-4e40-a6af-e63206766801\",\"full_name\":\"Josh Naylor\",\"position\":\"IF\",\"primary_position\":\"1B\",\"statistics\":{\"hitting\":{\"overall\":{\"ab\":215,\"lob\":95,\"rbi\":35,\"abhr\":35.833,\"abk\":7.414,\"bip\":182,\"babip\":0.319,\"bbk\":0.655,\"bbpa\":0.08,\"iso\":0.153,\"obp\":0.354,\"ops\":0.805,\"seca\":0.274,\"slg\":0.451,\"xbh\":20,\"pitch_count\":784,\"lob_risp_2out\":24,\"team_lob\":47,\"ab_risp\":62,\"hit_risp\":18,\"rbi_2out\":10,\"linedrive\":47,\"groundball\":90,\"popup\":8,\"flyball\":43,\"ap\":238,\"avg\":\".298\",\"gofo\":1.36,\"woba\":0.351719,\"wraa\":7.11415,\"war\":0.96474,\"bwar\":6.29884,\"fwar\":0.228067,\"brwar\":-0.581795,\"wgdp\":0.0,\"wrc\":34.4439,\"wrc_plus\":122.609,\"onbase\":{\"s\":44,\"d\":13,\"t\":1,\"hr\":6,\"tb\":97,\"bb\":18,\"ibb\":1,\"hbp\":1,\"fc\":2,\"roe\":1,\"h\":64,\"ci\":1,\"rov\":0,\"cycle\":0},\"runs\":{\"total\":28},\"outcome\":{\"klook\":118,\"kswing\":75,\"ktotal\":193,\"ball\":242,\"iball\":0,\"dirtball\":19,\"foul\":140},\"outs\":{\"po\":8,\"fo\":29,\"fidp\":0,\"lo\":19,\"lidp\":0,\"go\":76,\"gidp\":8,\"klook\":7,\"kswing\":22,\"ktotal\":29,\"sacfly\":2,\"sachit\":0},\"steal\":{\"caught\":2,\"stolen\":9,\"pct\":0.818,\"pickoff\":0},\"pitches\":{\"count\":784,\"btotal\":262,\"ktotal\":522},\"games\":{\"start\":55,\"play\":56,\"finish\":1,\"complete\":55}}},\"fielding\":{\"overall\":{\"po\":332,\"a\":29,\"dp\":28,\"tp\":0,\"error\":2,\"tc\":363,\"fpct\":0.994,\"c_wp\":0,\"pb\":0,\"rf\":8.022,\"inn_1\":1154,\"inn_2\":384.2,\"steal\":{\"caught\":0,\"stolen\":0,\"pickoff\":0,\"pct\":0},\"errors\":{\"throwing\":2,\"fielding\":0,\"interference\":0,\"total\":2},\"assists\":{\"outfield\":0,\"total\":29},\"games\":{\"start\":43,\"play\":45,\"finish\":2,\"complete\":0}},\"positions\":[{\"po\":332,\"a\":29,\"dp\":28,\"tp\":0,\"error\":2,\"tc\":363,\"fpct\":0.994,\"c_wp\":0,\"pb\":0,\"rf\":8.022,\"inn_1\":1154,\"inn_2\":384.2,\"position\":\"1B\",\"steal\":{\"caught\":0,\"stolen\":0,\"pickoff\":0,\"pct\":0},\"errors\":{\"throwing\":2,\"fielding\":0,\"interference\":0,\"total\":2},\"assists\":{\"outfield\":0,\"total\":29},\"games\":{\"start\":43,\"play\":45,\"finish\":2,\"complete\":0}}]}}},{\"preferred_name\":\"Eugenio\",\"first_name\":\"Eugenio\",\"last_name\":\"Suárez\",\"jersey_number\":\"28\",\"id\":\"27e91ba7-4a19-4548-91fc-8d70a29b9b8a\",\"full_name\":\"Eugenio Suárez\",\"position\":\"IF\",\"primary_position\":\"3B\",\"statistics\":{\"hitting\":{\"overall\":{\"ab\":204,\"lob\":100,\"rbi\":42,\"abhr\":13.6,\"abk\":3.709,\"bip\":137,\"babip\":0.234,\"bbk\":0.345,\"bbpa\":0.082,\"iso\":0.275,\"obp\":0.313,\"ops\":0.818,\"seca\":0.373,\"slg\":0.505,\"xbh\":26,\"pitch_count\":946,\"lob_risp_2out\":20,\"team_lob\":37,\"ab_risp\":54,\"hit_risp\":14,\"rbi_2out\":14,\"linedrive\":36,\"groundball\":44,\"popup\":14,\"flyball\":58,\"ap\":233,\"avg\":\".230\",\"gofo\":0.58,\"woba\":0.351032,\"wraa\":6.83758,\"war\":0.81648,\"bwar\":6.03939,\"fwar\":-4.42289,\"brwar\":-2.36211,\"wgdp\":0.0,\"wrc\":33.5932,\"wrc_plus\":122.143,\"onbase\":{\"s\":21,\"d\":11,\"t\":0,\"hr\":15,\"tb\":103,\"bb\":18,\"ibb\":1,\"hbp\":7,\"fc\":3,\"roe\":3,\"h\":47,\"ci\":0,\"rov\":0,\"cycle\":0},\"runs\":{\"total\":35},\"outcome\":{\"klook\":140,\"kswing\":132,\"ktotal\":272,\"ball\":323,\"iball\":0,\"dirtball\":14,\"foul\":178},\"outs\":{\"po\":14,\"fo\":39,\"fidp\":0,\"lo\":16,\"lidp\":1,\"go\":40,\"gidp\":4,\"klook\":9,\"kswing\":46,\"ktotal\":55,\"sacfly\":3,\"sachit\":0},\"steal\":{\"caught\":0,\"stolen\":1,\"pct\":1.0,\"pickoff\":0},\"pitches\":{\"count\":946,\"btotal\":344,\"ktotal\":602},\"games\":{\"start\":55,\"play\":57,\"finish\":2,\"complete\":54}}},\"fielding\":{\"overall\":{\"po\":38,\"a\":94,\"dp\":9,\"tp\":0,\"error\":8,\"tc\":140,\"fpct\":0.943,\"c_wp\":0,\"pb\":0,\"rf\":2.316,\"inn_1\":1472,\"inn_2\":490.2,\"steal\":{\"caught\":0,\"stolen\":0,\"pickoff\":0,\"pct\":0},\"errors\":{\"throwing\":5,\"fielding\":3,\"interference\":0,\"total\":8},\"assists\":{\"outfield\":0,\"total\":94},\"games\":{\"start\":55,\"play\":57,\"finish\":2,\"complete\":0}},\"positions\":[{\"po\":38,\"a\":94,\"dp\":9,\"tp\":0,\"error\":8,\"tc\":140,\"fpct\":0.943,\"c_wp\":0,\"pb\":0,\"rf\":2.316,\"inn_1\":1472,\"inn_2\":490.2,\"position\":\"3B\",\"steal\":{\"caught\":0,\"stolen\":0,\"pickoff\":0,\"pct\":0},\"errors\":{\"throwing\":5,\"fielding\":3,\"interference\":0,\"total\":8},\"assists\":{\"outfield\":0,\"total\":94},\"games\":{\"start\":55,\"play\":57,\"finish\":2,\"complete\":0}}]}}},{\"preferred_name\":\"Joe\",\"first_name\":\"Joseph\",\"last_name\":\"Mantiply\",\"id\":\"225568a7-e1a6-41a0-9ae0-6361d63449dc\",\"full_name\":\"Joe Mantiply\",\"position\":\"P\",\"primary_position\":\"RP\",\"statistics\":{\"hitting\":{\"overall\":{\"ab\":0,\"lob\":0,\"rbi\":0,\"abhr\":0,\"abk\":0,\"bip\":0,\"babip\":0,\"bbk\":0,\"bbpa\":0,\"iso\":0.0,\"obp\":0,\"ops\":0.0,\"seca\":0,\"slg\":0,\"xbh\":0,\"pitch_count\":0,\"lob_risp_2out\":0,\"team_lob\":0,\"ab_risp\":0,\"hit_risp\":0,\"rbi_2out\":0,\"linedrive\":0,\"groundball\":0,\"popup\":0,\"flyball\":0,\"ap\":0,\"avg\":\".000\",\"gofo\":0.0,\"wraa\":0.0,\"war\":0.0,\"bwar\":0.0,\"fwar\":0.0,\"brwar\":0.0,\"wgdp\":0.0,\"wrc\":0.0,\"onbase\":{\"s\":0,\"d\":0,\"t\":0,\"hr\":0,\"tb\":0,\"bb\":0,\"ibb\":0,\"hbp\":0,\"fc\":0,\"roe\":0,\"h\":0,\"ci\":0,\"rov\":0,\"cycle\":0},\"runs\":{\"total\":0},\"outcome\":{\"klook\":0,\"kswing\":0,\"ktotal\":0,\"ball\":0,\"iball\":0,\"dirtball\":0,\"foul\":0},\"outs\":{\"po\":0,\"fo\":0,\"fidp\":0,\"lo\":0,\"lidp\":0,\"go\":0,\"gidp\":0,\"klook\":0,\"kswing\":0,\"ktotal\":0,\"sacfly\":0,\"sachit\":0},\"steal\":{\"caught\":0,\"stolen\":0,\"pct\":0,\"pickoff\":0},\"pitches\":{\"count\":0,\"btotal\":0,\"ktotal\":0},\"games\":{\"start\":0,\"play\":1,\"finish\":0,\"complete\":0}}},\"pitching\":{\"overall\":{\"oba\":0.481,\"lob\":24,\"era\":15.828,\"k9\":7.452,\"whip\":3.0,\"kbb\":2.67,\"pitch_count\":192,\"wp\":0,\"bk\":0,\"ip_1\":29,\"ip_2\":9.2,\"bf\":58,\"gofo\":1.857,\"babip\":0.512,\"bf_ip\":6.0,\"fip\":9.38968,\"xfip\":5.18769,\"war\":-0.489339,\"era_minus\":382.9,\"gbfb\":1.615,\"oab\":54,\"slg\":0.833,\"obp\":0.517,\"onbase\":{\"s\":17,\"d\":4,\"t\":0,\"hr\":5,\"tb\":45,\"bb\":2,\"ibb\":1,\"hbp\":1,\"fc\":3,\"roe\":0,\"h\":26,\"ci\":0,\"rov\":0,\"h9\":24.21,\"hr9\":4.653},\"runs\":{\"total\":17,\"unearned\":0,\"earned\":17,\"ir\":2,\"ira\":1,\"bqr\":2,\"bqra\":0},\"outcome\":{\"klook\":40,\"kswing\":19,\"ktotal\":59,\"ball\":58,\"iball\":0,\"dirtball\":2,\"foul\":26},\"outs\":{\"po\":0,\"fo\":6,\"fidp\":0,\"lo\":1,\"lidp\":0,\"go\":13,\"gidp\":0,\"klook\":1,\"kswing\":7,\"ktotal\":8,\"sacfly\":0,\"sachit\":0},\"steal\":{\"caught\":1,\"stolen\":1,\"pickoff\":1},\"pitches\":{\"count\":192,\"btotal\":61,\"ktotal\":131,\"per_ip\":19.862,\"per_bf\":3.31},\"in_play\":{\"linedrive\":12,\"groundball\":21,\"popup\":0,\"flyball\":13},\"games\":{\"start\":0,\"play\":10,\"finish\":4,\"svo\":1,\"qstart\":0,\"shutout\":0,\"complete\":0,\"win\":0,\"loss\":1,\"save\":0,\"hold\":0,\"blown_save\":1,\"team_win\":0,\"team_loss\":0}},\"bullpen\":{\"oba\":0.481,\"lob\":24,\"era\":15.828,\"k9\":7.452,\"whip\":3.0,\"kbb\":2.67,\"pitch_count\":192,\"wp\":0,\"bk\":0,\"ip_1\":29,\"ip_2\":9.2,\"bf\":58,\"gofo\":1.857,\"babip\":0.512,\"bf_ip\":6.0,\"gbfb\":1.615,\"oab\":54,\"slg\":0.833,\"obp\":0.517,\"onbase\":{\"s\":17,\"d\":4,\"t\":0,\"hr\":5,\"tb\":45,\"bb\":2,\"ibb\":1,\"hbp\":1,\"fc\":3,\"roe\":0,\"h\":26,\"ci\":0,\"rov\":0,\"h9\":24.21,\"hr9\":4.653},\"runs\":{\"total\":17,\"unearned\":0,\"earned\":17,\"ir\":2,\"ira\":1,\"bqr\":2,\"bqra\":0},\"outcome\":{\"klook\":40,\"kswing\":19,\"ktotal\":59,\"ball\":58,\"iball\":0,\"dirtball\":2,\"foul\":26},\"outs\":{\"po\":0,\"fo\":6,\"fidp\":0,\"lo\":1,\"lidp\":0,\"go\":13,\"gidp\":0,\"klook\":1,\"kswing\":7,\"ktotal\":8,\"sacfly\":0,\"sachit\":0},\"steal\":{\"caught\":1,\"stolen\":1,\"pickoff\":1},\"pitches\":{\"count\":192,\"btotal\":61,\"ktotal\":131,\"per_ip\":19.862,\"per_bf\":3.31},\"in_play\":{\"linedrive\":12,\"groundball\":21,\"popup\":0,\"flyball\":13},\"games\":{\"start\":0,\"play\":10,\"finish\":4,\"svo\":1,\"qstart\":0,\"shutout\":0,\"complete\":0,\"win\":0,\"loss\":1,\"save\":0,\"hold\":0,\"blown_save\":1,\"team_win\":0,\"team_loss\":0}}},\"fielding\":{\"overall\":{\"po\":1,\"a\":2,\"dp\":0,\"tp\":0,\"error\":0,\"tc\":3,\"fpct\":1.0,\"c_wp\":0,\"pb\":0,\"rf\":0.3,\"inn_1\":29,\"inn_2\":9.2,\"steal\":{\"caught\":0,\"stolen\":0,\"pickoff\":0,\"pct\":0},\"errors\":{\"throwing\":0,\"fielding\":0,\"interference\":0,\"total\":0},\"assists\":{\"outfield\":0,\"total\":2},\"games\":{\"start\":0,\"play\":10,\"finish\":4,\"complete\":0}},\"positions\":[{\"po\":1,\"a\":2,\"dp\":0,\"tp\":0,\"error\":0,\"tc\":3,\"fpct\":1.0,\"c_wp\":0,\"pb\":0,\"rf\":0.3,\"inn_1\":29,\"inn_2\":9.2,\"position\":\"P\",\"steal\":{\"caught\":0,\"stolen\":0,\"pickoff\":0,\"pct\":0},\"errors\":{\"throwing\":0,\"fielding\":0,\"interference\":0,\"total\":0},\"assists\":{\"outfield\":0,\"total\":2},\"games\":{\"start\":0,\"play\":10,\"finish\":4,\"complete\":0}}]}}},{\"preferred_name\":\"Pavin\",\"first_name\":\"Pavin\",\"last_name\":\"Smith\",\"jersey_number\":\"26\",\"id\":\"0e9eddf6-e2b9-48e0-9f34-98e7f0c37988\",\"full_name\":\"Pavin Smith\",\"position\":\"OF\",\"primary_position\":\"1B\",\"statistics\":{\"hitting\":{\"overall\":{\"ab\":145,\"lob\":73,\"rbi\":14,\"abhr\":36.25,\"abk\":2.788,\"bip\":89,\"babip\":0.427,\"bbk\":0.481,\"bbpa\":0.147,\"iso\":0.172,\"obp\":0.394,\"ops\":0.856,\"seca\":0.345,\"slg\":0.462,\"xbh\":17,\"pitch_count\":726,\"lob_risp_2out\":19,\"team_lob\":34,\"ab_risp\":39,\"hit_risp\":9,\"rbi_2out\":4,\"linedrive\":25,\"groundball\":45,\"popup\":2,\"flyball\":21,\"ap\":170,\"avg\":\".290\",\"gofo\":1.8,\"woba\":0.379163,\"wraa\":8.78383,\"war\":0.80355,\"bwar\":8.20147,\"fwar\":-1.06265,\"brwar\":-0.358115,\"wgdp\":0.0,\"wrc\":28.3051,\"wrc_plus\":141.213,\"onbase\":{\"s\":25,\"d\":13,\"t\":0,\"hr\":4,\"tb\":67,\"bb\":25,\"ibb\":0,\"hbp\":0,\"fc\":4,\"roe\":1,\"h\":42,\"ci\":0,\"rov\":0,\"cycle\":0},\"runs\":{\"total\":22},\"outcome\":{\"klook\":156,\"kswing\":94,\"ktotal\":250,\"ball\":268,\"iball\":0,\"dirtball\":19,\"foul\":96},\"outs\":{\"po\":2,\"fo\":13,\"fidp\":0,\"lo\":5,\"lidp\":0,\"go\":36,\"gidp\":5,\"klook\":16,\"kswing\":36,\"ktotal\":52,\"sacfly\":0,\"sachit\":0},\"steal\":{\"caught\":1,\"stolen\":1,\"pct\":0.5,\"pickoff\":0},\"pitches\":{\"count\":726,\"btotal\":287,\"ktotal\":439},\"games\":{\"start\":42,\"play\":52,\"finish\":8,\"complete\":25}}},\"fielding\":{\"overall\":{\"po\":95,\"a\":11,\"dp\":8,\"tp\":0,\"error\":1,\"tc\":107,\"fpct\":0.991,\"c_wp\":0,\"pb\":0,\"rf\":7.571,\"inn_1\":366,\"inn_2\":122.0,\"steal\":{\"caught\":0,\"stolen\":0,\"pickoff\":0,\"pct\":0},\"errors\":{\"throwing\":0,\"fielding\":1,\"interference\":0,\"total\":1},\"assists\":{\"outfield\":0,\"total\":11},\"games\":{\"start\":14,\"play\":14,\"finish\":0,\"complete\":0}},\"positions\":[{\"po\":95,\"a\":11,\"dp\":8,\"tp\":0,\"error\":1,\"tc\":107,\"fpct\":0.991,\"c_wp\":0,\"pb\":0,\"rf\":7.571,\"inn_1\":366,\"inn_2\":122.0,\"position\":\"1B\",\"steal\":{\"caught\":0,\"stolen\":0,\"pickoff\":0,\"pct\":0},\"errors\":{\"throwing\":0,\"fielding\":1,\"interference\":0,\"total\":1},\"assists\":{\"outfield\":0,\"total\":11},\"games\":{\"start\":14,\"play\":14,\"finish\":0,\"complete\":0}}]}}},{\"preferred_name\":\"Ketel\",\"first_name\":\"Ketel\",\"last_name\":\"Marte\",\"jersey_number\":\"4\",\"id\":\"04b68b54-6217-4436-b3e8-bed6d3bd4942\",\"full_name\":\"Ketel Marte\",\"position\":\"IF\",\"primary_position\":\"2B\",\"statistics\":{\"hitting\":{\"overall\":{\"ab\":109,\"lob\":50,\"rbi\":13,\"abhr\":13.625,\"abk\":6.813,\"bip\":85,\"babip\":0.271,\"bbk\":1.125,\"bbpa\":0.138,\"iso\":0.276,\"obp\":0.4,\"ops\":0.96,\"seca\":0.45,\"slg\":0.56,\"xbh\":14,\"pitch_count\":502,\"lob_risp_2out\":17,\"team_lob\":30,\"ab_risp\":26,\"hit_risp\":3,\"rbi_2out\":2,\"linedrive\":17,\"groundball\":47,\"popup\":8,\"flyball\":21,\"ap\":130,\"avg\":\".284\",\"gofo\":2.09,\"woba\":0.409381,\"wraa\":9.83427,\"war\":1.32111,\"bwar\":9.38893,\"fwar\":-0.814339,\"brwar\":-0.26906,\"wgdp\":0.0,\"wrc\":24.7623,\"wrc_plus\":161.697,\"onbase\":{\"s\":17,\"d\":6,\"t\":0,\"hr\":8,\"tb\":61,\"bb\":15,\"ibb\":3,\"hbp\":3,\"fc\":3,\"roe\":0,\"h\":31,\"ci\":0,\"rov\":0,\"cycle\":0},\"runs\":{\"total\":24},\"outcome\":{\"klook\":85,\"kswing\":46,\"ktotal\":131,\"ball\":178,\"iball\":0,\"dirtball\":17,\"foul\":80},\"outs\":{\"po\":8,\"fo\":11,\"fidp\":0,\"lo\":3,\"lidp\":0,\"go\":46,\"gidp\":6,\"klook\":2,\"kswing\":14,\"ktotal\":16,\"sacfly\":0,\"sachit\":0},\"steal\":{\"caught\":1,\"stolen\":2,\"pct\":0.667,\"pickoff\":0},\"pitches\":{\"count\":502,\"btotal\":198,\"ktotal\":304},\"games\":{\"start\":28,\"play\":31,\"finish\":3,\"complete\":26}}},\"fielding\":{\"overall\":{\"po\":38,\"a\":69,\"dp\":14,\"tp\":0,\"error\":1,\"tc\":108,\"fpct\":0.991,\"c_wp\":0,\"pb\":0,\"rf\":3.821,\"inn_1\":644,\"inn_2\":214.2,\"steal\":{\"caught\":0,\"stolen\":0,\"pickoff\":0,\"pct\":0},\"errors\":{\"throwing\":0,\"fielding\":1,\"interference\":0,\"total\":1},\"assists\":{\"outfield\":0,\"total\":69},\"games\":{\"start\":25,\"play\":28,\"finish\":4,\"complete\":0}},\"positions\":[{\"po\":38,\"a\":69,\"dp\":14,\"tp\":0,\"error\":1,\"tc\":108,\"fpct\":0.991,\"c_wp\":0,\"pb\":0,\"rf\":3.821,\"inn_1\":644,\"inn_2\":214.2,\"position\":\"2B\",\"steal\":{\"caught\":0,\"stolen\":0,\"pickoff\":0,\"pct\":0},\"errors\":{\"throwing\":0,\"fielding\":1,\"interference\":0,\"total\":1},\"assists\":{\"outfield\":0,\"total\":69},\"games\":{\"start\":25,\"play\":28,\"finish\":4,\"complete\":0}}]}}},{\"preferred_name\":\"Lourdes\",\"first_name\":\"Lourdes\",\"last_name\":\"Gurriel\",\"jersey_number\":\"12\",\"id\":\"20e7bd6e-fb56-4e86-ad2d-b50bc5477371\",\"suffix\":\"Jr.\",\"full_name\":\"Lourdes Gurriel Jr.\",\"position\":\"OF\",\"primary_position\":\"LF\",\"statistics\":{\"hitting\":{\"overall\":{\"ab\":207,\"lob\":85,\"rbi\":32,\"abhr\":25.875,\"abk\":6.9,\"bip\":174,\"babip\":0.253,\"bbk\":0.4,\"bbpa\":0.053,\"iso\":0.184,\"obp\":0.292,\"ops\":0.727,\"seca\":0.256,\"slg\":0.435,\"xbh\":21,\"pitch_count\":815,\"lob_risp_2out\":19,\"team_lob\":36,\"ab_risp\":54,\"hit_risp\":12,\"rbi_2out\":9,\"linedrive\":44,\"groundball\":69,\"popup\":18,\"flyball\":51,\"ap\":226,\"avg\":\".251\",\"gofo\":0.59,\"woba\":0.313581,\"wraa\":-0.0841857,\"war\":0.46098,\"bwar\":-0.858389,\"fwar\":0.3074,\"brwar\":-0.189525,\"wgdp\":0.0,\"wrc\":25.8676,\"wrc_plus\":96.7553,\"onbase\":{\"s\":31,\"d\":12,\"t\":1,\"hr\":8,\"tb\":90,\"bb\":12,\"ibb\":0,\"hbp\":2,\"fc\":2,\"roe\":3,\"h\":52,\"ci\":0,\"rov\":0,\"cycle\":0},\"runs\":{\"total\":20},\"outcome\":{\"klook\":125,\"kswing\":81,\"ktotal\":206,\"ball\":250,\"iball\":0,\"dirtball\":15,\"foul\":160},\"outs\":{\"po\":18,\"fo\":42,\"fidp\":0,\"lo\":23,\"lidp\":0,\"go\":49,\"gidp\":2,\"klook\":6,\"kswing\":24,\"ktotal\":30,\"sacfly\":5,\"sachit\":0},\"steal\":{\"caught\":0,\"stolen\":3,\"pct\":1.0,\"pickoff\":0},\"pitches\":{\"count\":815,\"btotal\":267,\"ktotal\":548},\"games\":{\"start\":51,\"play\":53,\"finish\":2,\"complete\":48}}},\"fielding\":{\"overall\":{\"po\":89,\"a\":2,\"dp\":1,\"tp\":0,\"error\":1,\"tc\":92,\"fpct\":0.989,\"c_wp\":0,\"pb\":0,\"rf\":1.717,\"inn_1\":1364,\"inn_2\":454.2,\"steal\":{\"caught\":0,\"stolen\":0,\"pickoff\":0,\"pct\":0},\"errors\":{\"throwing\":1,\"fielding\":0,\"interference\":0,\"total\":1},\"assists\":{\"outfield\":2,\"total\":2},\"games\":{\"start\":51,\"play\":53,\"finish\":2,\"complete\":0}},\"positions\":[{\"po\":89,\"a\":2,\"dp\":1,\"tp\":0,\"error\":1,\"tc\":92,\"fpct\":0.989,\"c_wp\":0,\"pb\":0,\"rf\":1.717,\"inn_1\":1364,\"inn_2\":454.2,\"position\":\"LF\",\"steal\":{\"caught\":0,\"stolen\":0,\"pickoff\":0,\"pct\":0},\"errors\":{\"throwing\":1,\"fielding\":0,\"interference\":0,\"total\":1},\"assists\":{\"outfield\":2,\"total\":2},\"games\":{\"start\":51,\"play\":53,\"finish\":2,\"complete\":0}}]}}},{\"preferred_name\":\"José\",\"first_name\":\"José\",\"last_name\":\"Castillo\",\"jersey_number\":\"54\",\"id\":\"62faebde-c9b1-45f0-bd80-38a839599225\",\"full_name\":\"José Castillo\",\"position\":\"P\",\"primary_position\":\"RP\",\"statistics\":{\"pitching\":{\"overall\":{\"oba\":0.37,\"lob\":8,\"era\":11.368,\"k9\":4.266,\"whip\":2.0526,\"kbb\":1.0,\"pitch_count\":104,\"wp\":0,\"bk\":3,\"ip_1\":19,\"ip_2\":6.1,\"bf\":31,\"gofo\":1.5,\"babip\":0.318,\"bf_ip\":4.895,\"fip\":9.71091,\"xfip\":5.59106,\"war\":-0.356411,\"era_minus\":275.026,\"gbfb\":1.2,\"oab\":27,\"slg\":0.778,\"obp\":0.419,\"onbase\":{\"s\":5,\"d\":2,\"t\":0,\"hr\":3,\"tb\":21,\"bb\":3,\"ibb\":0,\"hbp\":0,\"fc\":0,\"roe\":0,\"h\":10,\"ci\":0,\"rov\":0,\"h9\":14.211,\"hr9\":4.266},\"runs\":{\"total\":8,\"unearned\":0,\"earned\":8,\"ir\":2,\"ira\":0,\"bqr\":2,\"bqra\":0},\"outcome\":{\"klook\":17,\"kswing\":6,\"ktotal\":23,\"ball\":35,\"iball\":0,\"dirtball\":2,\"foul\":19},\"outs\":{\"po\":0,\"fo\":5,\"fidp\":0,\"lo\":1,\"lidp\":0,\"go\":9,\"gidp\":1,\"klook\":0,\"kswing\":3,\"ktotal\":3,\"sacfly\":1,\"sachit\":0},\"steal\":{\"caught\":0,\"stolen\":2,\"pickoff\":0},\"pitches\":{\"count\":104,\"btotal\":37,\"ktotal\":67,\"per_ip\":16.421,\"per_bf\":3.355},\"in_play\":{\"linedrive\":3,\"groundball\":12,\"popup\":0,\"flyball\":10},\"games\":{\"start\":0,\"play\":5,\"finish\":2,\"svo\":1,\"qstart\":0,\"shutout\":0,\"complete\":0,\"win\":0,\"loss\":1,\"save\":0,\"hold\":0,\"blown_save\":1,\"team_win\":0,\"team_loss\":0}},\"bullpen\":{\"oba\":0.37,\"lob\":8,\"era\":11.368,\"k9\":4.266,\"whip\":2.0526,\"kbb\":1.0,\"pitch_count\":104,\"wp\":0,\"bk\":3,\"ip_1\":19,\"ip_2\":6.1,\"bf\":31,\"gofo\":1.5,\"babip\":0.318,\"bf_ip\":4.895,\"gbfb\":1.2,\"oab\":27,\"slg\":0.778,\"obp\":0.419,\"onbase\":{\"s\":5,\"d\":2,\"t\":0,\"hr\":3,\"tb\":21,\"bb\":3,\"ibb\":0,\"hbp\":0,\"fc\":0,\"roe\":0,\"h\":10,\"ci\":0,\"rov\":0,\"h9\":14.211,\"hr9\":4.266},\"runs\":{\"total\":8,\"unearned\":0,\"earned\":8,\"ir\":2,\"ira\":0,\"bqr\":2,\"bqra\":0},\"outcome\":{\"klook\":17,\"kswing\":6,\"ktotal\":23,\"ball\":35,\"iball\":0,\"dirtball\":2,\"foul\":19},\"outs\":{\"po\":0,\"fo\":5,\"fidp\":0,\"lo\":1,\"lidp\":0,\"go\":9,\"gidp\":1,\"klook\":0,\"kswing\":3,\"ktotal\":3,\"sacfly\":1,\"sachit\":0},\"steal\":{\"caught\":0,\"stolen\":2,\"pickoff\":0},\"pitches\":{\"count\":104,\"btotal\":37,\"ktotal\":67,\"per_ip\":16.421,\"per_bf\":3.355},\"in_play\":{\"linedrive\":3,\"groundball\":12,\"popup\":0,\"flyball\":10},\"games\":{\"start\":0,\"play\":5,\"finish\":2,\"svo\":1,\"qstart\":0,\"shutout\":0,\"complete\":0,\"win\":0,\"loss\":1,\"save\":0,\"hold\":0,\"blown_save\":1,\"team_win\":0,\"team_loss\":0}}},\"fielding\":{\"overall\":{\"po\":1,\"a\":1,\"dp\":0,\"tp\":0,\"error\":0,\"tc\":2,\"fpct\":1.0,\"c_wp\":0,\"pb\":0,\"rf\":0.4,\"inn_1\":19,\"inn_2\":6.1,\"steal\":{\"caught\":0,\"stolen\":0,\"pickoff\":0,\"pct\":0},\"errors\":{\"throwing\":0,\"fielding\":0,\"interference\":0,\"total\":0},\"assists\":{\"outfield\":0,\"total\":1},\"games\":{\"start\":0,\"play\":5,\"finish\":2,\"complete\":0}},\"positions\":[{\"po\":1,\"a\":1,\"dp\":0,\"tp\":0,\"error\":0,\"tc\":2,\"fpct\":1.0,\"c_wp\":0,\"pb\":0,\"rf\":0.4,\"inn_1\":19,\"inn_2\":6.1,\"position\":\"P\",\"steal\":{\"caught\":0,\"stolen\":0,\"pickoff\":0,\"pct\":0},\"errors\":{\"throwing\":0,\"fielding\":0,\"interference\":0,\"total\":0},\"assists\":{\"outfield\":0,\"total\":1},\"games\":{\"start\":0,\"play\":5,\"finish\":2,\"complete\":0}}]}}},{\"preferred_name\":\"Jalen\",\"first_name\":\"Jalen\",\"last_name\":\"Beeks\",\"jersey_number\":\"68\",\"id\":\"4c8f7362-8eb9-4b8f-b7d7-1f414a8a81ce\",\"full_name\":\"Jalen Beeks\",\"position\":\"P\",\"primary_position\":\"RP\",\"statistics\":{\"pitching\":{\"overall\":{\"oba\":0.21,\"lob\":51,\"era\":3.494,\"k9\":7.938,\"whip\":1.1294,\"kbb\":2.5,\"pitch_count\":468,\"wp\":0,\"bk\":0,\"ip_1\":85,\"ip_2\":28.1,\"bf\":117,\"gofo\":1.682,\"babip\":0.244,\"bf_ip\":4.129,\"fip\":3.8558,\"xfip\":3.69416,\"war\":0.081729,\"era_minus\":84.5298,\"gbfb\":3.286,\"oab\":105,\"slg\":0.352,\"obp\":0.282,\"onbase\":{\"s\":13,\"d\":6,\"t\":0,\"hr\":3,\"tb\":37,\"bb\":9,\"ibb\":1,\"hbp\":1,\"fc\":1,\"roe\":1,\"h\":22,\"ci\":0,\"rov\":0,\"h9\":6.984,\"hr9\":0.954},\"runs\":{\"total\":13,\"unearned\":2,\"earned\":11,\"ir\":11,\"ira\":4,\"bqr\":11,\"bqra\":0},\"outcome\":{\"klook\":41,\"kswing\":76,\"ktotal\":117,\"ball\":156,\"iball\":0,\"dirtball\":21,\"foul\":92},\"outs\":{\"po\":6,\"fo\":10,\"fidp\":0,\"lo\":6,\"lidp\":0,\"go\":37,\"gidp\":2,\"klook\":2,\"kswing\":23,\"ktotal\":25,\"sacfly\":1,\"sachit\":0},\"steal\":{\"caught\":0,\"stolen\":3,\"pickoff\":0},\"pitches\":{\"count\":468,\"btotal\":178,\"ktotal\":290,\"per_ip\":16.518,\"per_bf\":4.0},\"in_play\":{\"linedrive\":15,\"groundball\":46,\"popup\":6,\"flyball\":14},\"games\":{\"start\":0,\"play\":27,\"finish\":4,\"svo\":2,\"qstart\":0,\"shutout\":0,\"complete\":0,\"win\":1,\"loss\":0,\"save\":1,\"hold\":7,\"blown_save\":1,\"team_win\":0,\"team_loss\":0}},\"bullpen\":{\"oba\":0.21,\"lob\":51,\"era\":3.494,\"k9\":7.938,\"whip\":1.1294,\"kbb\":2.5,\"pitch_count\":468,\"wp\":0,\"bk\":0,\"ip_1\":85,\"ip_2\":28.1,\"bf\":117,\"gofo\":1.682,\"babip\":0.244,\"bf_ip\":4.129,\"gbfb\":3.286,\"oab\":105,\"slg\":0.352,\"obp\":0.282,\"onbase\":{\"s\":13,\"d\":6,\"t\":0,\"hr\":3,\"tb\":37,\"bb\":9,\"ibb\":1,\"hbp\":1,\"fc\":1,\"roe\":1,\"h\":22,\"ci\":0,\"rov\":0,\"h9\":6.984,\"hr9\":0.954},\"runs\":{\"total\":13,\"unearned\":2,\"earned\":11,\"ir\":11,\"ira\":4,\"bqr\":11,\"bqra\":0},\"outcome\":{\"klook\":41,\"kswing\":76,\"ktotal\":117,\"ball\":156,\"iball\":0,\"dirtball\":21,\"foul\":92},\"outs\":{\"po\":6,\"fo\":10,\"fidp\":0,\"lo\":6,\"lidp\":0,\"go\":37,\"gidp\":2,\"klook\":2,\"kswing\":23,\"ktotal\":25,\"sacfly\":1,\"sachit\":0},\"steal\":{\"caught\":0,\"stolen\":3,\"pickoff\":0},\"pitches\":{\"count\":468,\"btotal\":178,\"ktotal\":290,\"per_ip\":16.518,\"per_bf\":4.0},\"in_play\":{\"linedrive\":15,\"groundball\":46,\"popup\":6,\"flyball\":14},\"games\":{\"start\":0,\"play\":27,\"finish\":4,\"svo\":2,\"qstart\":0,\"shutout\":0,\"complete\":0,\"win\":1,\"loss\":0,\"save\":1,\"hold\":7,\"blown_save\":1,\"team_win\":0,\"team_loss\":0}}},\"fielding\":{\"overall\":{\"po\":1,\"a\":7,\"dp\":0,\"tp\":0,\"error\":0,\"tc\":8,\"fpct\":1.0,\"c_wp\":0,\"pb\":0,\"rf\":0.296,\"inn_1\":85,\"inn_2\":28.1,\"steal\":{\"caught\":0,\"stolen\":0,\"pickoff\":0,\"pct\":0},\"errors\":{\"throwing\":0,\"fielding\":0,\"interference\":0,\"total\":0},\"assists\":{\"outfield\":0,\"total\":7},\"games\":{\"start\":0,\"play\":27,\"finish\":4,\"complete\":0}},\"positions\":[{\"po\":1,\"a\":7,\"dp\":0,\"tp\":0,\"error\":0,\"tc\":8,\"fpct\":1.0,\"c_wp\":0,\"pb\":0,\"rf\":0.296,\"inn_1\":85,\"inn_2\":28.1,\"position\":\"P\",\"steal\":{\"caught\":0,\"stolen\":0,\"pickoff\":0,\"pct\":0},\"errors\":{\"throwing\":0,\"fielding\":0,\"interference\":0,\"total\":0},\"assists\":{\"outfield\":0,\"total\":7},\"games\":{\"start\":0,\"play\":27,\"finish\":4,\"complete\":0}}]}}},{\"preferred_name\":\"Tommy\",\"first_name\":\"Thomas\",\"last_name\":\"Henry\",\"jersey_number\":\"47\",\"id\":\"7a0da377-a34c-42ba-ac84-5815ad1c0aae\",\"full_name\":\"Tommy Henry\",\"position\":\"P\",\"primary_position\":\"SP\",\"statistics\":{\"pitching\":{\"overall\":{\"oba\":0.143,\"lob\":4,\"era\":0.0,\"k9\":3.375,\"whip\":0.375,\"kbb\":0.0,\"pitch_count\":36,\"wp\":0,\"bk\":0,\"ip_1\":8,\"ip_2\":2.2,\"bf\":9,\"gofo\":5.0,\"babip\":0.167,\"bf_ip\":3.375,\"fip\":3.45433,\"xfip\":3.45433,\"war\":0.0053439,\"era_minus\":0.0,\"gbfb\":0,\"oab\":7,\"slg\":0.143,\"obp\":0.25,\"onbase\":{\"s\":1,\"d\":0,\"t\":0,\"hr\":0,\"tb\":1,\"bb\":0,\"ibb\":0,\"hbp\":1,\"fc\":0,\"roe\":0,\"h\":1,\"ci\":0,\"rov\":0,\"h9\":3.375,\"hr9\":0.0},\"runs\":{\"total\":0,\"unearned\":0,\"earned\":0,\"ir\":1,\"ira\":0,\"bqr\":1,\"bqra\":0},\"outcome\":{\"klook\":10,\"kswing\":4,\"ktotal\":14,\"ball\":11,\"iball\":0,\"dirtball\":1,\"foul\":2},\"outs\":{\"po\":0,\"fo\":0,\"fidp\":0,\"lo\":1,\"lidp\":0,\"go\":5,\"gidp\":1,\"klook\":0,\"kswing\":1,\"ktotal\":1,\"sacfly\":0,\"sachit\":1},\"steal\":{\"caught\":0,\"stolen\":0,\"pickoff\":0},\"pitches\":{\"count\":36,\"btotal\":13,\"ktotal\":23,\"per_ip\":13.5,\"per_bf\":4.0},\"in_play\":{\"linedrive\":2,\"groundball\":5,\"popup\":0,\"flyball\":0},\"games\":{\"start\":0,\"play\":1,\"finish\":1,\"svo\":0,\"qstart\":0,\"shutout\":0,\"complete\":0,\"win\":0,\"loss\":0,\"save\":0,\"hold\":0,\"blown_save\":0,\"team_win\":0,\"team_loss\":0}},\"bullpen\":{\"oba\":0.143,\"lob\":4,\"era\":0.0,\"k9\":3.375,\"whip\":0.375,\"kbb\":0.0,\"pitch_count\":36,\"wp\":0,\"bk\":0,\"ip_1\":8,\"ip_2\":2.2,\"bf\":9,\"gofo\":5.0,\"babip\":0.167,\"bf_ip\":3.375,\"gbfb\":0,\"oab\":7,\"slg\":0.143,\"obp\":0.25,\"onbase\":{\"s\":1,\"d\":0,\"t\":0,\"hr\":0,\"tb\":1,\"bb\":0,\"ibb\":0,\"hbp\":1,\"fc\":0,\"roe\":0,\"h\":1,\"ci\":0,\"rov\":0,\"h9\":3.375,\"hr9\":0.0},\"runs\":{\"total\":0,\"unearned\":0,\"earned\":0,\"ir\":1,\"ira\":0,\"bqr\":1,\"bqra\":0},\"outcome\":{\"klook\":10,\"kswing\":4,\"ktotal\":14,\"ball\":11,\"iball\":0,\"dirtball\":1,\"foul\":2},\"outs\":{\"po\":0,\"fo\":0,\"fidp\":0,\"lo\":1,\"lidp\":0,\"go\":5,\"gidp\":1,\"klook\":0,\"kswing\":1,\"ktotal\":1,\"sacfly\":0,\"sachit\":1},\"steal\":{\"caught\":0,\"stolen\":0,\"pickoff\":0},\"pitches\":{\"count\":36,\"btotal\":13,\"ktotal\":23,\"per_ip\":13.5,\"per_bf\":4.0},\"in_play\":{\"linedrive\":2,\"groundball\":5,\"popup\":0,\"flyball\":0},\"games\":{\"start\":0,\"play\":1,\"finish\":1,\"svo\":0,\"qstart\":0,\"shutout\":0,\"complete\":0,\"win\":0,\"loss\":0,\"save\":0,\"hold\":0,\"blown_save\":0,\"team_win\":0,\"team_loss\":0}}},\"fielding\":{\"overall\":{\"po\":0,\"a\":3,\"dp\":0,\"tp\":0,\"error\":0,\"tc\":3,\"fpct\":1.0,\"c_wp\":0,\"pb\":0,\"rf\":3.0,\"inn_1\":8,\"inn_2\":2.2,\"steal\":{\"caught\":0,\"stolen\":0,\"pickoff\":0,\"pct\":0},\"errors\":{\"throwing\":0,\"fielding\":0,\"interference\":0,\"total\":0},\"assists\":{\"outfield\":0,\"total\":3},\"games\":{\"start\":0,\"play\":1,\"finish\":1,\"complete\":0}},\"positions\":[{\"po\":0,\"a\":3,\"dp\":0,\"tp\":0,\"error\":0,\"tc\":3,\"fpct\":1.0,\"c_wp\":0,\"pb\":0,\"rf\":3.0,\"inn_1\":8,\"inn_2\":2.2,\"position\":\"P\",\"steal\":{\"caught\":0,\"stolen\":0,\"pickoff\":0,\"pct\":0},\"errors\":{\"throwing\":0,\"fielding\":0,\"interference\":0,\"total\":0},\"assists\":{\"outfield\":0,\"total\":3},\"games\":{\"start\":0,\"play\":1,\"finish\":1,\"complete\":0}}]}}},{\"preferred_name\":\"Corbin\",\"first_name\":\"Corbin\",\"last_name\":\"Burnes\",\"jersey_number\":\"39\",\"id\":\"3ce2509f-eec9-4d02-aa76-0dce03029347\",\"full_name\":\"Corbin Burnes\",\"position\":\"P\",\"primary_position\":\"SP\",\"statistics\":{\"pitching\":{\"overall\":{\"oba\":0.209,\"lob\":91,\"era\":2.715,\"k9\":8.595,\"whip\":1.1732,\"kbb\":2.28,\"pitch_count\":939,\"wp\":1,\"bk\":2,\"ip_1\":179,\"ip_2\":59.2,\"bf\":246,\"gofo\":1.32,\"babip\":0.25,\"bf_ip\":4.123,\"bf_start\":24.6,\"fip\":4.10168,\"xfip\":3.73028,\"war\":0.4184,\"era_minus\":65.6833,\"gbfb\":2.5,\"oab\":215,\"slg\":0.358,\"obp\":0.299,\"onbase\":{\"s\":27,\"d\":11,\"t\":0,\"hr\":7,\"tb\":77,\"bb\":24,\"ibb\":1,\"hbp\":3,\"fc\":7,\"roe\":1,\"h\":45,\"ci\":0,\"rov\":0,\"h9\":6.786,\"hr9\":1.053},\"runs\":{\"total\":22,\"unearned\":4,\"earned\":18,\"ir\":0,\"ira\":0,\"bqr\":0,\"bqra\":1},\"outcome\":{\"klook\":164,\"kswing\":110,\"ktotal\":274,\"ball\":313,\"iball\":0,\"dirtball\":26,\"foul\":162},\"outs\":{\"po\":8,\"fo\":22,\"fidp\":0,\"lo\":20,\"lidp\":0,\"go\":66,\"gidp\":5,\"klook\":11,\"kswing\":46,\"ktotal\":57,\"sacfly\":1,\"sachit\":2},\"steal\":{\"caught\":1,\"stolen\":2,\"pickoff\":0},\"pitches\":{\"count\":939,\"btotal\":342,\"ktotal\":597,\"per_ip\":15.737,\"per_bf\":3.817,\"per_start\":93.0},\"in_play\":{\"linedrive\":41,\"groundball\":80,\"popup\":8,\"flyball\":32},\"games\":{\"start\":10,\"play\":10,\"finish\":0,\"svo\":0,\"qstart\":7,\"shutout\":0,\"complete\":0,\"win\":3,\"loss\":2,\"save\":0,\"hold\":0,\"blown_save\":0,\"team_win\":5,\"team_loss\":5}},\"starters\":{\"oba\":0.209,\"lob\":91,\"era\":2.715,\"k9\":8.595,\"whip\":1.1732,\"kbb\":2.28,\"pitch_count\":939,\"wp\":1,\"bk\":2,\"ip_1\":179,\"ip_2\":59.2,\"bf\":246,\"gofo\":1.32,\"babip\":0.25,\"bf_ip\":4.123,\"bf_start\":24.6,\"gbfb\":2.5,\"oab\":215,\"slg\":0.358,\"obp\":0.299,\"onbase\":{\"s\":27,\"d\":11,\"t\":0,\"hr\":7,\"tb\":77,\"bb\":24,\"ibb\":1,\"hbp\":3,\"fc\":7,\"roe\":1,\"h\":45,\"ci\":0,\"rov\":0,\"h9\":6.786,\"hr9\":1.053},\"runs\":{\"total\":22,\"unearned\":4,\"earned\":18,\"ir\":0,\"ira\":0,\"bqr\":0,\"bqra\":1},\"outcome\":{\"klook\":164,\"kswing\":110,\"ktotal\":274,\"ball\":313,\"iball\":0,\"dirtball\":26,\"foul\":162},\"outs\":{\"po\":8,\"fo\":22,\"fidp\":0,\"lo\":20,\"lidp\":0,\"go\":66,\"gidp\":5,\"klook\":11,\"kswing\":46,\"ktotal\":57,\"sacfly\":1,\"sachit\":2},\"steal\":{\"caught\":1,\"stolen\":2,\"pickoff\":0},\"pitches\":{\"count\":939,\"btotal\":342,\"ktotal\":597,\"per_ip\":15.737,\"per_bf\":3.817,\"per_start\":93.0},\"in_play\":{\"linedrive\":41,\"groundball\":80,\"popup\":8,\"flyball\":32},\"games\":{\"start\":10,\"play\":10,\"finish\":0,\"svo\":0,\"qstart\":7,\"shutout\":0,\"complete\":0,\"win\":3,\"loss\":2,\"save\":0,\"hold\":0,\"blown_save\":0,\"team_win\":5,\"team_loss\":5}}},\"fielding\":{\"overall\":{\"po\":7,\"a\":4,\"dp\":0,\"tp\":0,\"error\":1,\"tc\":12,\"fpct\":0.917,\"c_wp\":0,\"pb\":0,\"rf\":1.1,\"inn_1\":179,\"inn_2\":59.2,\"steal\":{\"caught\":0,\"stolen\":0,\"pickoff\":0,\"pct\":0},\"errors\":{\"throwing\":0,\"fielding\":1,\"interference\":0,\"total\":1},\"assists\":{\"outfield\":0,\"total\":4},\"games\":{\"start\":10,\"play\":10,\"finish\":0,\"complete\":0}},\"positions\":[{\"po\":7,\"a\":4,\"dp\":0,\"tp\":0,\"error\":1,\"tc\":12,\"fpct\":0.917,\"c_wp\":0,\"pb\":0,\"rf\":1.1,\"inn_1\":179,\"inn_2\":59.2,\"position\":\"P\",\"steal\":{\"caught\":0,\"stolen\":0,\"pickoff\":0,\"pct\":0},\"errors\":{\"throwing\":0,\"fielding\":1,\"interference\":0,\"total\":1},\"assists\":{\"outfield\":0,\"total\":4},\"games\":{\"start\":10,\"play\":10,\"finish\":0,\"complete\":0}}]}}},{\"preferred_name\":\"Bryce\",\"first_name\":\"Bryce\",\"last_name\":\"Jarvis\",\"jersey_number\":\"40\",\"id\":\"965b3981-3ecf-402e-a338-6dde330b445c\",\"full_name\":\"Bryce Jarvis\",\"position\":\"P\",\"primary_position\":\"RP\",\"statistics\":{\"pitching\":{\"overall\":{\"oba\":0.259,\"lob\":11,\"era\":7.364,\"k9\":11.043,\"whip\":1.3636,\"kbb\":3.0,\"pitch_count\":125,\"wp\":0,\"bk\":0,\"ip_1\":22,\"ip_2\":7.1,\"bf\":32,\"gofo\":1.4,\"babip\":0.333,\"bf_ip\":4.364,\"fip\":4.03388,\"xfip\":3.43456,\"war\":-0.0175789,\"era_minus\":178.142,\"gbfb\":2.0,\"oab\":27,\"slg\":0.444,\"obp\":0.344,\"onbase\":{\"s\":4,\"d\":2,\"t\":0,\"hr\":1,\"tb\":12,\"bb\":3,\"ibb\":0,\"hbp\":1,\"fc\":2,\"roe\":0,\"h\":7,\"ci\":0,\"rov\":0,\"h9\":8.595,\"hr9\":1.224},\"runs\":{\"total\":6,\"unearned\":0,\"earned\":6,\"ir\":1,\"ira\":0,\"bqr\":1,\"bqra\":0},\"outcome\":{\"klook\":22,\"kswing\":12,\"ktotal\":34,\"ball\":44,\"iball\":0,\"dirtball\":4,\"foul\":23},\"outs\":{\"po\":0,\"fo\":4,\"fidp\":0,\"lo\":1,\"lidp\":0,\"go\":7,\"gidp\":0,\"klook\":1,\"kswing\":8,\"ktotal\":9,\"sacfly\":1,\"sachit\":0},\"steal\":{\"caught\":1,\"stolen\":0,\"pickoff\":0},\"pitches\":{\"count\":125,\"btotal\":49,\"ktotal\":76,\"per_ip\":17.045,\"per_bf\":3.906},\"in_play\":{\"linedrive\":4,\"groundball\":10,\"popup\":0,\"flyball\":5},\"games\":{\"start\":0,\"play\":6,\"finish\":3,\"svo\":0,\"qstart\":0,\"shutout\":0,\"complete\":0,\"win\":0,\"loss\":0,\"save\":0,\"hold\":0,\"blown_save\":0,\"team_win\":0,\"team_loss\":0}},\"bullpen\":{\"oba\":0.259,\"lob\":11,\"era\":7.364,\"k9\":11.043,\"whip\":1.3636,\"kbb\":3.0,\"pitch_count\":125,\"wp\":0,\"bk\":0,\"ip_1\":22,\"ip_2\":7.1,\"bf\":32,\"gofo\":1.4,\"babip\":0.333,\"bf_ip\":4.364,\"gbfb\":2.0,\"oab\":27,\"slg\":0.444,\"obp\":0.344,\"onbase\":{\"s\":4,\"d\":2,\"t\":0,\"hr\":1,\"tb\":12,\"bb\":3,\"ibb\":0,\"hbp\":1,\"fc\":2,\"roe\":0,\"h\":7,\"ci\":0,\"rov\":0,\"h9\":8.595,\"hr9\":1.224},\"runs\":{\"total\":6,\"unearned\":0,\"earned\":6,\"ir\":1,\"ira\":0,\"bqr\":1,\"bqra\":0},\"outcome\":{\"klook\":22,\"kswing\":12,\"ktotal\":34,\"ball\":44,\"iball\":0,\"dirtball\":4,\"foul\":23},\"outs\":{\"po\":0,\"fo\":4,\"fidp\":0,\"lo\":1,\"lidp\":0,\"go\":7,\"gidp\":0,\"klook\":1,\"kswing\":8,\"ktotal\":9,\"sacfly\":1,\"sachit\":0},\"steal\":{\"caught\":1,\"stolen\":0,\"pickoff\":0},\"pitches\":{\"count\":125,\"btotal\":49,\"ktotal\":76,\"per_ip\":17.045,\"per_bf\":3.906},\"in_play\":{\"linedrive\":4,\"groundball\":10,\"popup\":0,\"flyball\":5},\"games\":{\"start\":0,\"play\":6,\"finish\":3,\"svo\":0,\"qstart\":0,\"shutout\":0,\"complete\":0,\"win\":0,\"loss\":0,\"save\":0,\"hold\":0,\"blown_save\":0,\"team_win\":0,\"team_loss\":0}}},\"fielding\":{\"overall\":{\"po\":1,\"a\":1,\"dp\":0,\"tp\":0,\"error\":0,\"tc\":2,\"fpct\":1.0,\"c_wp\":0,\"pb\":0,\"rf\":0.333,\"inn_1\":22,\"inn_2\":7.1,\"steal\":{\"caught\":0,\"stolen\":0,\"pickoff\":0,\"pct\":0},\"errors\":{\"throwing\":0,\"fielding\":0,\"interference\":0,\"total\":0},\"assists\":{\"outfield\":0,\"total\":1},\"games\":{\"start\":0,\"play\":6,\"finish\":3,\"complete\":0}},\"positions\":[{\"po\":1,\"a\":1,\"dp\":0,\"tp\":0,\"error\":0,\"tc\":2,\"fpct\":1.0,\"c_wp\":0,\"pb\":0,\"rf\":0.333,\"inn_1\":22,\"inn_2\":7.1,\"position\":\"P\",\"steal\":{\"caught\":0,\"stolen\":0,\"pickoff\":0,\"pct\":0},\"errors\":{\"throwing\":0,\"fielding\":0,\"interference\":0,\"total\":0},\"assists\":{\"outfield\":0,\"total\":1},\"games\":{\"start\":0,\"play\":6,\"finish\":3,\"complete\":0}}]}}},{\"preferred_name\":\"Scott\",\"first_name\":\"Scott\",\"last_name\":\"McGough\",\"jersey_number\":\"30\",\"id\":\"712e68e8-096a-48e0-9079-b52c02661829\",\"full_name\":\"Scott McGough\",\"position\":\"P\",\"primary_position\":\"RP\",\"statistics\":{\"pitching\":{\"overall\":{\"oba\":0.136,\"lob\":5,\"era\":3.0,\"k9\":6.003,\"whip\":1.0,\"kbb\":1.33,\"pitch_count\":97,\"wp\":0,\"bk\":0,\"ip_1\":18,\"ip_2\":6.0,\"bf\":25,\"gofo\":0.25,\"babip\":0.118,\"bf_ip\":4.167,\"fip\":5.41266,\"xfip\":6.35336,\"war\":-0.054058,\"era_minus\":72.576,\"gbfb\":0.364,\"oab\":22,\"slg\":0.318,\"obp\":0.24,\"onbase\":{\"s\":1,\"d\":1,\"t\":0,\"hr\":1,\"tb\":7,\"bb\":3,\"ibb\":0,\"hbp\":0,\"fc\":0,\"roe\":1,\"h\":3,\"ci\":0,\"rov\":0,\"h9\":4.5,\"hr9\":1.503},\"runs\":{\"total\":2,\"unearned\":0,\"earned\":2,\"ir\":0,\"ira\":0,\"bqr\":0,\"bqra\":0},\"outcome\":{\"klook\":12,\"kswing\":11,\"ktotal\":23,\"ball\":39,\"iball\":0,\"dirtball\":3,\"foul\":14},\"outs\":{\"po\":2,\"fo\":9,\"fidp\":0,\"lo\":1,\"lidp\":0,\"go\":3,\"gidp\":0,\"klook\":1,\"kswing\":3,\"ktotal\":4,\"sacfly\":0,\"sachit\":0},\"steal\":{\"caught\":0,\"stolen\":0,\"pickoff\":0},\"pitches\":{\"count\":97,\"btotal\":42,\"ktotal\":55,\"per_ip\":16.167,\"per_bf\":3.88},\"in_play\":{\"linedrive\":1,\"groundball\":4,\"popup\":2,\"flyball\":11},\"games\":{\"start\":0,\"play\":6,\"finish\":2,\"svo\":0,\"qstart\":0,\"shutout\":0,\"complete\":0,\"win\":0,\"loss\":0,\"save\":0,\"hold\":0,\"blown_save\":0,\"team_win\":0,\"team_loss\":0}},\"bullpen\":{\"oba\":0.136,\"lob\":5,\"era\":3.0,\"k9\":6.003,\"whip\":1.0,\"kbb\":1.33,\"pitch_count\":97,\"wp\":0,\"bk\":0,\"ip_1\":18,\"ip_2\":6.0,\"bf\":25,\"gofo\":0.25,\"babip\":0.118,\"bf_ip\":4.167,\"gbfb\":0.364,\"oab\":22,\"slg\":0.318,\"obp\":0.24,\"onbase\":{\"s\":1,\"d\":1,\"t\":0,\"hr\":1,\"tb\":7,\"bb\":3,\"ibb\":0,\"hbp\":0,\"fc\":0,\"roe\":1,\"h\":3,\"ci\":0,\"rov\":0,\"h9\":4.5,\"hr9\":1.503},\"runs\":{\"total\":2,\"unearned\":0,\"earned\":2,\"ir\":0,\"ira\":0,\"bqr\":0,\"bqra\":0},\"outcome\":{\"klook\":12,\"kswing\":11,\"ktotal\":23,\"ball\":39,\"iball\":0,\"dirtball\":3,\"foul\":14},\"outs\":{\"po\":2,\"fo\":9,\"fidp\":0,\"lo\":1,\"lidp\":0,\"go\":3,\"gidp\":0,\"klook\":1,\"kswing\":3,\"ktotal\":4,\"sacfly\":0,\"sachit\":0},\"steal\":{\"caught\":0,\"stolen\":0,\"pickoff\":0},\"pitches\":{\"count\":97,\"btotal\":42,\"ktotal\":55,\"per_ip\":16.167,\"per_bf\":3.88},\"in_play\":{\"linedrive\":1,\"groundball\":4,\"popup\":2,\"flyball\":11},\"games\":{\"start\":0,\"play\":6,\"finish\":2,\"svo\":0,\"qstart\":0,\"shutout\":0,\"complete\":0,\"win\":0,\"loss\":0,\"save\":0,\"hold\":0,\"blown_save\":0,\"team_win\":0,\"team_loss\":0}}},\"fielding\":{\"overall\":{\"po\":0,\"a\":0,\"dp\":0,\"tp\":0,\"error\":0,\"tc\":0,\"fpct\":0.0,\"c_wp\":0,\"pb\":0,\"rf\":0.0,\"inn_1\":18,\"inn_2\":6.0,\"steal\":{\"caught\":0,\"stolen\":0,\"pickoff\":0,\"pct\":0},\"errors\":{\"throwing\":0,\"fielding\":0,\"interference\":0,\"total\":0},\"assists\":{\"outfield\":0,\"total\":0},\"games\":{\"start\":0,\"play\":6,\"finish\":2,\"complete\":0}},\"positions\":[{\"po\":0,\"a\":0,\"dp\":0,\"tp\":0,\"error\":0,\"tc\":0,\"fpct\":0.0,\"c_wp\":0,\"pb\":0,\"rf\":0.0,\"inn_1\":18,\"inn_2\":6.0,\"position\":\"P\",\"steal\":{\"caught\":0,\"stolen\":0,\"pickoff\":0,\"pct\":0},\"errors\":{\"throwing\":0,\"fielding\":0,\"interference\":0,\"total\":0},\"assists\":{\"outfield\":0,\"total\":0},\"games\":{\"start\":0,\"play\":6,\"finish\":2,\"complete\":0}}]}}},{\"preferred_name\":\"Zac\",\"first_name\":\"Zachary\",\"last_name\":\"Gallen\",\"jersey_number\":\"23\",\"id\":\"e488a3a6-4673-4e5d-befe-6d5ab57b0b8e\",\"full_name\":\"Zac Gallen\",\"position\":\"P\",\"primary_position\":\"SP\",\"statistics\":{\"pitching\":{\"overall\":{\"oba\":0.238,\"lob\":96,\"era\":5.535,\"k9\":8.91,\"whip\":1.395,\"kbb\":2.06,\"pitch_count\":1145,\"wp\":1,\"bk\":0,\"ip_1\":200,\"ip_2\":66.2,\"bf\":292,\"gofo\":0.819,\"babip\":0.282,\"bf_ip\":4.38,\"bf_start\":24.333,\"fip\":4.57933,\"xfip\":4.30731,\"war\":0.126448,\"era_minus\":133.903,\"gbfb\":1.219,\"oab\":256,\"slg\":0.418,\"obp\":0.326,\"onbase\":{\"s\":38,\"d\":10,\"t\":3,\"hr\":10,\"tb\":107,\"bb\":31,\"ibb\":1,\"hbp\":2,\"fc\":7,\"roe\":2,\"h\":61,\"ci\":0,\"rov\":0,\"h9\":8.235,\"hr9\":1.35},\"runs\":{\"total\":42,\"unearned\":1,\"earned\":41,\"ir\":0,\"ira\":0,\"bqr\":0,\"bqra\":3},\"outcome\":{\"klook\":198,\"kswing\":129,\"ktotal\":327,\"ball\":425,\"iball\":0,\"dirtball\":26,\"foul\":173},\"outs\":{\"po\":7,\"fo\":50,\"fidp\":0,\"lo\":15,\"lidp\":0,\"go\":59,\"gidp\":5,\"klook\":22,\"kswing\":44,\"ktotal\":66,\"sacfly\":1,\"sachit\":1},\"steal\":{\"caught\":1,\"stolen\":5,\"pickoff\":0},\"pitches\":{\"count\":1145,\"btotal\":453,\"ktotal\":692,\"per_ip\":17.175,\"per_bf\":3.921,\"per_start\":95.0},\"in_play\":{\"linedrive\":43,\"groundball\":78,\"popup\":7,\"flyball\":64},\"games\":{\"start\":12,\"play\":12,\"finish\":0,\"svo\":0,\"qstart\":4,\"shutout\":0,\"complete\":0,\"win\":3,\"loss\":7,\"save\":0,\"hold\":0,\"blown_save\":0,\"team_win\":4,\"team_loss\":8}},\"starters\":{\"oba\":0.238,\"lob\":96,\"era\":5.535,\"k9\":8.91,\"whip\":1.395,\"kbb\":2.06,\"pitch_count\":1145,\"wp\":1,\"bk\":0,\"ip_1\":200,\"ip_2\":66.2,\"bf\":292,\"gofo\":0.819,\"babip\":0.282,\"bf_ip\":4.38,\"bf_start\":24.333,\"gbfb\":1.219,\"oab\":256,\"slg\":0.418,\"obp\":0.326,\"onbase\":{\"s\":38,\"d\":10,\"t\":3,\"hr\":10,\"tb\":107,\"bb\":31,\"ibb\":1,\"hbp\":2,\"fc\":7,\"roe\":2,\"h\":61,\"ci\":0,\"rov\":0,\"h9\":8.235,\"hr9\":1.35},\"runs\":{\"total\":42,\"unearned\":1,\"earned\":41,\"ir\":0,\"ira\":0,\"bqr\":0,\"bqra\":3},\"outcome\":{\"klook\":198,\"kswing\":129,\"ktotal\":327,\"ball\":425,\"iball\":0,\"dirtball\":26,\"foul\":173},\"outs\":{\"po\":7,\"fo\":50,\"fidp\":0,\"lo\":15,\"lidp\":0,\"go\":59,\"gidp\":5,\"klook\":22,\"kswing\":44,\"ktotal\":66,\"sacfly\":1,\"sachit\":1},\"steal\":{\"caught\":1,\"stolen\":5,\"pickoff\":0},\"pitches\":{\"count\":1145,\"btotal\":453,\"ktotal\":692,\"per_ip\":17.175,\"per_bf\":3.921,\"per_start\":95.0},\"in_play\":{\"linedrive\":43,\"groundball\":78,\"popup\":7,\"flyball\":64},\"games\":{\"start\":12,\"play\":12,\"finish\":0,\"svo\":0,\"qstart\":4,\"shutout\":0,\"complete\":0,\"win\":3,\"loss\":7,\"save\":0,\"hold\":0,\"blown_save\":0,\"team_win\":4,\"team_loss\":8}}},\"fielding\":{\"overall\":{\"po\":8,\"a\":2,\"dp\":1,\"tp\":0,\"error\":0,\"tc\":10,\"fpct\":1.0,\"c_wp\":0,\"pb\":0,\"rf\":0.833,\"inn_1\":200,\"inn_2\":66.2,\"steal\":{\"caught\":0,\"stolen\":0,\"pickoff\":0,\"pct\":0},\"errors\":{\"throwing\":0,\"fielding\":0,\"interference\":0,\"total\":0},\"assists\":{\"outfield\":0,\"total\":2},\"games\":{\"start\":12,\"play\":12,\"finish\":0,\"complete\":0}},\"positions\":[{\"po\":8,\"a\":2,\"dp\":1,\"tp\":0,\"error\":0,\"tc\":10,\"fpct\":1.0,\"c_wp\":0,\"pb\":0,\"rf\":0.833,\"inn_1\":200,\"inn_2\":66.2,\"position\":\"P\",\"steal\":{\"caught\":0,\"stolen\":0,\"pickoff\":0,\"pct\":0},\"errors\":{\"throwing\":0,\"fielding\":0,\"interference\":0,\"total\":0},\"assists\":{\"outfield\":0,\"total\":2},\"games\":{\"start\":12,\"play\":12,\"finish\":0,\"complete\":0}}]}}},{\"preferred_name\":\"Brandon\",\"first_name\":\"Brandon\",\"last_name\":\"Pfaadt\",\"jersey_number\":\"32\",\"id\":\"5f6e12b8-1a4b-4b56-ab3b-1b349c0cd614\",\"full_name\":\"Brandon Pfaadt\",\"position\":\"P\",\"primary_position\":\"SP\",\"statistics\":{\"pitching\":{\"overall\":{\"oba\":0.253,\"lob\":90,\"era\":3.898,\"k9\":7.074,\"whip\":1.2193,\"kbb\":3.27,\"pitch_count\":1020,\"wp\":1,\"bk\":0,\"ip_1\":187,\"ip_2\":62.1,\"bf\":261,\"gofo\":0.808,\"babip\":0.271,\"bf_ip\":4.187,\"bf_start\":23.727,\"fip\":4.92425,\"xfip\":4.00913,\"war\":-0.156036,\"era_minus\":94.31,\"gbfb\":1.702,\"oab\":241,\"slg\":0.452,\"obp\":0.307,\"onbase\":{\"s\":37,\"d\":12,\"t\":0,\"hr\":12,\"tb\":109,\"bb\":14,\"ibb\":1,\"hbp\":4,\"fc\":6,\"roe\":2,\"h\":61,\"ci\":0,\"rov\":0,\"h9\":8.811,\"hr9\":1.737},\"runs\":{\"total\":29,\"unearned\":2,\"earned\":27,\"ir\":0,\"ira\":0,\"bqr\":0,\"bqra\":1},\"outcome\":{\"klook\":161,\"kswing\":110,\"ktotal\":271,\"ball\":352,\"iball\":0,\"dirtball\":12,\"foul\":188},\"outs\":{\"po\":7,\"fo\":34,\"fidp\":1,\"lo\":32,\"lidp\":0,\"go\":59,\"gidp\":4,\"klook\":16,\"kswing\":33,\"ktotal\":49,\"sacfly\":1,\"sachit\":0},\"steal\":{\"caught\":2,\"stolen\":3,\"pickoff\":0},\"pitches\":{\"count\":1020,\"btotal\":368,\"ktotal\":652,\"per_ip\":16.364,\"per_bf\":3.908,\"per_start\":92.0},\"in_play\":{\"linedrive\":59,\"groundball\":80,\"popup\":7,\"flyball\":47},\"games\":{\"start\":11,\"play\":11,\"finish\":0,\"svo\":0,\"qstart\":6,\"shutout\":0,\"complete\":0,\"win\":7,\"loss\":3,\"save\":0,\"hold\":0,\"blown_save\":0,\"team_win\":7,\"team_loss\":4}},\"starters\":{\"oba\":0.253,\"lob\":90,\"era\":3.898,\"k9\":7.074,\"whip\":1.2193,\"kbb\":3.27,\"pitch_count\":1020,\"wp\":1,\"bk\":0,\"ip_1\":187,\"ip_2\":62.1,\"bf\":261,\"gofo\":0.808,\"babip\":0.271,\"bf_ip\":4.187,\"bf_start\":23.727,\"gbfb\":1.702,\"oab\":241,\"slg\":0.452,\"obp\":0.307,\"onbase\":{\"s\":37,\"d\":12,\"t\":0,\"hr\":12,\"tb\":109,\"bb\":14,\"ibb\":1,\"hbp\":4,\"fc\":6,\"roe\":2,\"h\":61,\"ci\":0,\"rov\":0,\"h9\":8.811,\"hr9\":1.737},\"runs\":{\"total\":29,\"unearned\":2,\"earned\":27,\"ir\":0,\"ira\":0,\"bqr\":0,\"bqra\":1},\"outcome\":{\"klook\":161,\"kswing\":110,\"ktotal\":271,\"ball\":352,\"iball\":0,\"dirtball\":12,\"foul\":188},\"outs\":{\"po\":7,\"fo\":34,\"fidp\":1,\"lo\":32,\"lidp\":0,\"go\":59,\"gidp\":4,\"klook\":16,\"kswing\":33,\"ktotal\":49,\"sacfly\":1,\"sachit\":0},\"steal\":{\"caught\":2,\"stolen\":3,\"pickoff\":0},\"pitches\":{\"count\":1020,\"btotal\":368,\"ktotal\":652,\"per_ip\":16.364,\"per_bf\":3.908,\"per_start\":92.0},\"in_play\":{\"linedrive\":59,\"groundball\":80,\"popup\":7,\"flyball\":47},\"games\":{\"start\":11,\"play\":11,\"finish\":0,\"svo\":0,\"qstart\":6,\"shutout\":0,\"complete\":0,\"win\":7,\"loss\":3,\"save\":0,\"hold\":0,\"blown_save\":0,\"team_win\":7,\"team_loss\":4}}},\"fielding\":{\"overall\":{\"po\":3,\"a\":7,\"dp\":0,\"tp\":0,\"error\":2,\"tc\":12,\"fpct\":0.833,\"c_wp\":0,\"pb\":0,\"rf\":0.909,\"inn_1\":187,\"inn_2\":62.1,\"steal\":{\"caught\":0,\"stolen\":0,\"pickoff\":0,\"pct\":0},\"errors\":{\"throwing\":1,\"fielding\":1,\"interference\":0,\"total\":2},\"assists\":{\"outfield\":0,\"total\":7},\"games\":{\"start\":11,\"play\":11,\"finish\":0,\"complete\":0}},\"positions\":[{\"po\":3,\"a\":7,\"dp\":0,\"tp\":0,\"error\":2,\"tc\":12,\"fpct\":0.833,\"c_wp\":0,\"pb\":0,\"rf\":0.909,\"inn_1\":187,\"inn_2\":62.1,\"position\":\"P\",\"steal\":{\"caught\":0,\"stolen\":0,\"pickoff\":0,\"pct\":0},\"errors\":{\"throwing\":1,\"fielding\":1,\"interference\":0,\"total\":2},\"assists\":{\"outfield\":0,\"total\":7},\"games\":{\"start\":11,\"play\":11,\"finish\":0,\"complete\":0}}]}}},{\"preferred_name\":\"Merrill\",\"first_name\":\"Kenneth\",\"last_name\":\"Kelly\",\"jersey_number\":\"29\",\"id\":\"871f04aa-367c-48fb-8ae5-a5bd9e27cb8b\",\"full_name\":\"Merrill Kelly\",\"position\":\"P\",\"primary_position\":\"SP\",\"statistics\":{\"pitching\":{\"overall\":{\"oba\":0.212,\"lob\":82,\"era\":3.783,\"k9\":8.352,\"whip\":1.058,\"kbb\":3.56,\"pitch_count\":1081,\"wp\":0,\"bk\":0,\"ip_1\":207,\"ip_2\":69.0,\"bf\":279,\"gofo\":1.238,\"babip\":0.25,\"bf_ip\":4.043,\"bf_start\":23.25,\"fip\":3.55759,\"xfip\":3.48451,\"war\":1.09642,\"era_minus\":91.5089,\"gbfb\":1.918,\"oab\":260,\"slg\":0.373,\"obp\":0.265,\"onbase\":{\"s\":31,\"d\":14,\"t\":2,\"hr\":8,\"tb\":97,\"bb\":18,\"ibb\":0,\"hbp\":1,\"fc\":6,\"roe\":3,\"h\":55,\"ci\":0,\"rov\":0,\"h9\":7.173,\"hr9\":1.044},\"runs\":{\"total\":32,\"unearned\":3,\"earned\":29,\"ir\":0,\"ira\":0,\"bqr\":0,\"bqra\":2},\"outcome\":{\"klook\":188,\"kswing\":123,\"ktotal\":311,\"ball\":372,\"iball\":0,\"dirtball\":14,\"foul\":187},\"outs\":{\"po\":15,\"fo\":35,\"fidp\":0,\"lo\":13,\"lidp\":0,\"go\":78,\"gidp\":3,\"klook\":20,\"kswing\":44,\"ktotal\":64,\"sacfly\":0,\"sachit\":0},\"steal\":{\"caught\":0,\"stolen\":6,\"pickoff\":2},\"pitches\":{\"count\":1081,\"btotal\":387,\"ktotal\":694,\"per_ip\":15.667,\"per_bf\":3.875,\"per_start\":90.0},\"in_play\":{\"linedrive\":38,\"groundball\":94,\"popup\":15,\"flyball\":49},\"games\":{\"start\":12,\"play\":12,\"finish\":0,\"svo\":0,\"qstart\":6,\"shutout\":0,\"complete\":0,\"win\":5,\"loss\":2,\"save\":0,\"hold\":0,\"blown_save\":0,\"team_win\":6,\"team_loss\":6}},\"starters\":{\"oba\":0.212,\"lob\":82,\"era\":3.783,\"k9\":8.352,\"whip\":1.058,\"kbb\":3.56,\"pitch_count\":1081,\"wp\":0,\"bk\":0,\"ip_1\":207,\"ip_2\":69.0,\"bf\":279,\"gofo\":1.238,\"babip\":0.25,\"bf_ip\":4.043,\"bf_start\":23.25,\"gbfb\":1.918,\"oab\":260,\"slg\":0.373,\"obp\":0.265,\"onbase\":{\"s\":31,\"d\":14,\"t\":2,\"hr\":8,\"tb\":97,\"bb\":18,\"ibb\":0,\"hbp\":1,\"fc\":6,\"roe\":3,\"h\":55,\"ci\":0,\"rov\":0,\"h9\":7.173,\"hr9\":1.044},\"runs\":{\"total\":32,\"unearned\":3,\"earned\":29,\"ir\":0,\"ira\":0,\"bqr\":0,\"bqra\":2},\"outcome\":{\"klook\":188,\"kswing\":123,\"ktotal\":311,\"ball\":372,\"iball\":0,\"dirtball\":14,\"foul\":187},\"outs\":{\"po\":15,\"fo\":35,\"fidp\":0,\"lo\":13,\"lidp\":0,\"go\":78,\"gidp\":3,\"klook\":20,\"kswing\":44,\"ktotal\":64,\"sacfly\":0,\"sachit\":0},\"steal\":{\"caught\":0,\"stolen\":6,\"pickoff\":2},\"pitches\":{\"count\":1081,\"btotal\":387,\"ktotal\":694,\"per_ip\":15.667,\"per_bf\":3.875,\"per_start\":90.0},\"in_play\":{\"linedrive\":38,\"groundball\":94,\"popup\":15,\"flyball\":49},\"games\":{\"start\":12,\"play\":12,\"finish\":0,\"svo\":0,\"qstart\":6,\"shutout\":0,\"complete\":0,\"win\":5,\"loss\":2,\"save\":0,\"hold\":0,\"blown_save\":0,\"team_win\":6,\"team_loss\":6}}},\"fielding\":{\"overall\":{\"po\":6,\"a\":11,\"dp\":0,\"tp\":0,\"error\":0,\"tc\":17,\"fpct\":1.0,\"c_wp\":0,\"pb\":0,\"rf\":1.417,\"inn_1\":207,\"inn_2\":69.0,\"steal\":{\"caught\":0,\"stolen\":0,\"pickoff\":0,\"pct\":0},\"errors\":{\"throwing\":0,\"fielding\":0,\"interference\":0,\"total\":0},\"assists\":{\"outfield\":0,\"total\":11},\"games\":{\"start\":12,\"play\":12,\"finish\":0,\"complete\":0}},\"positions\":[{\"po\":6,\"a\":11,\"dp\":0,\"tp\":0,\"error\":0,\"tc\":17,\"fpct\":1.0,\"c_wp\":0,\"pb\":0,\"rf\":1.417,\"inn_1\":207,\"inn_2\":69.0,\"position\":\"P\",\"steal\":{\"caught\":0,\"stolen\":0,\"pickoff\":0,\"pct\":0},\"errors\":{\"throwing\":0,\"fielding\":0,\"interference\":0,\"total\":0},\"assists\":{\"outfield\":0,\"total\":11},\"games\":{\"start\":12,\"play\":12,\"finish\":0,\"complete\":0}}]}}},{\"preferred_name\":\"Juan\",\"first_name\":\"Juan\",\"last_name\":\"Morillo\",\"jersey_number\":\"67\",\"id\":\"1b799dfa-5365-44d1-9e3b-1bfeae99e047\",\"full_name\":\"Juan Morillo\",\"position\":\"P\",\"primary_position\":\"RP\",\"statistics\":{\"pitching\":{\"overall\":{\"oba\":0.283,\"lob\":32,\"era\":5.87,\"k9\":9.387,\"whip\":1.5652,\"kbb\":2.29,\"pitch_count\":269,\"wp\":1,\"bk\":0,\"ip_1\":46,\"ip_2\":15.1,\"bf\":68,\"gofo\":1.077,\"babip\":0.357,\"bf_ip\":4.435,\"fip\":4.25324,\"xfip\":3.96058,\"war\":-0.0406582,\"era_minus\":141.997,\"gbfb\":2.1,\"oab\":60,\"slg\":0.467,\"obp\":0.368,\"onbase\":{\"s\":11,\"d\":3,\"t\":1,\"hr\":2,\"tb\":28,\"bb\":7,\"ibb\":0,\"hbp\":1,\"fc\":0,\"roe\":1,\"h\":17,\"ci\":0,\"rov\":0,\"h9\":9.981,\"hr9\":1.17},\"runs\":{\"total\":12,\"unearned\":2,\"earned\":10,\"ir\":7,\"ira\":4,\"bqr\":7,\"bqra\":0},\"outcome\":{\"klook\":37,\"kswing\":33,\"ktotal\":70,\"ball\":91,\"iball\":0,\"dirtball\":4,\"foul\":59},\"outs\":{\"po\":4,\"fo\":6,\"fidp\":0,\"lo\":3,\"lidp\":1,\"go\":14,\"gidp\":2,\"klook\":1,\"kswing\":15,\"ktotal\":16,\"sacfly\":0,\"sachit\":0},\"steal\":{\"caught\":0,\"stolen\":1,\"pickoff\":0},\"pitches\":{\"count\":269,\"btotal\":96,\"ktotal\":173,\"per_ip\":17.543,\"per_bf\":3.956},\"in_play\":{\"linedrive\":9,\"groundball\":21,\"popup\":4,\"flyball\":10},\"games\":{\"start\":0,\"play\":16,\"finish\":2,\"svo\":0,\"qstart\":0,\"shutout\":0,\"complete\":0,\"win\":0,\"loss\":1,\"save\":0,\"hold\":1,\"blown_save\":0,\"team_win\":0,\"team_loss\":0}},\"bullpen\":{\"oba\":0.283,\"lob\":32,\"era\":5.87,\"k9\":9.387,\"whip\":1.5652,\"kbb\":2.29,\"pitch_count\":269,\"wp\":1,\"bk\":0,\"ip_1\":46,\"ip_2\":15.1,\"bf\":68,\"gofo\":1.077,\"babip\":0.357,\"bf_ip\":4.435,\"gbfb\":2.1,\"oab\":60,\"slg\":0.467,\"obp\":0.368,\"onbase\":{\"s\":11,\"d\":3,\"t\":1,\"hr\":2,\"tb\":28,\"bb\":7,\"ibb\":0,\"hbp\":1,\"fc\":0,\"roe\":1,\"h\":17,\"ci\":0,\"rov\":0,\"h9\":9.981,\"hr9\":1.17},\"runs\":{\"total\":12,\"unearned\":2,\"earned\":10,\"ir\":7,\"ira\":4,\"bqr\":7,\"bqra\":0},\"outcome\":{\"klook\":37,\"kswing\":33,\"ktotal\":70,\"ball\":91,\"iball\":0,\"dirtball\":4,\"foul\":59},\"outs\":{\"po\":4,\"fo\":6,\"fidp\":0,\"lo\":3,\"lidp\":1,\"go\":14,\"gidp\":2,\"klook\":1,\"kswing\":15,\"ktotal\":16,\"sacfly\":0,\"sachit\":0},\"steal\":{\"caught\":0,\"stolen\":1,\"pickoff\":0},\"pitches\":{\"count\":269,\"btotal\":96,\"ktotal\":173,\"per_ip\":17.543,\"per_bf\":3.956},\"in_play\":{\"linedrive\":9,\"groundball\":21,\"popup\":4,\"flyball\":10},\"games\":{\"start\":0,\"play\":16,\"finish\":2,\"svo\":0,\"qstart\":0,\"shutout\":0,\"complete\":0,\"win\":0,\"loss\":1,\"save\":0,\"hold\":1,\"blown_save\":0,\"team_win\":0,\"team_loss\":0}}},\"fielding\":{\"overall\":{\"po\":0,\"a\":1,\"dp\":0,\"tp\":0,\"error\":0,\"tc\":1,\"fpct\":1.0,\"c_wp\":0,\"pb\":0,\"rf\":0.063,\"inn_1\":46,\"inn_2\":15.1,\"steal\":{\"caught\":0,\"stolen\":0,\"pickoff\":0,\"pct\":0},\"errors\":{\"throwing\":0,\"fielding\":0,\"interference\":0,\"total\":0},\"assists\":{\"outfield\":0,\"total\":1},\"games\":{\"start\":0,\"play\":16,\"finish\":2,\"complete\":0}},\"positions\":[{\"po\":0,\"a\":1,\"dp\":0,\"tp\":0,\"error\":0,\"tc\":1,\"fpct\":1.0,\"c_wp\":0,\"pb\":0,\"rf\":0.063,\"inn_1\":46,\"inn_2\":15.1,\"position\":\"P\",\"steal\":{\"caught\":0,\"stolen\":0,\"pickoff\":0,\"pct\":0},\"errors\":{\"throwing\":0,\"fielding\":0,\"interference\":0,\"total\":0},\"assists\":{\"outfield\":0,\"total\":1},\"games\":{\"start\":0,\"play\":16,\"finish\":2,\"complete\":0}}]}}},{\"preferred_name\":\"Yilber\",\"first_name\":\"Yilber\",\"last_name\":\"Díaz\",\"jersey_number\":\"45\",\"id\":\"55de0f7b-e342-4292-a9f2-226b3ed55018\",\"full_name\":\"Yilber Díaz\",\"position\":\"P\",\"primary_position\":\"SP\",\"statistics\":{\"pitching\":{\"overall\":{\"oba\":0.333,\"lob\":9,\"era\":9.0,\"k9\":2.997,\"whip\":2.3333,\"kbb\":0.33,\"pitch_count\":60,\"wp\":1,\"bk\":0,\"ip_1\":9,\"ip_2\":3.0,\"bf\":15,\"gofo\":0.4,\"babip\":0.364,\"bf_ip\":5.0,\"fip\":5.41266,\"xfip\":7.32489,\"war\":-0.0350869,\"era_minus\":217.728,\"gbfb\":2.0,\"oab\":12,\"slg\":0.5,\"obp\":0.467,\"onbase\":{\"s\":2,\"d\":2,\"t\":0,\"hr\":0,\"tb\":6,\"bb\":3,\"ibb\":0,\"hbp\":0,\"fc\":0,\"roe\":0,\"h\":4,\"ci\":0,\"rov\":0,\"h9\":11.997,\"hr9\":0.0},\"runs\":{\"total\":3,\"unearned\":0,\"earned\":3,\"ir\":0,\"ira\":0,\"bqr\":0,\"bqra\":0},\"outcome\":{\"klook\":7,\"kswing\":2,\"ktotal\":9,\"ball\":27,\"iball\":0,\"dirtball\":3,\"foul\":10},\"outs\":{\"po\":1,\"fo\":2,\"fidp\":0,\"lo\":2,\"lidp\":0,\"go\":2,\"gidp\":1,\"klook\":1,\"kswing\":0,\"ktotal\":1,\"sacfly\":0,\"sachit\":0},\"steal\":{\"caught\":0,\"stolen\":0,\"pickoff\":0},\"pitches\":{\"count\":60,\"btotal\":30,\"ktotal\":30,\"per_ip\":20.0,\"per_bf\":4.0},\"in_play\":{\"linedrive\":4,\"groundball\":4,\"popup\":1,\"flyball\":2},\"games\":{\"start\":0,\"play\":1,\"finish\":1,\"svo\":0,\"qstart\":0,\"shutout\":0,\"complete\":0,\"win\":0,\"loss\":0,\"save\":0,\"hold\":0,\"blown_save\":0,\"team_win\":0,\"team_loss\":0}},\"bullpen\":{\"oba\":0.333,\"lob\":9,\"era\":9.0,\"k9\":2.997,\"whip\":2.3333,\"kbb\":0.33,\"pitch_count\":60,\"wp\":1,\"bk\":0,\"ip_1\":9,\"ip_2\":3.0,\"bf\":15,\"gofo\":0.4,\"babip\":0.364,\"bf_ip\":5.0,\"gbfb\":2.0,\"oab\":12,\"slg\":0.5,\"obp\":0.467,\"onbase\":{\"s\":2,\"d\":2,\"t\":0,\"hr\":0,\"tb\":6,\"bb\":3,\"ibb\":0,\"hbp\":0,\"fc\":0,\"roe\":0,\"h\":4,\"ci\":0,\"rov\":0,\"h9\":11.997,\"hr9\":0.0},\"runs\":{\"total\":3,\"unearned\":0,\"earned\":3,\"ir\":0,\"ira\":0,\"bqr\":0,\"bqra\":0},\"outcome\":{\"klook\":7,\"kswing\":2,\"ktotal\":9,\"ball\":27,\"iball\":0,\"dirtball\":3,\"foul\":10},\"outs\":{\"po\":1,\"fo\":2,\"fidp\":0,\"lo\":2,\"lidp\":0,\"go\":2,\"gidp\":1,\"klook\":1,\"kswing\":0,\"ktotal\":1,\"sacfly\":0,\"sachit\":0},\"steal\":{\"caught\":0,\"stolen\":0,\"pickoff\":0},\"pitches\":{\"count\":60,\"btotal\":30,\"ktotal\":30,\"per_ip\":20.0,\"per_bf\":4.0},\"in_play\":{\"linedrive\":4,\"groundball\":4,\"popup\":1,\"flyball\":2},\"games\":{\"start\":0,\"play\":1,\"finish\":1,\"svo\":0,\"qstart\":0,\"shutout\":0,\"complete\":0,\"win\":0,\"loss\":0,\"save\":0,\"hold\":0,\"blown_save\":0,\"team_win\":0,\"team_loss\":0}}},\"fielding\":{\"overall\":{\"po\":1,\"a\":0,\"dp\":0,\"tp\":0,\"error\":0,\"tc\":1,\"fpct\":1.0,\"c_wp\":0,\"pb\":0,\"rf\":1.0,\"inn_1\":9,\"inn_2\":3.0,\"steal\":{\"caught\":0,\"stolen\":0,\"pickoff\":0,\"pct\":0},\"errors\":{\"throwing\":0,\"fielding\":0,\"interference\":0,\"total\":0},\"assists\":{\"outfield\":0,\"total\":0},\"games\":{\"start\":0,\"play\":1,\"finish\":1,\"complete\":0}},\"positions\":[{\"po\":1,\"a\":0,\"dp\":0,\"tp\":0,\"error\":0,\"tc\":1,\"fpct\":1.0,\"c_wp\":0,\"pb\":0,\"rf\":1.0,\"inn_1\":9,\"inn_2\":3.0,\"position\":\"P\",\"steal\":{\"caught\":0,\"stolen\":0,\"pickoff\":0,\"pct\":0},\"errors\":{\"throwing\":0,\"fielding\":0,\"interference\":0,\"total\":0},\"assists\":{\"outfield\":0,\"total\":0},\"games\":{\"start\":0,\"play\":1,\"finish\":1,\"complete\":0}}]}}},{\"preferred_name\":\"J.P.\",\"first_name\":\"Jonathon\",\"last_name\":\"Feyereisen\",\"id\":\"cbfa0a86-6b66-4cb5-8cc0-0d99b267a335\",\"full_name\":\"J.P. Feyereisen\",\"position\":\"P\",\"primary_position\":\"RP\",\"statistics\":{\"pitching\":{\"overall\":{\"oba\":0.333,\"lob\":2,\"era\":9.0,\"k9\":9.0,\"whip\":1.5,\"kbb\":0.0,\"pitch_count\":47,\"wp\":0,\"bk\":0,\"ip_1\":6,\"ip_2\":2.0,\"bf\":9,\"gofo\":0.333,\"babip\":0.333,\"bf_ip\":4.5,\"fip\":7.57933,\"xfip\":4.66475,\"war\":-0.102094,\"era_minus\":217.728,\"gbfb\":0.25,\"oab\":9,\"slg\":0.889,\"obp\":0.333,\"onbase\":{\"s\":0,\"d\":2,\"t\":0,\"hr\":1,\"tb\":8,\"bb\":0,\"ibb\":0,\"hbp\":0,\"fc\":0,\"roe\":0,\"h\":3,\"ci\":0,\"rov\":0,\"h9\":13.5,\"hr9\":4.5},\"runs\":{\"total\":3,\"unearned\":1,\"earned\":2,\"ir\":0,\"ira\":0,\"bqr\":0,\"bqra\":0},\"outcome\":{\"klook\":4,\"kswing\":5,\"ktotal\":9,\"ball\":12,\"iball\":0,\"dirtball\":2,\"foul\":17},\"outs\":{\"po\":0,\"fo\":3,\"fidp\":0,\"lo\":0,\"lidp\":0,\"go\":1,\"gidp\":0,\"klook\":1,\"kswing\":1,\"ktotal\":2,\"sacfly\":0,\"sachit\":0},\"steal\":{\"caught\":0,\"stolen\":0,\"pickoff\":0},\"pitches\":{\"count\":47,\"btotal\":14,\"ktotal\":33,\"per_ip\":23.5,\"per_bf\":5.222},\"in_play\":{\"linedrive\":2,\"groundball\":1,\"popup\":0,\"flyball\":4},\"games\":{\"start\":0,\"play\":2,\"finish\":2,\"svo\":0,\"qstart\":0,\"shutout\":0,\"complete\":0,\"win\":0,\"loss\":1,\"save\":0,\"hold\":0,\"blown_save\":0,\"team_win\":0,\"team_loss\":0}},\"bullpen\":{\"oba\":0.333,\"lob\":2,\"era\":9.0,\"k9\":9.0,\"whip\":1.5,\"kbb\":0.0,\"pitch_count\":47,\"wp\":0,\"bk\":0,\"ip_1\":6,\"ip_2\":2.0,\"bf\":9,\"gofo\":0.333,\"babip\":0.333,\"bf_ip\":4.5,\"gbfb\":0.25,\"oab\":9,\"slg\":0.889,\"obp\":0.333,\"onbase\":{\"s\":0,\"d\":2,\"t\":0,\"hr\":1,\"tb\":8,\"bb\":0,\"ibb\":0,\"hbp\":0,\"fc\":0,\"roe\":0,\"h\":3,\"ci\":0,\"rov\":0,\"h9\":13.5,\"hr9\":4.5},\"runs\":{\"total\":3,\"unearned\":1,\"earned\":2,\"ir\":0,\"ira\":0,\"bqr\":0,\"bqra\":0},\"outcome\":{\"klook\":4,\"kswing\":5,\"ktotal\":9,\"ball\":12,\"iball\":0,\"dirtball\":2,\"foul\":17},\"outs\":{\"po\":0,\"fo\":3,\"fidp\":0,\"lo\":0,\"lidp\":0,\"go\":1,\"gidp\":0,\"klook\":1,\"kswing\":1,\"ktotal\":2,\"sacfly\":0,\"sachit\":0},\"steal\":{\"caught\":0,\"stolen\":0,\"pickoff\":0},\"pitches\":{\"count\":47,\"btotal\":14,\"ktotal\":33,\"per_ip\":23.5,\"per_bf\":5.222},\"in_play\":{\"linedrive\":2,\"groundball\":1,\"popup\":0,\"flyball\":4},\"games\":{\"start\":0,\"play\":2,\"finish\":2,\"svo\":0,\"qstart\":0,\"shutout\":0,\"complete\":0,\"win\":0,\"loss\":1,\"save\":0,\"hold\":0,\"blown_save\":0,\"team_win\":0,\"team_loss\":0}}},\"fielding\":{\"overall\":{\"po\":0,\"a\":0,\"dp\":0,\"tp\":0,\"error\":0,\"tc\":0,\"fpct\":0.0,\"c_wp\":0,\"pb\":0,\"rf\":0.0,\"inn_1\":6,\"inn_2\":2.0,\"steal\":{\"caught\":0,\"stolen\":0,\"pickoff\":0,\"pct\":0},\"errors\":{\"throwing\":0,\"fielding\":0,\"interference\":0,\"total\":0},\"assists\":{\"outfield\":0,\"total\":0},\"games\":{\"start\":0,\"play\":2,\"finish\":2,\"complete\":0}},\"positions\":[{\"po\":0,\"a\":0,\"dp\":0,\"tp\":0,\"error\":0,\"tc\":0,\"fpct\":0.0,\"c_wp\":0,\"pb\":0,\"rf\":0.0,\"inn_1\":6,\"inn_2\":2.0,\"position\":\"P\",\"steal\":{\"caught\":0,\"stolen\":0,\"pickoff\":0,\"pct\":0},\"errors\":{\"throwing\":0,\"fielding\":0,\"interference\":0,\"total\":0},\"assists\":{\"outfield\":0,\"total\":0},\"games\":{\"start\":0,\"play\":2,\"finish\":2,\"complete\":0}}]}}},{\"preferred_name\":\"Kevin\",\"first_name\":\"Kevin\",\"last_name\":\"Ginkel\",\"jersey_number\":\"37\",\"id\":\"016e7b25-5855-447a-aa10-10372bcc1fa3\",\"full_name\":\"Kevin Ginkel\",\"position\":\"P\",\"primary_position\":\"RP\",\"statistics\":{\"pitching\":{\"overall\":{\"oba\":0.318,\"lob\":22,\"era\":12.6,\"k9\":13.5,\"whip\":2.1,\"kbb\":2.14,\"pitch_count\":227,\"wp\":1,\"bk\":0,\"ip_1\":30,\"ip_2\":10.0,\"bf\":52,\"gofo\":0.5,\"babip\":0.444,\"bf_ip\":5.2,\"fip\":5.07933,\"xfip\":4.48717,\"war\":-0.182745,\"era_minus\":304.819,\"gbfb\":1.3,\"oab\":44,\"slg\":0.568,\"obp\":0.423,\"onbase\":{\"s\":7,\"d\":5,\"t\":0,\"hr\":2,\"tb\":25,\"bb\":7,\"ibb\":0,\"hbp\":1,\"fc\":0,\"roe\":1,\"h\":14,\"ci\":0,\"rov\":0,\"h9\":12.6,\"hr9\":1.8},\"runs\":{\"total\":14,\"unearned\":0,\"earned\":14,\"ir\":3,\"ira\":0,\"bqr\":3,\"bqra\":4},\"outcome\":{\"klook\":35,\"kswing\":31,\"ktotal\":66,\"ball\":83,\"iball\":0,\"dirtball\":12,\"foul\":36},\"outs\":{\"po\":1,\"fo\":6,\"fidp\":0,\"lo\":3,\"lidp\":0,\"go\":5,\"gidp\":1,\"klook\":2,\"kswing\":13,\"ktotal\":15,\"sacfly\":0,\"sachit\":0},\"steal\":{\"caught\":0,\"stolen\":0,\"pickoff\":0},\"pitches\":{\"count\":227,\"btotal\":96,\"ktotal\":131,\"per_ip\":22.7,\"per_bf\":4.365},\"in_play\":{\"linedrive\":5,\"groundball\":13,\"popup\":1,\"flyball\":10},\"games\":{\"start\":0,\"play\":13,\"finish\":1,\"svo\":2,\"qstart\":0,\"shutout\":0,\"complete\":0,\"win\":0,\"loss\":3,\"save\":1,\"hold\":5,\"blown_save\":1,\"team_win\":0,\"team_loss\":0}},\"bullpen\":{\"oba\":0.318,\"lob\":22,\"era\":12.6,\"k9\":13.5,\"whip\":2.1,\"kbb\":2.14,\"pitch_count\":227,\"wp\":1,\"bk\":0,\"ip_1\":30,\"ip_2\":10.0,\"bf\":52,\"gofo\":0.5,\"babip\":0.444,\"bf_ip\":5.2,\"gbfb\":1.3,\"oab\":44,\"slg\":0.568,\"obp\":0.423,\"onbase\":{\"s\":7,\"d\":5,\"t\":0,\"hr\":2,\"tb\":25,\"bb\":7,\"ibb\":0,\"hbp\":1,\"fc\":0,\"roe\":1,\"h\":14,\"ci\":0,\"rov\":0,\"h9\":12.6,\"hr9\":1.8},\"runs\":{\"total\":14,\"unearned\":0,\"earned\":14,\"ir\":3,\"ira\":0,\"bqr\":3,\"bqra\":4},\"outcome\":{\"klook\":35,\"kswing\":31,\"ktotal\":66,\"ball\":83,\"iball\":0,\"dirtball\":12,\"foul\":36},\"outs\":{\"po\":1,\"fo\":6,\"fidp\":0,\"lo\":3,\"lidp\":0,\"go\":5,\"gidp\":1,\"klook\":2,\"kswing\":13,\"ktotal\":15,\"sacfly\":0,\"sachit\":0},\"steal\":{\"caught\":0,\"stolen\":0,\"pickoff\":0},\"pitches\":{\"count\":227,\"btotal\":96,\"ktotal\":131,\"per_ip\":22.7,\"per_bf\":4.365},\"in_play\":{\"linedrive\":5,\"groundball\":13,\"popup\":1,\"flyball\":10},\"games\":{\"start\":0,\"play\":13,\"finish\":1,\"svo\":2,\"qstart\":0,\"shutout\":0,\"complete\":0,\"win\":0,\"loss\":3,\"save\":1,\"hold\":5,\"blown_save\":1,\"team_win\":0,\"team_loss\":0}}},\"fielding\":{\"overall\":{\"po\":0,\"a\":0,\"dp\":0,\"tp\":0,\"error\":0,\"tc\":0,\"fpct\":0.0,\"c_wp\":0,\"pb\":0,\"rf\":0.0,\"inn_1\":30,\"inn_2\":10.0,\"steal\":{\"caught\":0,\"stolen\":0,\"pickoff\":0,\"pct\":0},\"errors\":{\"throwing\":0,\"fielding\":0,\"interference\":0,\"total\":0},\"assists\":{\"outfield\":0,\"total\":0},\"games\":{\"start\":0,\"play\":13,\"finish\":1,\"complete\":0}},\"positions\":[{\"po\":0,\"a\":0,\"dp\":0,\"tp\":0,\"error\":0,\"tc\":0,\"fpct\":0.0,\"c_wp\":0,\"pb\":0,\"rf\":0.0,\"inn_1\":30,\"inn_2\":10.0,\"position\":\"P\",\"steal\":{\"caught\":0,\"stolen\":0,\"pickoff\":0,\"pct\":0},\"errors\":{\"throwing\":0,\"fielding\":0,\"interference\":0,\"total\":0},\"assists\":{\"outfield\":0,\"total\":0},\"games\":{\"start\":0,\"play\":13,\"finish\":1,\"complete\":0}}]}}},{\"preferred_name\":\"Cristian\",\"first_name\":\"Cristian\",\"last_name\":\"Mena\",\"jersey_number\":\"64\",\"id\":\"41de1f31-e472-4fdc-a0e3-082f81a51cef\",\"full_name\":\"Cristian Mena\",\"position\":\"P\",\"primary_position\":\"SP\",\"statistics\":{\"pitching\":{\"overall\":{\"oba\":0.0,\"lob\":5,\"era\":0.0,\"k9\":12.276,\"whip\":0.2727,\"kbb\":5.0,\"pitch_count\":46,\"wp\":0,\"bk\":0,\"ip_1\":11,\"ip_2\":3.2,\"bf\":12,\"gofo\":0.5,\"babip\":0.0,\"bf_ip\":3.273,\"fip\":1.17024,\"xfip\":2.34366,\"war\":0.167049,\"era_minus\":0.0,\"gbfb\":2.0,\"oab\":11,\"slg\":0.0,\"obp\":0.083,\"onbase\":{\"s\":0,\"d\":0,\"t\":0,\"hr\":0,\"tb\":0,\"bb\":1,\"ibb\":0,\"hbp\":0,\"fc\":0,\"roe\":0,\"h\":0,\"ci\":0,\"rov\":0,\"h9\":0.0,\"hr9\":0.0},\"runs\":{\"total\":0,\"unearned\":0,\"earned\":0,\"ir\":3,\"ira\":0,\"bqr\":3,\"bqra\":0},\"outcome\":{\"klook\":5,\"kswing\":7,\"ktotal\":12,\"ball\":17,\"iball\":0,\"dirtball\":1,\"foul\":10},\"outs\":{\"po\":2,\"fo\":1,\"fidp\":0,\"lo\":1,\"lidp\":0,\"go\":2,\"gidp\":0,\"klook\":1,\"kswing\":4,\"ktotal\":5,\"sacfly\":0,\"sachit\":0},\"steal\":{\"caught\":0,\"stolen\":0,\"pickoff\":0},\"pitches\":{\"count\":46,\"btotal\":18,\"ktotal\":28,\"per_ip\":12.545,\"per_bf\":3.833},\"in_play\":{\"linedrive\":1,\"groundball\":2,\"popup\":2,\"flyball\":1},\"games\":{\"start\":0,\"play\":1,\"finish\":0,\"svo\":0,\"qstart\":0,\"shutout\":0,\"complete\":0,\"win\":0,\"loss\":0,\"save\":0,\"hold\":0,\"blown_save\":0,\"team_win\":0,\"team_loss\":0}},\"bullpen\":{\"oba\":0.0,\"lob\":5,\"era\":0.0,\"k9\":12.276,\"whip\":0.2727,\"kbb\":5.0,\"pitch_count\":46,\"wp\":0,\"bk\":0,\"ip_1\":11,\"ip_2\":3.2,\"bf\":12,\"gofo\":0.5,\"babip\":0.0,\"bf_ip\":3.273,\"gbfb\":2.0,\"oab\":11,\"slg\":0.0,\"obp\":0.083,\"onbase\":{\"s\":0,\"d\":0,\"t\":0,\"hr\":0,\"tb\":0,\"bb\":1,\"ibb\":0,\"hbp\":0,\"fc\":0,\"roe\":0,\"h\":0,\"ci\":0,\"rov\":0,\"h9\":0.0,\"hr9\":0.0},\"runs\":{\"total\":0,\"unearned\":0,\"earned\":0,\"ir\":3,\"ira\":0,\"bqr\":3,\"bqra\":0},\"outcome\":{\"klook\":5,\"kswing\":7,\"ktotal\":12,\"ball\":17,\"iball\":0,\"dirtball\":1,\"foul\":10},\"outs\":{\"po\":2,\"fo\":1,\"fidp\":0,\"lo\":1,\"lidp\":0,\"go\":2,\"gidp\":0,\"klook\":1,\"kswing\":4,\"ktotal\":5,\"sacfly\":0,\"sachit\":0},\"steal\":{\"caught\":0,\"stolen\":0,\"pickoff\":0},\"pitches\":{\"count\":46,\"btotal\":18,\"ktotal\":28,\"per_ip\":12.545,\"per_bf\":3.833},\"in_play\":{\"linedrive\":1,\"groundball\":2,\"popup\":2,\"flyball\":1},\"games\":{\"start\":0,\"play\":1,\"finish\":0,\"svo\":0,\"qstart\":0,\"shutout\":0,\"complete\":0,\"win\":0,\"loss\":0,\"save\":0,\"hold\":0,\"blown_save\":0,\"team_win\":0,\"team_loss\":0}}},\"fielding\":{\"overall\":{\"po\":0,\"a\":1,\"dp\":0,\"tp\":0,\"error\":0,\"tc\":1,\"fpct\":1.0,\"c_wp\":0,\"pb\":0,\"rf\":1.0,\"inn_1\":11,\"inn_2\":3.2,\"steal\":{\"caught\":0,\"stolen\":0,\"pickoff\":0,\"pct\":0},\"errors\":{\"throwing\":0,\"fielding\":0,\"interference\":0,\"total\":0},\"assists\":{\"outfield\":0,\"total\":1},\"games\":{\"start\":0,\"play\":1,\"finish\":0,\"complete\":0}},\"positions\":[{\"po\":0,\"a\":1,\"dp\":0,\"tp\":0,\"error\":0,\"tc\":1,\"fpct\":1.0,\"c_wp\":0,\"pb\":0,\"rf\":1.0,\"inn_1\":11,\"inn_2\":3.2,\"position\":\"P\",\"steal\":{\"caught\":0,\"stolen\":0,\"pickoff\":0,\"pct\":0},\"errors\":{\"throwing\":0,\"fielding\":0,\"interference\":0,\"total\":0},\"assists\":{\"outfield\":0,\"total\":1},\"games\":{\"start\":0,\"play\":1,\"finish\":0,\"complete\":0}}]}}},{\"preferred_name\":\"Eduardo\",\"first_name\":\"Eduardo\",\"last_name\":\"Rodriguez\",\"jersey_number\":\"57\",\"id\":\"93413a68-2c05-405a-a38c-9ee983b36913\",\"full_name\":\"Eduardo Rodriguez\",\"position\":\"P\",\"primary_position\":\"SP\",\"statistics\":{\"pitching\":{\"overall\":{\"oba\":0.309,\"lob\":79,\"era\":7.052,\"k9\":10.476,\"whip\":1.7015,\"kbb\":2.89,\"pitch_count\":777,\"wp\":2,\"bk\":0,\"ip_1\":134,\"ip_2\":44.2,\"bf\":211,\"gofo\":0.66,\"babip\":0.379,\"bf_ip\":4.724,\"bf_start\":23.444,\"fip\":4.28829,\"xfip\":3.82221,\"war\":0.437348,\"era_minus\":170.608,\"gbfb\":1.581,\"oab\":188,\"slg\":0.532,\"obp\":0.362,\"onbase\":{\"s\":33,\"d\":16,\"t\":1,\"hr\":8,\"tb\":100,\"bb\":18,\"ibb\":0,\"hbp\":0,\"fc\":6,\"roe\":1,\"h\":58,\"ci\":0,\"rov\":0,\"h9\":11.691,\"hr9\":1.611},\"runs\":{\"total\":41,\"unearned\":6,\"earned\":35,\"ir\":0,\"ira\":0,\"bqr\":0,\"bqra\":4},\"outcome\":{\"klook\":120,\"kswing\":88,\"ktotal\":208,\"ball\":288,\"iball\":0,\"dirtball\":15,\"foul\":125},\"outs\":{\"po\":17,\"fo\":19,\"fidp\":0,\"lo\":14,\"lidp\":0,\"go\":33,\"gidp\":1,\"klook\":17,\"kswing\":35,\"ktotal\":52,\"sacfly\":4,\"sachit\":1},\"steal\":{\"caught\":0,\"stolen\":4,\"pickoff\":0},\"pitches\":{\"count\":777,\"btotal\":303,\"ktotal\":474,\"per_ip\":17.396,\"per_bf\":3.682,\"per_start\":86.0},\"in_play\":{\"linedrive\":43,\"groundball\":49,\"popup\":18,\"flyball\":31},\"games\":{\"start\":9,\"play\":9,\"finish\":0,\"svo\":0,\"qstart\":1,\"shutout\":0,\"complete\":0,\"win\":1,\"loss\":3,\"save\":0,\"hold\":0,\"blown_save\":0,\"team_win\":4,\"team_loss\":5}},\"starters\":{\"oba\":0.309,\"lob\":79,\"era\":7.052,\"k9\":10.476,\"whip\":1.7015,\"kbb\":2.89,\"pitch_count\":777,\"wp\":2,\"bk\":0,\"ip_1\":134,\"ip_2\":44.2,\"bf\":211,\"gofo\":0.66,\"babip\":0.379,\"bf_ip\":4.724,\"bf_start\":23.444,\"gbfb\":1.581,\"oab\":188,\"slg\":0.532,\"obp\":0.362,\"onbase\":{\"s\":33,\"d\":16,\"t\":1,\"hr\":8,\"tb\":100,\"bb\":18,\"ibb\":0,\"hbp\":0,\"fc\":6,\"roe\":1,\"h\":58,\"ci\":0,\"rov\":0,\"h9\":11.691,\"hr9\":1.611},\"runs\":{\"total\":41,\"unearned\":6,\"earned\":35,\"ir\":0,\"ira\":0,\"bqr\":0,\"bqra\":4},\"outcome\":{\"klook\":120,\"kswing\":88,\"ktotal\":208,\"ball\":288,\"iball\":0,\"dirtball\":15,\"foul\":125},\"outs\":{\"po\":17,\"fo\":19,\"fidp\":0,\"lo\":14,\"lidp\":0,\"go\":33,\"gidp\":1,\"klook\":17,\"kswing\":35,\"ktotal\":52,\"sacfly\":4,\"sachit\":1},\"steal\":{\"caught\":0,\"stolen\":4,\"pickoff\":0},\"pitches\":{\"count\":777,\"btotal\":303,\"ktotal\":474,\"per_ip\":17.396,\"per_bf\":3.682,\"per_start\":86.0},\"in_play\":{\"linedrive\":43,\"groundball\":49,\"popup\":18,\"flyball\":31},\"games\":{\"start\":9,\"play\":9,\"finish\":0,\"svo\":0,\"qstart\":1,\"shutout\":0,\"complete\":0,\"win\":1,\"loss\":3,\"save\":0,\"hold\":0,\"blown_save\":0,\"team_win\":4,\"team_loss\":5}}},\"fielding\":{\"overall\":{\"po\":0,\"a\":3,\"dp\":0,\"tp\":0,\"error\":0,\"tc\":3,\"fpct\":1.0,\"c_wp\":0,\"pb\":0,\"rf\":0.333,\"inn_1\":134,\"inn_2\":44.2,\"steal\":{\"caught\":0,\"stolen\":0,\"pickoff\":0,\"pct\":0},\"errors\":{\"throwing\":0,\"fielding\":0,\"interference\":0,\"total\":0},\"assists\":{\"outfield\":0,\"total\":3},\"games\":{\"start\":9,\"play\":9,\"finish\":0,\"complete\":0}},\"positions\":[{\"po\":0,\"a\":3,\"dp\":0,\"tp\":0,\"error\":0,\"tc\":3,\"fpct\":1.0,\"c_wp\":0,\"pb\":0,\"rf\":0.333,\"inn_1\":134,\"inn_2\":44.2,\"position\":\"P\",\"steal\":{\"caught\":0,\"stolen\":0,\"pickoff\":0,\"pct\":0},\"errors\":{\"throwing\":0,\"fielding\":0,\"interference\":0,\"total\":0},\"assists\":{\"outfield\":0,\"total\":3},\"games\":{\"start\":9,\"play\":9,\"finish\":0,\"complete\":0}}]}}},{\"preferred_name\":\"Jeff\",\"first_name\":\"Jeff\",\"last_name\":\"Brigham\",\"jersey_number\":\"34\",\"id\":\"ba2c1f71-c376-4004-b454-9fa3f2c4a22a\",\"full_name\":\"Jeff Brigham\",\"position\":\"P\",\"primary_position\":\"RP\",\"statistics\":{\"pitching\":{\"overall\":{\"oba\":0.25,\"lob\":5,\"era\":0.0,\"k9\":9.0,\"whip\":2.0,\"kbb\":1.0,\"pitch_count\":20,\"wp\":0,\"bk\":0,\"ip_1\":3,\"ip_2\":1.0,\"bf\":5,\"gofo\":0.0,\"babip\":0.333,\"bf_ip\":5.0,\"fip\":4.07933,\"xfip\":6.94767,\"war\":-0.00166386,\"era_minus\":0.0,\"gbfb\":0.0,\"oab\":4,\"slg\":0.25,\"obp\":0.4,\"onbase\":{\"s\":1,\"d\":0,\"t\":0,\"hr\":0,\"tb\":1,\"bb\":1,\"ibb\":0,\"hbp\":0,\"fc\":0,\"roe\":0,\"h\":1,\"ci\":0,\"rov\":0,\"h9\":9.0,\"hr9\":0.0},\"runs\":{\"total\":0,\"unearned\":0,\"earned\":0,\"ir\":0,\"ira\":0,\"bqr\":0,\"bqra\":0},\"outcome\":{\"klook\":2,\"kswing\":2,\"ktotal\":4,\"ball\":8,\"iball\":0,\"dirtball\":1,\"foul\":4},\"outs\":{\"po\":1,\"fo\":1,\"fidp\":0,\"lo\":0,\"lidp\":0,\"go\":0,\"gidp\":0,\"klook\":0,\"kswing\":1,\"ktotal\":1,\"sacfly\":0,\"sachit\":0},\"steal\":{\"caught\":0,\"stolen\":0,\"pickoff\":0},\"pitches\":{\"count\":20,\"btotal\":9,\"ktotal\":11,\"per_ip\":20.0,\"per_bf\":4.0},\"in_play\":{\"linedrive\":1,\"groundball\":0,\"popup\":1,\"flyball\":1},\"games\":{\"start\":0,\"play\":1,\"finish\":1,\"svo\":0,\"qstart\":0,\"shutout\":0,\"complete\":0,\"win\":0,\"loss\":0,\"save\":0,\"hold\":0,\"blown_save\":0,\"team_win\":0,\"team_loss\":0}},\"bullpen\":{\"oba\":0.25,\"lob\":5,\"era\":0.0,\"k9\":9.0,\"whip\":2.0,\"kbb\":1.0,\"pitch_count\":20,\"wp\":0,\"bk\":0,\"ip_1\":3,\"ip_2\":1.0,\"bf\":5,\"gofo\":0.0,\"babip\":0.333,\"bf_ip\":5.0,\"gbfb\":0.0,\"oab\":4,\"slg\":0.25,\"obp\":0.4,\"onbase\":{\"s\":1,\"d\":0,\"t\":0,\"hr\":0,\"tb\":1,\"bb\":1,\"ibb\":0,\"hbp\":0,\"fc\":0,\"roe\":0,\"h\":1,\"ci\":0,\"rov\":0,\"h9\":9.0,\"hr9\":0.0},\"runs\":{\"total\":0,\"unearned\":0,\"earned\":0,\"ir\":0,\"ira\":0,\"bqr\":0,\"bqra\":0},\"outcome\":{\"klook\":2,\"kswing\":2,\"ktotal\":4,\"ball\":8,\"iball\":0,\"dirtball\":1,\"foul\":4},\"outs\":{\"po\":1,\"fo\":1,\"fidp\":0,\"lo\":0,\"lidp\":0,\"go\":0,\"gidp\":0,\"klook\":0,\"kswing\":1,\"ktotal\":1,\"sacfly\":0,\"sachit\":0},\"steal\":{\"caught\":0,\"stolen\":0,\"pickoff\":0},\"pitches\":{\"count\":20,\"btotal\":9,\"ktotal\":11,\"per_ip\":20.0,\"per_bf\":4.0},\"in_play\":{\"linedrive\":1,\"groundball\":0,\"popup\":1,\"flyball\":1},\"games\":{\"start\":0,\"play\":1,\"finish\":1,\"svo\":0,\"qstart\":0,\"shutout\":0,\"complete\":0,\"win\":0,\"loss\":0,\"save\":0,\"hold\":0,\"blown_save\":0,\"team_win\":0,\"team_loss\":0}}},\"fielding\":{\"overall\":{\"po\":0,\"a\":0,\"dp\":0,\"tp\":0,\"error\":0,\"tc\":0,\"fpct\":0.0,\"c_wp\":0,\"pb\":0,\"rf\":0.0,\"inn_1\":3,\"inn_2\":1.0,\"steal\":{\"caught\":0,\"stolen\":0,\"pickoff\":0,\"pct\":0},\"errors\":{\"throwing\":0,\"fielding\":0,\"interference\":0,\"total\":0},\"assists\":{\"outfield\":0,\"total\":0},\"games\":{\"start\":0,\"play\":1,\"finish\":1,\"complete\":0}},\"positions\":[{\"po\":0,\"a\":0,\"dp\":0,\"tp\":0,\"error\":0,\"tc\":0,\"fpct\":0.0,\"c_wp\":0,\"pb\":0,\"rf\":0.0,\"inn_1\":3,\"inn_2\":1.0,\"position\":\"P\",\"steal\":{\"caught\":0,\"stolen\":0,\"pickoff\":0,\"pct\":0},\"errors\":{\"throwing\":0,\"fielding\":0,\"interference\":0,\"total\":0},\"assists\":{\"outfield\":0,\"total\":0},\"games\":{\"start\":0,\"play\":1,\"finish\":1,\"complete\":0}}]}}},{\"preferred_name\":\"Kendall\",\"first_name\":\"Kendall\",\"last_name\":\"Graveman\",\"jersey_number\":\"49\",\"id\":\"18be2520-ed71-4e1e-94c8-29b0590e2b5c\",\"full_name\":\"Kendall Graveman\",\"position\":\"P\",\"primary_position\":\"RP\",\"statistics\":{\"pitching\":{\"overall\":{\"oba\":0.368,\"lob\":11,\"era\":1.688,\"k9\":3.375,\"whip\":1.875,\"kbb\":0.67,\"pitch_count\":88,\"wp\":0,\"bk\":0,\"ip_1\":16,\"ip_2\":5.1,\"bf\":22,\"gofo\":0.25,\"babip\":0.412,\"bf_ip\":4.125,\"fip\":4.01683,\"xfip\":6.1681,\"war\":0.00438048,\"era_minus\":40.8243,\"gbfb\":1.333,\"oab\":19,\"slg\":0.579,\"obp\":0.455,\"onbase\":{\"s\":4,\"d\":2,\"t\":1,\"hr\":0,\"tb\":11,\"bb\":3,\"ibb\":0,\"hbp\":0,\"fc\":0,\"roe\":0,\"h\":7,\"ci\":0,\"rov\":0,\"h9\":11.817,\"hr9\":0.0},\"runs\":{\"total\":1,\"unearned\":0,\"earned\":1,\"ir\":0,\"ira\":0,\"bqr\":0,\"bqra\":0},\"outcome\":{\"klook\":12,\"kswing\":7,\"ktotal\":19,\"ball\":38,\"iball\":0,\"dirtball\":3,\"foul\":11},\"outs\":{\"po\":1,\"fo\":3,\"fidp\":0,\"lo\":4,\"lidp\":0,\"go\":2,\"gidp\":1,\"klook\":0,\"kswing\":2,\"ktotal\":2,\"sacfly\":0,\"sachit\":0},\"steal\":{\"caught\":2,\"stolen\":2,\"pickoff\":0},\"pitches\":{\"count\":88,\"btotal\":41,\"ktotal\":47,\"per_ip\":16.5,\"per_bf\":4.0},\"in_play\":{\"linedrive\":9,\"groundball\":4,\"popup\":1,\"flyball\":3},\"games\":{\"start\":0,\"play\":6,\"finish\":2,\"svo\":0,\"qstart\":0,\"shutout\":0,\"complete\":0,\"win\":0,\"loss\":0,\"save\":0,\"hold\":0,\"blown_save\":0,\"team_win\":0,\"team_loss\":0}},\"bullpen\":{\"oba\":0.368,\"lob\":11,\"era\":1.688,\"k9\":3.375,\"whip\":1.875,\"kbb\":0.67,\"pitch_count\":88,\"wp\":0,\"bk\":0,\"ip_1\":16,\"ip_2\":5.1,\"bf\":22,\"gofo\":0.25,\"babip\":0.412,\"bf_ip\":4.125,\"gbfb\":1.333,\"oab\":19,\"slg\":0.579,\"obp\":0.455,\"onbase\":{\"s\":4,\"d\":2,\"t\":1,\"hr\":0,\"tb\":11,\"bb\":3,\"ibb\":0,\"hbp\":0,\"fc\":0,\"roe\":0,\"h\":7,\"ci\":0,\"rov\":0,\"h9\":11.817,\"hr9\":0.0},\"runs\":{\"total\":1,\"unearned\":0,\"earned\":1,\"ir\":0,\"ira\":0,\"bqr\":0,\"bqra\":0},\"outcome\":{\"klook\":12,\"kswing\":7,\"ktotal\":19,\"ball\":38,\"iball\":0,\"dirtball\":3,\"foul\":11},\"outs\":{\"po\":1,\"fo\":3,\"fidp\":0,\"lo\":4,\"lidp\":0,\"go\":2,\"gidp\":1,\"klook\":0,\"kswing\":2,\"ktotal\":2,\"sacfly\":0,\"sachit\":0},\"steal\":{\"caught\":2,\"stolen\":2,\"pickoff\":0},\"pitches\":{\"count\":88,\"btotal\":41,\"ktotal\":47,\"per_ip\":16.5,\"per_bf\":4.0},\"in_play\":{\"linedrive\":9,\"groundball\":4,\"popup\":1,\"flyball\":3},\"games\":{\"start\":0,\"play\":6,\"finish\":2,\"svo\":0,\"qstart\":0,\"shutout\":0,\"complete\":0,\"win\":0,\"loss\":0,\"save\":0,\"hold\":0,\"blown_save\":0,\"team_win\":0,\"team_loss\":0}}},\"fielding\":{\"overall\":{\"po\":0,\"a\":1,\"dp\":0,\"tp\":0,\"error\":0,\"tc\":1,\"fpct\":1.0,\"c_wp\":0,\"pb\":0,\"rf\":0.167,\"inn_1\":16,\"inn_2\":5.1,\"steal\":{\"caught\":0,\"stolen\":0,\"pickoff\":0,\"pct\":0},\"errors\":{\"throwing\":0,\"fielding\":0,\"interference\":0,\"total\":0},\"assists\":{\"outfield\":0,\"total\":1},\"games\":{\"start\":0,\"play\":6,\"finish\":2,\"complete\":0}},\"positions\":[{\"po\":0,\"a\":1,\"dp\":0,\"tp\":0,\"error\":0,\"tc\":1,\"fpct\":1.0,\"c_wp\":0,\"pb\":0,\"rf\":0.167,\"inn_1\":16,\"inn_2\":5.1,\"position\":\"P\",\"steal\":{\"caught\":0,\"stolen\":0,\"pickoff\":0,\"pct\":0},\"errors\":{\"throwing\":0,\"fielding\":0,\"interference\":0,\"total\":0},\"assists\":{\"outfield\":0,\"total\":1},\"games\":{\"start\":0,\"play\":6,\"finish\":2,\"complete\":0}}]}}}],\"_comment\":\"Generation started @ 2025-05-31 14:11:22 +0000 ended @ 2025-05-31 14:11:22 +0000\"}\n"
     ]
    }
   ],
   "source": [
    "url = \"https://api.sportradar.com/mlb/trial/v8/en/seasons/2025/REG/teams/25507be1-6a68-4267-bd82-e097d94b359b/statistics.json\"\n",
    "\n",
    "headers = {\n",
    "    \"accept\": \"application/json\",\n",
    "    \"x-api-key\": \"NYii5TfXY5KzhPP7RPf2Wj5eMOxiZPqFI1jDuKMB\"\n",
    "}\n",
    "\n",
    "response = requests.get(url, headers=headers)\n",
    "\n",
    "print(response.text)"
   ]
  },
  {
   "cell_type": "code",
   "execution_count": null,
   "id": "79a1a041",
   "metadata": {},
   "outputs": [],
   "source": []
  },
  {
   "cell_type": "code",
   "execution_count": 9,
   "id": "1dc1c9f6-6364-46f6-984d-eddc50255cf6",
   "metadata": {},
   "outputs": [],
   "source": [
    "def insert_players(data):\n",
    "    teams = data.get('teams', [])\n",
    "    \n",
    "    for team in teams:\n",
    "        team_name = team.get('name', '')\n",
    "        players = team.get('players', [])\n",
    "        \n",
    "        for player in players:\n",
    "            player_id = player.get('id')\n",
    "            name = player.get('full_name')\n",
    "            position = player.get('primary_position', {}).get('abbreviation', '')\n",
    "            number = player.get('jersey_number', '')\n",
    "\n",
    "            new_player = Player(\n",
    "                id=player_id,\n",
    "                full_name=name,\n",
    "                team=team_name,\n",
    "                position=position,\n",
    "                jersey_number=number\n",
    "            )\n",
    "            session.merge(new_player)  # merge = insert or update\n",
    "    session.commit()\n"
   ]
  },
  {
   "cell_type": "code",
   "execution_count": null,
   "id": "517e5440-032c-4758-8223-9ccf8f4d5007",
   "metadata": {},
   "outputs": [],
   "source": []
  },
  {
   "cell_type": "code",
   "execution_count": null,
   "id": "9b4ed30d",
   "metadata": {},
   "outputs": [],
   "source": []
  },
  {
   "cell_type": "code",
   "execution_count": null,
   "id": "2a34243b-c364-4465-9888-61e72584fdee",
   "metadata": {},
   "outputs": [],
   "source": []
  },
  {
   "cell_type": "code",
   "execution_count": null,
   "id": "646d113f-4dcd-4911-8262-f18310902515",
   "metadata": {},
   "outputs": [],
   "source": []
  },
  {
   "cell_type": "code",
   "execution_count": null,
   "id": "06349d4b-2920-4ae5-803e-1e20f999086e",
   "metadata": {},
   "outputs": [],
   "source": []
  },
  {
   "cell_type": "code",
   "execution_count": null,
   "id": "6d765939-0070-43d5-a2b5-b0a0504dd2dd",
   "metadata": {},
   "outputs": [],
   "source": []
  },
  {
   "cell_type": "code",
   "execution_count": null,
   "id": "701763cc-2a9a-4ec1-8ef9-074fc0d5cf65",
   "metadata": {
    "scrolled": true
   },
   "outputs": [],
   "source": [
    "api_key: \"NYii5TfXY5KzhPP7RPf2Wj5eMOxiZPqFI1jDuKMB\"\n",
    "\n",
    "\n",
    "url = \"https://api.sportradar.com/mlb/trial/v8/en/players/80de60c9-74e3-4a50-b128-b3dc7456a254/profile.json\"\n",
    "\n",
    "headers = {\n",
    "    \"accept\": \"application/json\",\n",
    "    \"x-api-key\": \"NYii5TfXY5KzhPP7RPf2Wj5eMOxiZPqFI1jDuKMB\"\n",
    "}\n",
    "\n",
    "response = requests.get(url, headers=headers).json()\n",
    "\n",
    "print(response)"
   ]
  },
  {
   "cell_type": "code",
   "execution_count": null,
   "id": "cbf1e437-0948-4c1a-b3b3-aeb1334a34f0",
   "metadata": {},
   "outputs": [],
   "source": [
    "# GET https://api.sportradar.com/mlb/trial/v8/en/seasons/2025REG/statistics.json?api_key=YOUR_API_KEY"
   ]
  },
  {
   "cell_type": "code",
   "execution_count": null,
   "id": "a63b35ae-b08c-40c2-8bd7-4daf7a1583d3",
   "metadata": {},
   "outputs": [],
   "source": [
    "response"
   ]
  },
  {
   "cell_type": "code",
   "execution_count": null,
   "id": "15a983d8-a7db-48ee-9f31-09b1ffd8eda7",
   "metadata": {},
   "outputs": [],
   "source": [
    "#convert to json, call keys, dataframe and vis"
   ]
  },
  {
   "cell_type": "code",
   "execution_count": null,
   "id": "247d009c-9e5e-4b89-ab21-39f3b37abf91",
   "metadata": {},
   "outputs": [],
   "source": [
    "response.keys()"
   ]
  },
  {
   "cell_type": "code",
   "execution_count": null,
   "id": "bbe39c70-ec92-4d0e-bf6a-fcf6f6cb3aa1",
   "metadata": {},
   "outputs": [],
   "source": [
    "response['player'].keys()"
   ]
  },
  {
   "cell_type": "code",
   "execution_count": null,
   "id": "9e778f2f-3060-44af-b70a-7e918d63615f",
   "metadata": {
    "scrolled": true
   },
   "outputs": [],
   "source": [
    "response[\"player\"][2]"
   ]
  },
  {
   "cell_type": "code",
   "execution_count": null,
   "id": "719d1b90-dedc-4c81-a475-d5cc866c27e2",
   "metadata": {},
   "outputs": [],
   "source": [
    "#example if you have multiplayers\n",
    "rows = []\n",
    "players_list = response[\"player\"]\n",
    "\n",
    "for players in players_list:\n",
    "    Player_id = players['id'],\n",
    "    status = players['status']\n",
    "    primary_position = players['primary_position']\n",
    "    ...\n",
    "\n",
    "    rows.append({'id': Player_id,\n",
    "                 'status': status,\n",
    "                 'primary_position': primary_position\n",
    "                 ....\n",
    "                \n",
    "                })\n",
    "rows_to_df = pd.DataFrame(rows)"
   ]
  },
  {
   "cell_type": "code",
   "execution_count": null,
   "id": "48c4d613-9c22-41bd-b97d-833bd1af286e",
   "metadata": {},
   "outputs": [],
   "source": [
    "rows = []\n",
    "rows.append({'id': response[\"player\"]['id'],\n",
    "                 'status': response[\"player\"]['status'],\n",
    "                 'primary_position': response[\"player\"]['primary_position'] })\n",
    "rows_to_df = pd.DataFrame(rows)"
   ]
  },
  {
   "cell_type": "code",
   "execution_count": null,
   "id": "ffe809cf-dd64-4973-b7dd-1269735f7203",
   "metadata": {},
   "outputs": [],
   "source": [
    "rows_to_df"
   ]
  },
  {
   "cell_type": "code",
   "execution_count": null,
   "id": "a95d4297-8fc3-42db-a35a-e084715f091d",
   "metadata": {},
   "outputs": [],
   "source": []
  },
  {
   "cell_type": "code",
   "execution_count": null,
   "id": "dea79231-d5bf-4d37-87fb-a0a962d3cd59",
   "metadata": {},
   "outputs": [],
   "source": []
  },
  {
   "cell_type": "code",
   "execution_count": null,
   "id": "de7adf08-b007-4e0f-ad0a-02a66fdc5c46",
   "metadata": {},
   "outputs": [],
   "source": []
  },
  {
   "cell_type": "code",
   "execution_count": null,
   "id": "71a0ab15-bfce-4917-83b8-e4fb706e6160",
   "metadata": {
    "scrolled": true
   },
   "outputs": [],
   "source": [
    "dic1"
   ]
  },
  {
   "cell_type": "code",
   "execution_count": null,
   "id": "9a9245be-e22b-4c06-b66d-98411de00f86",
   "metadata": {},
   "outputs": [],
   "source": [
    "dic1.keys()"
   ]
  },
  {
   "cell_type": "code",
   "execution_count": null,
   "id": "b0e3c9e3-d33c-445d-93bc-41689a149e44",
   "metadata": {},
   "outputs": [],
   "source": [
    "items_list = list(dic1.items())\n",
    "print(items_list)"
   ]
  },
  {
   "cell_type": "code",
   "execution_count": null,
   "id": "665b4502-d5f3-4ed1-89f3-390ffe095c88",
   "metadata": {},
   "outputs": [],
   "source": [
    "for item in items_list:\n",
    "    print(type(item),item)"
   ]
  },
  {
   "cell_type": "code",
   "execution_count": null,
   "id": "9abf63db-0c78-4475-9a5f-5d019642aada",
   "metadata": {},
   "outputs": [],
   "source": [
    "my_dict= dict(items_list)"
   ]
  },
  {
   "cell_type": "code",
   "execution_count": null,
   "id": "448d6e2d-faa3-4ce8-9e99-ca788bb37546",
   "metadata": {},
   "outputs": [],
   "source": [
    "print(my_dict)"
   ]
  },
  {
   "cell_type": "code",
   "execution_count": null,
   "id": "677c8fe2-0127-4056-beee-7a2508156398",
   "metadata": {},
   "outputs": [],
   "source": [
    "df = pd.DataFrame(my_dict)"
   ]
  },
  {
   "cell_type": "code",
   "execution_count": null,
   "id": "aec8e8f9-ce70-4940-b0a4-632bd9cf1a8c",
   "metadata": {},
   "outputs": [],
   "source": [
    "\"\"\"\n",
    "url = \"https://api.sportradar.com/mlb/trial/v8/en/league/teams.json\"\n",
    "\n",
    "headers = {\n",
    "    \"accept\": \"application/json\",\n",
    "    \"x-api-key\": \"NYii5TfXY5KzhPP7RPf2Wj5eMOxiZPqFI1jDuKMB\"\n",
    "}\n",
    "\n",
    "response2 = requests.get(url, headers=headers).json()\n",
    "\n",
    "print(response2)\n",
    "\"\"\""
   ]
  },
  {
   "cell_type": "markdown",
   "id": "ec3f0fc0-aea6-45ed-b711-ffb434146456",
   "metadata": {},
   "source": []
  },
  {
   "cell_type": "code",
   "execution_count": null,
   "id": "044f7ad2-e929-4924-96f8-8cc1757dfe90",
   "metadata": {},
   "outputs": [],
   "source": []
  },
  {
   "cell_type": "code",
   "execution_count": null,
   "id": "ca60e096-2966-4e81-96a7-8d568190dcf0",
   "metadata": {},
   "outputs": [],
   "source": []
  },
  {
   "cell_type": "code",
   "execution_count": null,
   "id": "11a3ecb6-9403-4d8b-a99b-5b60455fd548",
   "metadata": {},
   "outputs": [],
   "source": []
  },
  {
   "cell_type": "code",
   "execution_count": null,
   "id": "e14146a0-6324-4b4f-ba74-9793c5e7e51b",
   "metadata": {},
   "outputs": [],
   "source": []
  },
  {
   "cell_type": "code",
   "execution_count": null,
   "id": "60fecdc0-5432-4d81-b37b-e79658da6819",
   "metadata": {},
   "outputs": [],
   "source": []
  },
  {
   "cell_type": "code",
   "execution_count": null,
   "id": "576e0658-c140-4cf8-b225-1862a93aaf4c",
   "metadata": {},
   "outputs": [],
   "source": []
  },
  {
   "cell_type": "code",
   "execution_count": null,
   "id": "9d79e0cb-d382-49d9-8ba8-9bbe68008c3f",
   "metadata": {},
   "outputs": [],
   "source": []
  },
  {
   "cell_type": "code",
   "execution_count": null,
   "id": "4decdcb0-c7ae-4b8e-b365-1afff50f8653",
   "metadata": {},
   "outputs": [],
   "source": []
  },
  {
   "cell_type": "code",
   "execution_count": null,
   "id": "54d2de07-3d79-4b60-813e-5d07d9b832fd",
   "metadata": {},
   "outputs": [],
   "source": [
    "#def player_search(): ; can choose via first_name or last_name\n",
    "# player input('Search name')"
   ]
  },
  {
   "cell_type": "code",
   "execution_count": null,
   "id": "ba2a1f55-ea85-493b-a419-645ebbc0acd2",
   "metadata": {},
   "outputs": [],
   "source": []
  },
  {
   "cell_type": "code",
   "execution_count": null,
   "id": "17e114ad-4cd5-45ce-9962-3dfe12b692de",
   "metadata": {},
   "outputs": [],
   "source": []
  },
  {
   "cell_type": "code",
   "execution_count": null,
   "id": "ed4eb487-8e57-4dc1-bc82-4e631d882278",
   "metadata": {},
   "outputs": [],
   "source": []
  },
  {
   "cell_type": "code",
   "execution_count": null,
   "id": "d9072928-76be-44b7-ba22-44a502200479",
   "metadata": {},
   "outputs": [],
   "source": []
  },
  {
   "cell_type": "code",
   "execution_count": null,
   "id": "e9e8e095-28dc-475e-8381-4b63714538af",
   "metadata": {},
   "outputs": [],
   "source": []
  },
  {
   "cell_type": "code",
   "execution_count": null,
   "id": "1c157f56-ea0c-40c5-ad99-9f6e89dcc040",
   "metadata": {},
   "outputs": [],
   "source": []
  },
  {
   "cell_type": "code",
   "execution_count": null,
   "id": "7d8a2536-db57-46b0-b00a-d160fd8d2d6b",
   "metadata": {},
   "outputs": [],
   "source": []
  },
  {
   "cell_type": "code",
   "execution_count": null,
   "id": "df6bb28e-43f4-40d0-9551-d100b6446754",
   "metadata": {},
   "outputs": [],
   "source": []
  },
  {
   "cell_type": "code",
   "execution_count": null,
   "id": "968f6d2f-18df-4b11-95c0-8b5964a3042c",
   "metadata": {},
   "outputs": [],
   "source": []
  },
  {
   "cell_type": "code",
   "execution_count": null,
   "id": "7c26e6f3-bd58-4a4a-b127-40ff39754e7a",
   "metadata": {},
   "outputs": [],
   "source": []
  },
  {
   "cell_type": "code",
   "execution_count": null,
   "id": "8ab41133-9319-4cad-80a8-de7c5d5abeb6",
   "metadata": {},
   "outputs": [],
   "source": []
  },
  {
   "cell_type": "code",
   "execution_count": null,
   "id": "50a8036d-8db1-4524-ae55-183b077035f7",
   "metadata": {},
   "outputs": [],
   "source": []
  },
  {
   "cell_type": "code",
   "execution_count": null,
   "id": "c4eba729-ed7e-4064-902b-399b308c88cb",
   "metadata": {},
   "outputs": [],
   "source": []
  },
  {
   "cell_type": "code",
   "execution_count": null,
   "id": "b712bc68-5b3e-44b3-8de9-a5cedb916cca",
   "metadata": {},
   "outputs": [],
   "source": []
  },
  {
   "cell_type": "code",
   "execution_count": null,
   "id": "3abe9e01-2c90-4c63-974f-99c915075535",
   "metadata": {},
   "outputs": [],
   "source": []
  },
  {
   "cell_type": "code",
   "execution_count": null,
   "id": "01556c30-e9f6-4bdc-94fb-960c82e6b2f8",
   "metadata": {},
   "outputs": [],
   "source": []
  },
  {
   "cell_type": "code",
   "execution_count": null,
   "id": "6aa42d82-ed39-43bb-a0ed-883f48e0487b",
   "metadata": {},
   "outputs": [],
   "source": []
  },
  {
   "cell_type": "code",
   "execution_count": null,
   "id": "4deefe17-b6c9-4189-ba61-13d6c26e4ffd",
   "metadata": {},
   "outputs": [],
   "source": []
  },
  {
   "cell_type": "code",
   "execution_count": null,
   "id": "713de781-cd49-433d-acf0-423a04068228",
   "metadata": {},
   "outputs": [],
   "source": []
  },
  {
   "cell_type": "code",
   "execution_count": null,
   "id": "5f41f1e3-f3fa-4251-98c4-e94b2eb1beb2",
   "metadata": {},
   "outputs": [],
   "source": []
  },
  {
   "cell_type": "code",
   "execution_count": null,
   "id": "cf0e8aba-2d82-4c58-b970-3aa7634611ff",
   "metadata": {},
   "outputs": [],
   "source": []
  },
  {
   "cell_type": "code",
   "execution_count": null,
   "id": "34f3165d-5dd0-4f09-a450-4780587ee7fa",
   "metadata": {},
   "outputs": [],
   "source": []
  },
  {
   "cell_type": "code",
   "execution_count": null,
   "id": "53c97f3c-5948-47d4-8a0d-c98ea84ba843",
   "metadata": {},
   "outputs": [],
   "source": []
  },
  {
   "cell_type": "code",
   "execution_count": null,
   "id": "76dcf128-862d-42c0-a259-2eb48a5dbb5a",
   "metadata": {},
   "outputs": [],
   "source": []
  },
  {
   "cell_type": "code",
   "execution_count": null,
   "id": "c582170b-f6f6-4575-93f2-f6d913025775",
   "metadata": {},
   "outputs": [],
   "source": []
  },
  {
   "cell_type": "code",
   "execution_count": null,
   "id": "b001b726-0bd9-48b2-887e-7edd13426193",
   "metadata": {},
   "outputs": [],
   "source": []
  },
  {
   "cell_type": "code",
   "execution_count": null,
   "id": "f8e03d46-cd35-49e1-84cb-e6ef29d5196b",
   "metadata": {},
   "outputs": [],
   "source": []
  },
  {
   "cell_type": "code",
   "execution_count": null,
   "id": "aaa77db1-a253-4f9c-83d1-84d78e996265",
   "metadata": {},
   "outputs": [],
   "source": []
  },
  {
   "cell_type": "code",
   "execution_count": null,
   "id": "001993db-65dc-4070-98af-73f72ea9d6aa",
   "metadata": {},
   "outputs": [],
   "source": []
  },
  {
   "cell_type": "code",
   "execution_count": null,
   "id": "9d61527e-0d4d-45c9-9ffd-97e489bd7d03",
   "metadata": {},
   "outputs": [],
   "source": []
  },
  {
   "cell_type": "code",
   "execution_count": null,
   "id": "458726b5-9a53-415e-ac10-5b241ae2c6e0",
   "metadata": {},
   "outputs": [],
   "source": []
  },
  {
   "cell_type": "code",
   "execution_count": null,
   "id": "227086e2-b69f-4aa4-82a7-8b20f0cd9a18",
   "metadata": {},
   "outputs": [],
   "source": []
  },
  {
   "cell_type": "code",
   "execution_count": null,
   "id": "ab511f82-4d7f-4db8-8fc4-f1bb1667f66c",
   "metadata": {},
   "outputs": [],
   "source": []
  }
 ],
 "metadata": {
  "kernelspec": {
   "display_name": "tf_env",
   "language": "python",
   "name": "python3"
  },
  "language_info": {
   "codemirror_mode": {
    "name": "ipython",
    "version": 3
   },
   "file_extension": ".py",
   "mimetype": "text/x-python",
   "name": "python",
   "nbconvert_exporter": "python",
   "pygments_lexer": "ipython3",
   "version": "3.9.21"
  }
 },
 "nbformat": 4,
 "nbformat_minor": 5
}
